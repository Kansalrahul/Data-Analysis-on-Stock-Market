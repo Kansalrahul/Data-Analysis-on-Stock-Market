{
 "cells": [
  {
   "cell_type": "code",
   "execution_count": 1,
   "id": "b002ed19",
   "metadata": {},
   "outputs": [
    {
     "data": {
      "text/html": [
       "        <script type=\"text/javascript\">\n",
       "        window.PlotlyConfig = {MathJaxConfig: 'local'};\n",
       "        if (window.MathJax) {MathJax.Hub.Config({SVG: {font: \"STIX-Web\"}});}\n",
       "        if (typeof require !== 'undefined') {\n",
       "        require.undef(\"plotly\");\n",
       "        requirejs.config({\n",
       "            paths: {\n",
       "                'plotly': ['https://cdn.plot.ly/plotly-2.9.0.min']\n",
       "            }\n",
       "        });\n",
       "        require(['plotly'], function(Plotly) {\n",
       "            window._Plotly = Plotly;\n",
       "        });\n",
       "        }\n",
       "        </script>\n",
       "        "
      ]
     },
     "metadata": {},
     "output_type": "display_data"
    }
   ],
   "source": [
    "import pandas as pd\n",
    "import pdftables_api\n",
    "import plotly as py\n",
    "import matplotlib as plt\n",
    "import cufflinks as cf\n",
    "\n",
    "cf.go_offline()"
   ]
  },
  {
   "cell_type": "code",
   "execution_count": null,
   "id": "b3e67807",
   "metadata": {},
   "outputs": [],
   "source": [
    "conversion =  pdftables_api.Client('w68k4dzvfqem')\n",
    "conversion.csv(\"Indian Stock Market Data.pdf\",'Indian Stock Market Data')"
   ]
  },
  {
   "cell_type": "code",
   "execution_count": 4,
   "id": "98880f15",
   "metadata": {},
   "outputs": [
    {
     "data": {
      "text/html": [
       "<div>\n",
       "<style scoped>\n",
       "    .dataframe tbody tr th:only-of-type {\n",
       "        vertical-align: middle;\n",
       "    }\n",
       "\n",
       "    .dataframe tbody tr th {\n",
       "        vertical-align: top;\n",
       "    }\n",
       "\n",
       "    .dataframe thead th {\n",
       "        text-align: right;\n",
       "    }\n",
       "</style>\n",
       "<table border=\"1\" class=\"dataframe\">\n",
       "  <thead>\n",
       "    <tr style=\"text-align: right;\">\n",
       "      <th></th>\n",
       "      <th>Data Analytics -Indian Stock Market Top 2000</th>\n",
       "      <th>Unnamed: 1</th>\n",
       "      <th>Unnamed: 2</th>\n",
       "      <th>Unnamed: 3</th>\n",
       "      <th>Unnamed: 4</th>\n",
       "      <th>Unnamed: 5</th>\n",
       "      <th>Unnamed: 6</th>\n",
       "      <th>Unnamed: 7</th>\n",
       "      <th>Unnamed: 8</th>\n",
       "      <th>Unnamed: 9</th>\n",
       "      <th>Unnamed: 10</th>\n",
       "      <th>Unnamed: 11</th>\n",
       "      <th>Unnamed: 12</th>\n",
       "      <th>Unnamed: 13</th>\n",
       "      <th>Unnamed: 14</th>\n",
       "    </tr>\n",
       "  </thead>\n",
       "  <tbody>\n",
       "    <tr>\n",
       "      <th>0</th>\n",
       "      <td>Name</td>\n",
       "      <td>Ticker</td>\n",
       "      <td>Sub-Sector</td>\n",
       "      <td>Market Cap</td>\n",
       "      <td>Close Price</td>\n",
       "      <td>PE Ratio</td>\n",
       "      <td>Return on Equity</td>\n",
       "      <td>Return on Assets</td>\n",
       "      <td>Net Profit Margin</td>\n",
       "      <td>5Y Avg EBITDA Margin</td>\n",
       "      <td>EBITDA Margin</td>\n",
       "      <td>1Y Return vs Nifty</td>\n",
       "      <td>5Y CAGR</td>\n",
       "      <td>Debt to Equity</td>\n",
       "      <td>Long Term Debt to Equity</td>\n",
       "    </tr>\n",
       "    <tr>\n",
       "      <th>1</th>\n",
       "      <td>Reliance Industries Ltd</td>\n",
       "      <td>RELIANCE</td>\n",
       "      <td>Oil &amp; Gas - Refining &amp; Marketing</td>\n",
       "      <td>1679534.21004169</td>\n",
       "      <td>2467.4</td>\n",
       "      <td>34.1869038031609</td>\n",
       "      <td>7.79327701365584</td>\n",
       "      <td>3.95702111893294</td>\n",
       "      <td>9.72537033334455</td>\n",
       "      <td>17.7204943756918</td>\n",
       "      <td>20.4338091627685</td>\n",
       "      <td>2.41229503539891</td>\n",
       "      <td>31.3161801309262</td>\n",
       "      <td>33.8550370763242</td>\n",
       "      <td>22.831210159213</td>\n",
       "    </tr>\n",
       "    <tr>\n",
       "      <th>2</th>\n",
       "      <td>Tata Consultancy Services Ltd</td>\n",
       "      <td>TCS</td>\n",
       "      <td>IT Services &amp; Consulting</td>\n",
       "      <td>1358569.09301858</td>\n",
       "      <td>3626.7</td>\n",
       "      <td>41.8923556280783</td>\n",
       "      <td>37.7406797511885</td>\n",
       "      <td>25.9323822927329</td>\n",
       "      <td>19.3830650704377</td>\n",
       "      <td>29.0725284004738</td>\n",
       "      <td>28.9652204577105</td>\n",
       "      <td>2.80164793904623</td>\n",
       "      <td>23.8749940753093</td>\n",
       "      <td>8.94866143178583</td>\n",
       "      <td>7.46544519447123</td>\n",
       "    </tr>\n",
       "    <tr>\n",
       "      <th>3</th>\n",
       "      <td>HDFC Bank Ltd</td>\n",
       "      <td>HDFCBANK</td>\n",
       "      <td>Private Banks</td>\n",
       "      <td>820636.27490988</td>\n",
       "      <td>1486.5</td>\n",
       "      <td>25.7792579731186</td>\n",
       "      <td>16.4352004229457</td>\n",
       "      <td>1.8834334766503</td>\n",
       "      <td>20.4209159723686</td>\n",
       "      <td>28.2061160124953</td>\n",
       "      <td>28.3420941568116</td>\n",
       "      <td>-16.8333096307193</td>\n",
       "      <td>15.5878574220899</td>\n",
       "      <td>NaN</td>\n",
       "      <td>NaN</td>\n",
       "    </tr>\n",
       "    <tr>\n",
       "      <th>4</th>\n",
       "      <td>Infosys Ltd</td>\n",
       "      <td>INFY</td>\n",
       "      <td>IT Services &amp; Consulting</td>\n",
       "      <td>777500.97598866</td>\n",
       "      <td>1853.05</td>\n",
       "      <td>40.1788525651729</td>\n",
       "      <td>27.135304923366</td>\n",
       "      <td>19.4178946470591</td>\n",
       "      <td>18.8472139705668</td>\n",
       "      <td>28.656802120749</td>\n",
       "      <td>29.3066336816885</td>\n",
       "      <td>21.7308437107461</td>\n",
       "      <td>29.1145348466698</td>\n",
       "      <td>6.93521919199813</td>\n",
       "      <td>5.97405641947331</td>\n",
       "    </tr>\n",
       "    <tr>\n",
       "      <th>...</th>\n",
       "      <td>...</td>\n",
       "      <td>...</td>\n",
       "      <td>...</td>\n",
       "      <td>...</td>\n",
       "      <td>...</td>\n",
       "      <td>...</td>\n",
       "      <td>...</td>\n",
       "      <td>...</td>\n",
       "      <td>...</td>\n",
       "      <td>...</td>\n",
       "      <td>...</td>\n",
       "      <td>...</td>\n",
       "      <td>...</td>\n",
       "      <td>...</td>\n",
       "      <td>...</td>\n",
       "    </tr>\n",
       "    <tr>\n",
       "      <th>6003</th>\n",
       "      <td>16.0167204538506</td>\n",
       "      <td>0</td>\n",
       "      <td>0</td>\n",
       "      <td>13167</td>\n",
       "      <td>830.45</td>\n",
       "      <td>13.95</td>\n",
       "      <td>11.69</td>\n",
       "      <td>4.73893399463261</td>\n",
       "      <td>65.98</td>\n",
       "      <td>0.14</td>\n",
       "      <td>144.17</td>\n",
       "      <td>20.66</td>\n",
       "      <td>202.67</td>\n",
       "      <td>-8.33</td>\n",
       "      <td>6.96</td>\n",
       "    </tr>\n",
       "    <tr>\n",
       "      <th>6004</th>\n",
       "      <td>5.39727264704814</td>\n",
       "      <td>0</td>\n",
       "      <td>0</td>\n",
       "      <td>3860</td>\n",
       "      <td>192.38</td>\n",
       "      <td>1.37</td>\n",
       "      <td>1.92</td>\n",
       "      <td>0.711167404654252</td>\n",
       "      <td>17.65</td>\n",
       "      <td>0</td>\n",
       "      <td>47.98</td>\n",
       "      <td>0.42</td>\n",
       "      <td>89.14</td>\n",
       "      <td>30.05</td>\n",
       "      <td>32.51</td>\n",
       "    </tr>\n",
       "    <tr>\n",
       "      <th>6005</th>\n",
       "      <td>22.3858333333333</td>\n",
       "      <td>0</td>\n",
       "      <td>0</td>\n",
       "      <td>3988</td>\n",
       "      <td>92.59</td>\n",
       "      <td>8.53</td>\n",
       "      <td>9.14</td>\n",
       "      <td>710.833333333334</td>\n",
       "      <td>19.62</td>\n",
       "      <td>0.99</td>\n",
       "      <td>103.96</td>\n",
       "      <td>6.63</td>\n",
       "      <td>104.77</td>\n",
       "      <td>13.2</td>\n",
       "      <td>22.41</td>\n",
       "    </tr>\n",
       "    <tr>\n",
       "      <th>6006</th>\n",
       "      <td>10.3728387747807</td>\n",
       "      <td>0</td>\n",
       "      <td>0</td>\n",
       "      <td>5466</td>\n",
       "      <td>97.24</td>\n",
       "      <td>60.63</td>\n",
       "      <td>69.53</td>\n",
       "      <td>48.2391746494425</td>\n",
       "      <td>69.56</td>\n",
       "      <td>204.91</td>\n",
       "      <td>236.96</td>\n",
       "      <td>29.74</td>\n",
       "      <td>253.23</td>\n",
       "      <td>-13.07</td>\n",
       "      <td>-13.03</td>\n",
       "    </tr>\n",
       "    <tr>\n",
       "      <th>6007</th>\n",
       "      <td>45</td>\n",
       "      <td>NaN</td>\n",
       "      <td>NaN</td>\n",
       "      <td>NaN</td>\n",
       "      <td>NaN</td>\n",
       "      <td>NaN</td>\n",
       "      <td>NaN</td>\n",
       "      <td>NaN</td>\n",
       "      <td>NaN</td>\n",
       "      <td>NaN</td>\n",
       "      <td>NaN</td>\n",
       "      <td>NaN</td>\n",
       "      <td>NaN</td>\n",
       "      <td>NaN</td>\n",
       "      <td>NaN</td>\n",
       "    </tr>\n",
       "  </tbody>\n",
       "</table>\n",
       "<p>6008 rows × 15 columns</p>\n",
       "</div>"
      ],
      "text/plain": [
       "     Data Analytics -Indian Stock Market Top 2000 Unnamed: 1  \\\n",
       "0                                            Name     Ticker   \n",
       "1                         Reliance Industries Ltd   RELIANCE   \n",
       "2                   Tata Consultancy Services Ltd        TCS   \n",
       "3                                   HDFC Bank Ltd   HDFCBANK   \n",
       "4                                     Infosys Ltd       INFY   \n",
       "...                                           ...        ...   \n",
       "6003                             16.0167204538506          0   \n",
       "6004                             5.39727264704814          0   \n",
       "6005                             22.3858333333333          0   \n",
       "6006                             10.3728387747807          0   \n",
       "6007                                           45        NaN   \n",
       "\n",
       "                            Unnamed: 2        Unnamed: 3   Unnamed: 4  \\\n",
       "0                           Sub-Sector        Market Cap  Close Price   \n",
       "1     Oil & Gas - Refining & Marketing  1679534.21004169       2467.4   \n",
       "2             IT Services & Consulting  1358569.09301858       3626.7   \n",
       "3                        Private Banks   820636.27490988       1486.5   \n",
       "4             IT Services & Consulting   777500.97598866      1853.05   \n",
       "...                                ...               ...          ...   \n",
       "6003                                 0             13167       830.45   \n",
       "6004                                 0              3860       192.38   \n",
       "6005                                 0              3988        92.59   \n",
       "6006                                 0              5466        97.24   \n",
       "6007                               NaN               NaN          NaN   \n",
       "\n",
       "            Unnamed: 5        Unnamed: 6         Unnamed: 7  \\\n",
       "0             PE Ratio  Return on Equity   Return on Assets   \n",
       "1     34.1869038031609  7.79327701365584   3.95702111893294   \n",
       "2     41.8923556280783  37.7406797511885   25.9323822927329   \n",
       "3     25.7792579731186  16.4352004229457    1.8834334766503   \n",
       "4     40.1788525651729   27.135304923366   19.4178946470591   \n",
       "...                ...               ...                ...   \n",
       "6003             13.95             11.69   4.73893399463261   \n",
       "6004              1.37              1.92  0.711167404654252   \n",
       "6005              8.53              9.14   710.833333333334   \n",
       "6006             60.63             69.53   48.2391746494425   \n",
       "6007               NaN               NaN                NaN   \n",
       "\n",
       "             Unnamed: 8            Unnamed: 9       Unnamed: 10  \\\n",
       "0     Net Profit Margin  5Y Avg EBITDA Margin     EBITDA Margin   \n",
       "1      9.72537033334455      17.7204943756918  20.4338091627685   \n",
       "2      19.3830650704377      29.0725284004738  28.9652204577105   \n",
       "3      20.4209159723686      28.2061160124953  28.3420941568116   \n",
       "4      18.8472139705668       28.656802120749  29.3066336816885   \n",
       "...                 ...                   ...               ...   \n",
       "6003              65.98                  0.14            144.17   \n",
       "6004              17.65                     0             47.98   \n",
       "6005              19.62                  0.99            103.96   \n",
       "6006              69.56                204.91            236.96   \n",
       "6007                NaN                   NaN               NaN   \n",
       "\n",
       "             Unnamed: 11       Unnamed: 12       Unnamed: 13  \\\n",
       "0     1Y Return vs Nifty           5Y CAGR    Debt to Equity   \n",
       "1       2.41229503539891  31.3161801309262  33.8550370763242   \n",
       "2       2.80164793904623  23.8749940753093  8.94866143178583   \n",
       "3      -16.8333096307193  15.5878574220899               NaN   \n",
       "4       21.7308437107461  29.1145348466698  6.93521919199813   \n",
       "...                  ...               ...               ...   \n",
       "6003               20.66            202.67             -8.33   \n",
       "6004                0.42             89.14             30.05   \n",
       "6005                6.63            104.77              13.2   \n",
       "6006               29.74            253.23            -13.07   \n",
       "6007                 NaN               NaN               NaN   \n",
       "\n",
       "                   Unnamed: 14  \n",
       "0     Long Term Debt to Equity  \n",
       "1              22.831210159213  \n",
       "2             7.46544519447123  \n",
       "3                          NaN  \n",
       "4             5.97405641947331  \n",
       "...                        ...  \n",
       "6003                      6.96  \n",
       "6004                     32.51  \n",
       "6005                     22.41  \n",
       "6006                    -13.03  \n",
       "6007                       NaN  \n",
       "\n",
       "[6008 rows x 15 columns]"
      ]
     },
     "execution_count": 4,
     "metadata": {},
     "output_type": "execute_result"
    }
   ],
   "source": [
    "pd.read_csv('Indian Stock Market Data.csv')"
   ]
  },
  {
   "cell_type": "code",
   "execution_count": 5,
   "id": "fe770a79",
   "metadata": {},
   "outputs": [],
   "source": [
    "df=pd.read_csv('Indian Stock Market Data.csv',header=1)"
   ]
  },
  {
   "cell_type": "code",
   "execution_count": 6,
   "id": "15284767",
   "metadata": {},
   "outputs": [
    {
     "data": {
      "text/html": [
       "<div>\n",
       "<style scoped>\n",
       "    .dataframe tbody tr th:only-of-type {\n",
       "        vertical-align: middle;\n",
       "    }\n",
       "\n",
       "    .dataframe tbody tr th {\n",
       "        vertical-align: top;\n",
       "    }\n",
       "\n",
       "    .dataframe thead th {\n",
       "        text-align: right;\n",
       "    }\n",
       "</style>\n",
       "<table border=\"1\" class=\"dataframe\">\n",
       "  <thead>\n",
       "    <tr style=\"text-align: right;\">\n",
       "      <th></th>\n",
       "      <th>Name</th>\n",
       "      <th>Ticker</th>\n",
       "      <th>Sub-Sector</th>\n",
       "      <th>Market Cap</th>\n",
       "      <th>Close Price</th>\n",
       "      <th>PE Ratio</th>\n",
       "      <th>Return on Equity</th>\n",
       "      <th>Return on Assets</th>\n",
       "      <th>Net Profit Margin</th>\n",
       "      <th>5Y Avg EBITDA Margin</th>\n",
       "      <th>EBITDA Margin</th>\n",
       "      <th>1Y Return vs Nifty</th>\n",
       "      <th>5Y CAGR</th>\n",
       "      <th>Debt to Equity</th>\n",
       "      <th>Long Term Debt to Equity</th>\n",
       "    </tr>\n",
       "  </thead>\n",
       "  <tbody>\n",
       "    <tr>\n",
       "      <th>0</th>\n",
       "      <td>Reliance Industries Ltd</td>\n",
       "      <td>RELIANCE</td>\n",
       "      <td>Oil &amp; Gas - Refining &amp; Marketing</td>\n",
       "      <td>1679534.21004169</td>\n",
       "      <td>2467.4</td>\n",
       "      <td>34.1869038031609</td>\n",
       "      <td>7.79327701365584</td>\n",
       "      <td>3.95702111893294</td>\n",
       "      <td>9.72537033334455</td>\n",
       "      <td>17.7204943756918</td>\n",
       "      <td>20.4338091627685</td>\n",
       "      <td>2.41229503539891</td>\n",
       "      <td>31.3161801309262</td>\n",
       "      <td>33.8550370763242</td>\n",
       "      <td>22.831210159213</td>\n",
       "    </tr>\n",
       "    <tr>\n",
       "      <th>1</th>\n",
       "      <td>Tata Consultancy Services Ltd</td>\n",
       "      <td>TCS</td>\n",
       "      <td>IT Services &amp; Consulting</td>\n",
       "      <td>1358569.09301858</td>\n",
       "      <td>3626.7</td>\n",
       "      <td>41.8923556280783</td>\n",
       "      <td>37.7406797511885</td>\n",
       "      <td>25.9323822927329</td>\n",
       "      <td>19.3830650704377</td>\n",
       "      <td>29.0725284004738</td>\n",
       "      <td>28.9652204577105</td>\n",
       "      <td>2.80164793904623</td>\n",
       "      <td>23.8749940753093</td>\n",
       "      <td>8.94866143178583</td>\n",
       "      <td>7.46544519447123</td>\n",
       "    </tr>\n",
       "    <tr>\n",
       "      <th>2</th>\n",
       "      <td>HDFC Bank Ltd</td>\n",
       "      <td>HDFCBANK</td>\n",
       "      <td>Private Banks</td>\n",
       "      <td>820636.27490988</td>\n",
       "      <td>1486.5</td>\n",
       "      <td>25.7792579731186</td>\n",
       "      <td>16.4352004229457</td>\n",
       "      <td>1.8834334766503</td>\n",
       "      <td>20.4209159723686</td>\n",
       "      <td>28.2061160124953</td>\n",
       "      <td>28.3420941568116</td>\n",
       "      <td>-16.8333096307193</td>\n",
       "      <td>15.5878574220899</td>\n",
       "      <td>NaN</td>\n",
       "      <td>NaN</td>\n",
       "    </tr>\n",
       "    <tr>\n",
       "      <th>3</th>\n",
       "      <td>Infosys Ltd</td>\n",
       "      <td>INFY</td>\n",
       "      <td>IT Services &amp; Consulting</td>\n",
       "      <td>777500.97598866</td>\n",
       "      <td>1853.05</td>\n",
       "      <td>40.1788525651729</td>\n",
       "      <td>27.135304923366</td>\n",
       "      <td>19.4178946470591</td>\n",
       "      <td>18.8472139705668</td>\n",
       "      <td>28.656802120749</td>\n",
       "      <td>29.3066336816885</td>\n",
       "      <td>21.7308437107461</td>\n",
       "      <td>29.1145348466698</td>\n",
       "      <td>6.93521919199813</td>\n",
       "      <td>5.97405641947331</td>\n",
       "    </tr>\n",
       "    <tr>\n",
       "      <th>4</th>\n",
       "      <td>ICICI Bank Ltd</td>\n",
       "      <td>ICICIBANK</td>\n",
       "      <td>Private Banks</td>\n",
       "      <td>500279.04190316</td>\n",
       "      <td>710.75</td>\n",
       "      <td>27.2122827510611</td>\n",
       "      <td>12.3828973275142</td>\n",
       "      <td>1.24333269519827</td>\n",
       "      <td>11.3950119275574</td>\n",
       "      <td>11.9005430056793</td>\n",
       "      <td>16.9635544895708</td>\n",
       "      <td>5.05525802237792</td>\n",
       "      <td>23.5069867270152</td>\n",
       "      <td>NaN</td>\n",
       "      <td>NaN</td>\n",
       "    </tr>\n",
       "    <tr>\n",
       "      <th>...</th>\n",
       "      <td>...</td>\n",
       "      <td>...</td>\n",
       "      <td>...</td>\n",
       "      <td>...</td>\n",
       "      <td>...</td>\n",
       "      <td>...</td>\n",
       "      <td>...</td>\n",
       "      <td>...</td>\n",
       "      <td>...</td>\n",
       "      <td>...</td>\n",
       "      <td>...</td>\n",
       "      <td>...</td>\n",
       "      <td>...</td>\n",
       "      <td>...</td>\n",
       "      <td>...</td>\n",
       "    </tr>\n",
       "    <tr>\n",
       "      <th>6002</th>\n",
       "      <td>16.0167204538506</td>\n",
       "      <td>0</td>\n",
       "      <td>0</td>\n",
       "      <td>13167</td>\n",
       "      <td>830.45</td>\n",
       "      <td>13.95</td>\n",
       "      <td>11.69</td>\n",
       "      <td>4.73893399463261</td>\n",
       "      <td>65.98</td>\n",
       "      <td>0.14</td>\n",
       "      <td>144.17</td>\n",
       "      <td>20.66</td>\n",
       "      <td>202.67</td>\n",
       "      <td>-8.33</td>\n",
       "      <td>6.96</td>\n",
       "    </tr>\n",
       "    <tr>\n",
       "      <th>6003</th>\n",
       "      <td>5.39727264704814</td>\n",
       "      <td>0</td>\n",
       "      <td>0</td>\n",
       "      <td>3860</td>\n",
       "      <td>192.38</td>\n",
       "      <td>1.37</td>\n",
       "      <td>1.92</td>\n",
       "      <td>0.711167404654252</td>\n",
       "      <td>17.65</td>\n",
       "      <td>0</td>\n",
       "      <td>47.98</td>\n",
       "      <td>0.42</td>\n",
       "      <td>89.14</td>\n",
       "      <td>30.05</td>\n",
       "      <td>32.51</td>\n",
       "    </tr>\n",
       "    <tr>\n",
       "      <th>6004</th>\n",
       "      <td>22.3858333333333</td>\n",
       "      <td>0</td>\n",
       "      <td>0</td>\n",
       "      <td>3988</td>\n",
       "      <td>92.59</td>\n",
       "      <td>8.53</td>\n",
       "      <td>9.14</td>\n",
       "      <td>710.833333333334</td>\n",
       "      <td>19.62</td>\n",
       "      <td>0.99</td>\n",
       "      <td>103.96</td>\n",
       "      <td>6.63</td>\n",
       "      <td>104.77</td>\n",
       "      <td>13.2</td>\n",
       "      <td>22.41</td>\n",
       "    </tr>\n",
       "    <tr>\n",
       "      <th>6005</th>\n",
       "      <td>10.3728387747807</td>\n",
       "      <td>0</td>\n",
       "      <td>0</td>\n",
       "      <td>5466</td>\n",
       "      <td>97.24</td>\n",
       "      <td>60.63</td>\n",
       "      <td>69.53</td>\n",
       "      <td>48.2391746494425</td>\n",
       "      <td>69.56</td>\n",
       "      <td>204.91</td>\n",
       "      <td>236.96</td>\n",
       "      <td>29.74</td>\n",
       "      <td>253.23</td>\n",
       "      <td>-13.07</td>\n",
       "      <td>-13.03</td>\n",
       "    </tr>\n",
       "    <tr>\n",
       "      <th>6006</th>\n",
       "      <td>45</td>\n",
       "      <td>NaN</td>\n",
       "      <td>NaN</td>\n",
       "      <td>NaN</td>\n",
       "      <td>NaN</td>\n",
       "      <td>NaN</td>\n",
       "      <td>NaN</td>\n",
       "      <td>NaN</td>\n",
       "      <td>NaN</td>\n",
       "      <td>NaN</td>\n",
       "      <td>NaN</td>\n",
       "      <td>NaN</td>\n",
       "      <td>NaN</td>\n",
       "      <td>NaN</td>\n",
       "      <td>NaN</td>\n",
       "    </tr>\n",
       "  </tbody>\n",
       "</table>\n",
       "<p>6007 rows × 15 columns</p>\n",
       "</div>"
      ],
      "text/plain": [
       "                               Name     Ticker  \\\n",
       "0           Reliance Industries Ltd   RELIANCE   \n",
       "1     Tata Consultancy Services Ltd        TCS   \n",
       "2                     HDFC Bank Ltd   HDFCBANK   \n",
       "3                       Infosys Ltd       INFY   \n",
       "4                    ICICI Bank Ltd  ICICIBANK   \n",
       "...                             ...        ...   \n",
       "6002               16.0167204538506          0   \n",
       "6003               5.39727264704814          0   \n",
       "6004               22.3858333333333          0   \n",
       "6005               10.3728387747807          0   \n",
       "6006                             45        NaN   \n",
       "\n",
       "                            Sub-Sector        Market Cap Close Price  \\\n",
       "0     Oil & Gas - Refining & Marketing  1679534.21004169      2467.4   \n",
       "1             IT Services & Consulting  1358569.09301858      3626.7   \n",
       "2                        Private Banks   820636.27490988      1486.5   \n",
       "3             IT Services & Consulting   777500.97598866     1853.05   \n",
       "4                        Private Banks   500279.04190316      710.75   \n",
       "...                                ...               ...         ...   \n",
       "6002                                 0             13167      830.45   \n",
       "6003                                 0              3860      192.38   \n",
       "6004                                 0              3988       92.59   \n",
       "6005                                 0              5466       97.24   \n",
       "6006                               NaN               NaN         NaN   \n",
       "\n",
       "              PE Ratio  Return on Equity   Return on Assets Net Profit Margin  \\\n",
       "0     34.1869038031609  7.79327701365584   3.95702111893294  9.72537033334455   \n",
       "1     41.8923556280783  37.7406797511885   25.9323822927329  19.3830650704377   \n",
       "2     25.7792579731186  16.4352004229457    1.8834334766503  20.4209159723686   \n",
       "3     40.1788525651729   27.135304923366   19.4178946470591  18.8472139705668   \n",
       "4     27.2122827510611  12.3828973275142   1.24333269519827  11.3950119275574   \n",
       "...                ...               ...                ...               ...   \n",
       "6002             13.95             11.69   4.73893399463261             65.98   \n",
       "6003              1.37              1.92  0.711167404654252             17.65   \n",
       "6004              8.53              9.14   710.833333333334             19.62   \n",
       "6005             60.63             69.53   48.2391746494425             69.56   \n",
       "6006               NaN               NaN                NaN               NaN   \n",
       "\n",
       "     5Y Avg EBITDA Margin     EBITDA Margin 1Y Return vs Nifty  \\\n",
       "0        17.7204943756918  20.4338091627685   2.41229503539891   \n",
       "1        29.0725284004738  28.9652204577105   2.80164793904623   \n",
       "2        28.2061160124953  28.3420941568116  -16.8333096307193   \n",
       "3         28.656802120749  29.3066336816885   21.7308437107461   \n",
       "4        11.9005430056793  16.9635544895708   5.05525802237792   \n",
       "...                   ...               ...                ...   \n",
       "6002                 0.14            144.17              20.66   \n",
       "6003                    0             47.98               0.42   \n",
       "6004                 0.99            103.96               6.63   \n",
       "6005               204.91            236.96              29.74   \n",
       "6006                  NaN               NaN                NaN   \n",
       "\n",
       "               5Y CAGR    Debt to Equity Long Term Debt to Equity  \n",
       "0     31.3161801309262  33.8550370763242          22.831210159213  \n",
       "1     23.8749940753093  8.94866143178583         7.46544519447123  \n",
       "2     15.5878574220899               NaN                      NaN  \n",
       "3     29.1145348466698  6.93521919199813         5.97405641947331  \n",
       "4     23.5069867270152               NaN                      NaN  \n",
       "...                ...               ...                      ...  \n",
       "6002            202.67             -8.33                     6.96  \n",
       "6003             89.14             30.05                    32.51  \n",
       "6004            104.77              13.2                    22.41  \n",
       "6005            253.23            -13.07                   -13.03  \n",
       "6006               NaN               NaN                      NaN  \n",
       "\n",
       "[6007 rows x 15 columns]"
      ]
     },
     "execution_count": 6,
     "metadata": {},
     "output_type": "execute_result"
    }
   ],
   "source": [
    "df"
   ]
  },
  {
   "cell_type": "code",
   "execution_count": 7,
   "id": "00d066e1",
   "metadata": {},
   "outputs": [],
   "source": [
    "df2=df['Sub-Sector'].head(2016)"
   ]
  },
  {
   "cell_type": "code",
   "execution_count": 8,
   "id": "e7588962",
   "metadata": {},
   "outputs": [],
   "source": [
    "df3=df2.value_counts()"
   ]
  },
  {
   "cell_type": "code",
   "execution_count": 9,
   "id": "44da4f96",
   "metadata": {},
   "outputs": [
    {
     "data": {
      "application/vnd.plotly.v1+json": {
       "config": {
        "linkText": "Export to plot.ly",
        "plotlyServerURL": "https://plot.ly",
        "showLink": true
       },
       "data": [
        {
         "marker": {
          "color": "rgba(255, 153, 51, 0.6)",
          "line": {
           "color": "rgba(255, 153, 51, 1.0)",
           "width": 1
          }
         },
         "name": "Sub-Sector",
         "orientation": "v",
         "text": "",
         "type": "bar",
         "x": [
          "Pharmaceuticals",
          "Textiles",
          "Auto Parts",
          "Industrial Machinery",
          "Commodity Chemicals",
          "Iron & Steel",
          "Real Estate",
          "Specialty Chemicals",
          "Construction & Engineering",
          "IT Services & Consulting",
          "Diversified Financials",
          "Cement",
          "Fertilizers & Agro Chemicals",
          "Investment Banking & Brokerage",
          "Software Services",
          "Apparel & Accessories",
          "Consumer Finance",
          "Electrical Components & Equipments",
          "Hotels, Resorts & Cruise Lines",
          "Logistics",
          "Paper Products",
          "Packaged Foods & Meats",
          "Asset Management",
          "Private Banks",
          "Sugar",
          "Equity",
          "Packaging",
          "Conglomerates",
          "Agro Products",
          "Home Electronics & Appliances",
          "FMCG - Foods",
          "Hospitals & Diagnostic Centres",
          "Commodities Trading",
          "Precious Metals, Jewellery & Watches",
          "Heavy Electrical Equipments",
          "Building Products - Pipes",
          "Diversified Chemicals",
          "Tires & Rubber",
          "Alcoholic Beverages",
          "Public Banks",
          "Metals - Diversified",
          "Tea & Coffee",
          "0",
          "FMCG - Personal Products",
          "Home Financing",
          "Plastic Products",
          "Business Support Services",
          "Specialized Finance",
          "Online Services",
          "Electronic Equipments",
          "Renewable Energy",
          "Movies & TV Serials",
          "Insurance",
          "Education Services",
          "Roads",
          "Power Generation",
          "Gold",
          "TV Channels & Broadcasters",
          "Outsourced services",
          "Mining - Diversified",
          "Labs & Life Sciences Services",
          "Cables",
          "Building Products - Ceramics",
          "Footwear",
          "Technology Hardware",
          "Restaurants & Cafes",
          "Batteries",
          "Telecom Equipments",
          "Oil & Gas - Equipment & Services",
          "Publishing",
          "Oil & Gas - Refining & Marketing",
          "Gas Distribution",
          "Aerospace & Defense Equipments",
          "Metals - Aluminium",
          "Oil & Gas - Exploration & Production",
          "Home Furnishing",
          "Communication & Networking",
          "Retail - Department Stores",
          "Shipbuilding",
          "Four Wheelers",
          "Housewares",
          "Power Transmission & Distribution",
          "Debt",
          "Telecom Services",
          "Stock Exchanges & Ratings",
          "Biotechnology",
          "Cable & D2H",
          "Heavy Machinery",
          "Paints",
          "Renewable Energy Equipment & Services",
          "Retail - Apparel",
          "Oil & Gas - Storage & Transportation",
          "Trucks & Buses",
          "Health Care Equipment & Supplies",
          "Power Infrastructure",
          "Wood Products",
          "Rail",
          "FMCG - Tobacco",
          "Building Products - Granite",
          "Theme Parks & Gaming",
          "Advertising",
          "Stationery",
          "Tractors",
          "Tour & Travel Services",
          "Telecom Infrastructure",
          "Seeds",
          "Agricultural & Farm Machinery",
          "Power Trading & Consultancy",
          "Two Wheelers",
          "Airlines",
          "Building Products - Laminates",
          "Radio",
          "Metals - Lead",
          "FMCG - Household Products",
          "Three Wheelers",
          "Metals - Coke",
          "Theatres",
          "Retail - Speciality",
          "Water Management",
          "Employment Services",
          "Ports",
          "Wellness Services",
          "Metals - Iron",
          "Retail - Online",
          "Dredging",
          "Building Products - Prefab Structures",
          "Airports",
          "Cycles",
          "Environmental Services",
          "Animation",
          "Mining - Manganese",
          "Infra REIT",
          "Renewable Energy Equipment & Services 8987.007936075",
          "Mining - Coal",
          "Mining - Copper",
          "Payment Infrastructure",
          "Mining - Iron Ore",
          "Soft Drinks",
          "5Y Historical EBITDA Growth"
         ],
         "y": [
          103,
          86,
          84,
          75,
          73,
          71,
          67,
          63,
          60,
          56,
          42,
          38,
          36,
          35,
          34,
          27,
          27,
          25,
          25,
          24,
          24,
          22,
          22,
          22,
          22,
          21,
          21,
          20,
          20,
          19,
          19,
          19,
          18,
          18,
          17,
          17,
          14,
          14,
          13,
          13,
          12,
          12,
          12,
          12,
          12,
          12,
          11,
          11,
          11,
          11,
          10,
          10,
          9,
          9,
          9,
          9,
          9,
          8,
          8,
          8,
          8,
          8,
          8,
          8,
          8,
          8,
          7,
          7,
          7,
          7,
          7,
          7,
          7,
          7,
          6,
          6,
          6,
          6,
          6,
          6,
          6,
          6,
          6,
          6,
          6,
          5,
          5,
          5,
          5,
          5,
          5,
          5,
          4,
          4,
          4,
          4,
          4,
          4,
          4,
          4,
          4,
          4,
          3,
          3,
          3,
          3,
          3,
          3,
          3,
          3,
          3,
          2,
          2,
          2,
          2,
          2,
          2,
          2,
          2,
          2,
          2,
          2,
          1,
          1,
          1,
          1,
          1,
          1,
          1,
          1,
          1,
          1,
          1,
          1,
          1,
          1,
          1,
          1,
          1
         ]
        }
       ],
       "layout": {
        "legend": {
         "bgcolor": "#F5F6F9",
         "font": {
          "color": "#4D5663"
         }
        },
        "paper_bgcolor": "#F5F6F9",
        "plot_bgcolor": "#F5F6F9",
        "template": {
         "data": {
          "bar": [
           {
            "error_x": {
             "color": "#2a3f5f"
            },
            "error_y": {
             "color": "#2a3f5f"
            },
            "marker": {
             "line": {
              "color": "#E5ECF6",
              "width": 0.5
             },
             "pattern": {
              "fillmode": "overlay",
              "size": 10,
              "solidity": 0.2
             }
            },
            "type": "bar"
           }
          ],
          "barpolar": [
           {
            "marker": {
             "line": {
              "color": "#E5ECF6",
              "width": 0.5
             },
             "pattern": {
              "fillmode": "overlay",
              "size": 10,
              "solidity": 0.2
             }
            },
            "type": "barpolar"
           }
          ],
          "carpet": [
           {
            "aaxis": {
             "endlinecolor": "#2a3f5f",
             "gridcolor": "white",
             "linecolor": "white",
             "minorgridcolor": "white",
             "startlinecolor": "#2a3f5f"
            },
            "baxis": {
             "endlinecolor": "#2a3f5f",
             "gridcolor": "white",
             "linecolor": "white",
             "minorgridcolor": "white",
             "startlinecolor": "#2a3f5f"
            },
            "type": "carpet"
           }
          ],
          "choropleth": [
           {
            "colorbar": {
             "outlinewidth": 0,
             "ticks": ""
            },
            "type": "choropleth"
           }
          ],
          "contour": [
           {
            "colorbar": {
             "outlinewidth": 0,
             "ticks": ""
            },
            "colorscale": [
             [
              0,
              "#0d0887"
             ],
             [
              0.1111111111111111,
              "#46039f"
             ],
             [
              0.2222222222222222,
              "#7201a8"
             ],
             [
              0.3333333333333333,
              "#9c179e"
             ],
             [
              0.4444444444444444,
              "#bd3786"
             ],
             [
              0.5555555555555556,
              "#d8576b"
             ],
             [
              0.6666666666666666,
              "#ed7953"
             ],
             [
              0.7777777777777778,
              "#fb9f3a"
             ],
             [
              0.8888888888888888,
              "#fdca26"
             ],
             [
              1,
              "#f0f921"
             ]
            ],
            "type": "contour"
           }
          ],
          "contourcarpet": [
           {
            "colorbar": {
             "outlinewidth": 0,
             "ticks": ""
            },
            "type": "contourcarpet"
           }
          ],
          "heatmap": [
           {
            "colorbar": {
             "outlinewidth": 0,
             "ticks": ""
            },
            "colorscale": [
             [
              0,
              "#0d0887"
             ],
             [
              0.1111111111111111,
              "#46039f"
             ],
             [
              0.2222222222222222,
              "#7201a8"
             ],
             [
              0.3333333333333333,
              "#9c179e"
             ],
             [
              0.4444444444444444,
              "#bd3786"
             ],
             [
              0.5555555555555556,
              "#d8576b"
             ],
             [
              0.6666666666666666,
              "#ed7953"
             ],
             [
              0.7777777777777778,
              "#fb9f3a"
             ],
             [
              0.8888888888888888,
              "#fdca26"
             ],
             [
              1,
              "#f0f921"
             ]
            ],
            "type": "heatmap"
           }
          ],
          "heatmapgl": [
           {
            "colorbar": {
             "outlinewidth": 0,
             "ticks": ""
            },
            "colorscale": [
             [
              0,
              "#0d0887"
             ],
             [
              0.1111111111111111,
              "#46039f"
             ],
             [
              0.2222222222222222,
              "#7201a8"
             ],
             [
              0.3333333333333333,
              "#9c179e"
             ],
             [
              0.4444444444444444,
              "#bd3786"
             ],
             [
              0.5555555555555556,
              "#d8576b"
             ],
             [
              0.6666666666666666,
              "#ed7953"
             ],
             [
              0.7777777777777778,
              "#fb9f3a"
             ],
             [
              0.8888888888888888,
              "#fdca26"
             ],
             [
              1,
              "#f0f921"
             ]
            ],
            "type": "heatmapgl"
           }
          ],
          "histogram": [
           {
            "marker": {
             "pattern": {
              "fillmode": "overlay",
              "size": 10,
              "solidity": 0.2
             }
            },
            "type": "histogram"
           }
          ],
          "histogram2d": [
           {
            "colorbar": {
             "outlinewidth": 0,
             "ticks": ""
            },
            "colorscale": [
             [
              0,
              "#0d0887"
             ],
             [
              0.1111111111111111,
              "#46039f"
             ],
             [
              0.2222222222222222,
              "#7201a8"
             ],
             [
              0.3333333333333333,
              "#9c179e"
             ],
             [
              0.4444444444444444,
              "#bd3786"
             ],
             [
              0.5555555555555556,
              "#d8576b"
             ],
             [
              0.6666666666666666,
              "#ed7953"
             ],
             [
              0.7777777777777778,
              "#fb9f3a"
             ],
             [
              0.8888888888888888,
              "#fdca26"
             ],
             [
              1,
              "#f0f921"
             ]
            ],
            "type": "histogram2d"
           }
          ],
          "histogram2dcontour": [
           {
            "colorbar": {
             "outlinewidth": 0,
             "ticks": ""
            },
            "colorscale": [
             [
              0,
              "#0d0887"
             ],
             [
              0.1111111111111111,
              "#46039f"
             ],
             [
              0.2222222222222222,
              "#7201a8"
             ],
             [
              0.3333333333333333,
              "#9c179e"
             ],
             [
              0.4444444444444444,
              "#bd3786"
             ],
             [
              0.5555555555555556,
              "#d8576b"
             ],
             [
              0.6666666666666666,
              "#ed7953"
             ],
             [
              0.7777777777777778,
              "#fb9f3a"
             ],
             [
              0.8888888888888888,
              "#fdca26"
             ],
             [
              1,
              "#f0f921"
             ]
            ],
            "type": "histogram2dcontour"
           }
          ],
          "mesh3d": [
           {
            "colorbar": {
             "outlinewidth": 0,
             "ticks": ""
            },
            "type": "mesh3d"
           }
          ],
          "parcoords": [
           {
            "line": {
             "colorbar": {
              "outlinewidth": 0,
              "ticks": ""
             }
            },
            "type": "parcoords"
           }
          ],
          "pie": [
           {
            "automargin": true,
            "type": "pie"
           }
          ],
          "scatter": [
           {
            "marker": {
             "colorbar": {
              "outlinewidth": 0,
              "ticks": ""
             }
            },
            "type": "scatter"
           }
          ],
          "scatter3d": [
           {
            "line": {
             "colorbar": {
              "outlinewidth": 0,
              "ticks": ""
             }
            },
            "marker": {
             "colorbar": {
              "outlinewidth": 0,
              "ticks": ""
             }
            },
            "type": "scatter3d"
           }
          ],
          "scattercarpet": [
           {
            "marker": {
             "colorbar": {
              "outlinewidth": 0,
              "ticks": ""
             }
            },
            "type": "scattercarpet"
           }
          ],
          "scattergeo": [
           {
            "marker": {
             "colorbar": {
              "outlinewidth": 0,
              "ticks": ""
             }
            },
            "type": "scattergeo"
           }
          ],
          "scattergl": [
           {
            "marker": {
             "colorbar": {
              "outlinewidth": 0,
              "ticks": ""
             }
            },
            "type": "scattergl"
           }
          ],
          "scattermapbox": [
           {
            "marker": {
             "colorbar": {
              "outlinewidth": 0,
              "ticks": ""
             }
            },
            "type": "scattermapbox"
           }
          ],
          "scatterpolar": [
           {
            "marker": {
             "colorbar": {
              "outlinewidth": 0,
              "ticks": ""
             }
            },
            "type": "scatterpolar"
           }
          ],
          "scatterpolargl": [
           {
            "marker": {
             "colorbar": {
              "outlinewidth": 0,
              "ticks": ""
             }
            },
            "type": "scatterpolargl"
           }
          ],
          "scatterternary": [
           {
            "marker": {
             "colorbar": {
              "outlinewidth": 0,
              "ticks": ""
             }
            },
            "type": "scatterternary"
           }
          ],
          "surface": [
           {
            "colorbar": {
             "outlinewidth": 0,
             "ticks": ""
            },
            "colorscale": [
             [
              0,
              "#0d0887"
             ],
             [
              0.1111111111111111,
              "#46039f"
             ],
             [
              0.2222222222222222,
              "#7201a8"
             ],
             [
              0.3333333333333333,
              "#9c179e"
             ],
             [
              0.4444444444444444,
              "#bd3786"
             ],
             [
              0.5555555555555556,
              "#d8576b"
             ],
             [
              0.6666666666666666,
              "#ed7953"
             ],
             [
              0.7777777777777778,
              "#fb9f3a"
             ],
             [
              0.8888888888888888,
              "#fdca26"
             ],
             [
              1,
              "#f0f921"
             ]
            ],
            "type": "surface"
           }
          ],
          "table": [
           {
            "cells": {
             "fill": {
              "color": "#EBF0F8"
             },
             "line": {
              "color": "white"
             }
            },
            "header": {
             "fill": {
              "color": "#C8D4E3"
             },
             "line": {
              "color": "white"
             }
            },
            "type": "table"
           }
          ]
         },
         "layout": {
          "annotationdefaults": {
           "arrowcolor": "#2a3f5f",
           "arrowhead": 0,
           "arrowwidth": 1
          },
          "autotypenumbers": "strict",
          "coloraxis": {
           "colorbar": {
            "outlinewidth": 0,
            "ticks": ""
           }
          },
          "colorscale": {
           "diverging": [
            [
             0,
             "#8e0152"
            ],
            [
             0.1,
             "#c51b7d"
            ],
            [
             0.2,
             "#de77ae"
            ],
            [
             0.3,
             "#f1b6da"
            ],
            [
             0.4,
             "#fde0ef"
            ],
            [
             0.5,
             "#f7f7f7"
            ],
            [
             0.6,
             "#e6f5d0"
            ],
            [
             0.7,
             "#b8e186"
            ],
            [
             0.8,
             "#7fbc41"
            ],
            [
             0.9,
             "#4d9221"
            ],
            [
             1,
             "#276419"
            ]
           ],
           "sequential": [
            [
             0,
             "#0d0887"
            ],
            [
             0.1111111111111111,
             "#46039f"
            ],
            [
             0.2222222222222222,
             "#7201a8"
            ],
            [
             0.3333333333333333,
             "#9c179e"
            ],
            [
             0.4444444444444444,
             "#bd3786"
            ],
            [
             0.5555555555555556,
             "#d8576b"
            ],
            [
             0.6666666666666666,
             "#ed7953"
            ],
            [
             0.7777777777777778,
             "#fb9f3a"
            ],
            [
             0.8888888888888888,
             "#fdca26"
            ],
            [
             1,
             "#f0f921"
            ]
           ],
           "sequentialminus": [
            [
             0,
             "#0d0887"
            ],
            [
             0.1111111111111111,
             "#46039f"
            ],
            [
             0.2222222222222222,
             "#7201a8"
            ],
            [
             0.3333333333333333,
             "#9c179e"
            ],
            [
             0.4444444444444444,
             "#bd3786"
            ],
            [
             0.5555555555555556,
             "#d8576b"
            ],
            [
             0.6666666666666666,
             "#ed7953"
            ],
            [
             0.7777777777777778,
             "#fb9f3a"
            ],
            [
             0.8888888888888888,
             "#fdca26"
            ],
            [
             1,
             "#f0f921"
            ]
           ]
          },
          "colorway": [
           "#636efa",
           "#EF553B",
           "#00cc96",
           "#ab63fa",
           "#FFA15A",
           "#19d3f3",
           "#FF6692",
           "#B6E880",
           "#FF97FF",
           "#FECB52"
          ],
          "font": {
           "color": "#2a3f5f"
          },
          "geo": {
           "bgcolor": "white",
           "lakecolor": "white",
           "landcolor": "#E5ECF6",
           "showlakes": true,
           "showland": true,
           "subunitcolor": "white"
          },
          "hoverlabel": {
           "align": "left"
          },
          "hovermode": "closest",
          "mapbox": {
           "style": "light"
          },
          "paper_bgcolor": "white",
          "plot_bgcolor": "#E5ECF6",
          "polar": {
           "angularaxis": {
            "gridcolor": "white",
            "linecolor": "white",
            "ticks": ""
           },
           "bgcolor": "#E5ECF6",
           "radialaxis": {
            "gridcolor": "white",
            "linecolor": "white",
            "ticks": ""
           }
          },
          "scene": {
           "xaxis": {
            "backgroundcolor": "#E5ECF6",
            "gridcolor": "white",
            "gridwidth": 2,
            "linecolor": "white",
            "showbackground": true,
            "ticks": "",
            "zerolinecolor": "white"
           },
           "yaxis": {
            "backgroundcolor": "#E5ECF6",
            "gridcolor": "white",
            "gridwidth": 2,
            "linecolor": "white",
            "showbackground": true,
            "ticks": "",
            "zerolinecolor": "white"
           },
           "zaxis": {
            "backgroundcolor": "#E5ECF6",
            "gridcolor": "white",
            "gridwidth": 2,
            "linecolor": "white",
            "showbackground": true,
            "ticks": "",
            "zerolinecolor": "white"
           }
          },
          "shapedefaults": {
           "line": {
            "color": "#2a3f5f"
           }
          },
          "ternary": {
           "aaxis": {
            "gridcolor": "white",
            "linecolor": "white",
            "ticks": ""
           },
           "baxis": {
            "gridcolor": "white",
            "linecolor": "white",
            "ticks": ""
           },
           "bgcolor": "#E5ECF6",
           "caxis": {
            "gridcolor": "white",
            "linecolor": "white",
            "ticks": ""
           }
          },
          "title": {
           "x": 0.05
          },
          "xaxis": {
           "automargin": true,
           "gridcolor": "white",
           "linecolor": "white",
           "ticks": "",
           "title": {
            "standoff": 15
           },
           "zerolinecolor": "white",
           "zerolinewidth": 2
          },
          "yaxis": {
           "automargin": true,
           "gridcolor": "white",
           "linecolor": "white",
           "ticks": "",
           "title": {
            "standoff": 15
           },
           "zerolinecolor": "white",
           "zerolinewidth": 2
          }
         }
        },
        "title": {
         "font": {
          "color": "#4D5663"
         }
        },
        "xaxis": {
         "gridcolor": "#E1E5ED",
         "showgrid": true,
         "tickfont": {
          "color": "#4D5663"
         },
         "title": {
          "font": {
           "color": "#4D5663"
          },
          "text": "Sub-Sector"
         },
         "zerolinecolor": "#E1E5ED"
        },
        "yaxis": {
         "gridcolor": "#E1E5ED",
         "showgrid": true,
         "tickfont": {
          "color": "#4D5663"
         },
         "title": {
          "font": {
           "color": "#4D5663"
          },
          "text": "Number of Values"
         },
         "zerolinecolor": "#E1E5ED"
        }
       }
      },
      "text/html": [
       "<div>                            <div id=\"2a73fa3b-5b92-426f-9c5d-d34baafac475\" class=\"plotly-graph-div\" style=\"height:525px; width:100%;\"></div>            <script type=\"text/javascript\">                require([\"plotly\"], function(Plotly) {                    window.PLOTLYENV=window.PLOTLYENV || {};\n",
       "                    window.PLOTLYENV.BASE_URL='https://plot.ly';                                    if (document.getElementById(\"2a73fa3b-5b92-426f-9c5d-d34baafac475\")) {                    Plotly.newPlot(                        \"2a73fa3b-5b92-426f-9c5d-d34baafac475\",                        [{\"marker\":{\"color\":\"rgba(255, 153, 51, 0.6)\",\"line\":{\"color\":\"rgba(255, 153, 51, 1.0)\",\"width\":1}},\"name\":\"Sub-Sector\",\"orientation\":\"v\",\"text\":\"\",\"x\":[\"Pharmaceuticals\",\"Textiles\",\"Auto Parts\",\"Industrial Machinery\",\"Commodity Chemicals\",\"Iron & Steel\",\"Real Estate\",\"Specialty Chemicals\",\"Construction & Engineering\",\"IT Services & Consulting\",\"Diversified Financials\",\"Cement\",\"Fertilizers & Agro Chemicals\",\"Investment Banking & Brokerage\",\"Software Services\",\"Apparel & Accessories\",\"Consumer Finance\",\"Electrical Components & Equipments\",\"Hotels, Resorts & Cruise Lines\",\"Logistics\",\"Paper Products\",\"Packaged Foods & Meats\",\"Asset Management\",\"Private Banks\",\"Sugar\",\"Equity\",\"Packaging\",\"Conglomerates\",\"Agro Products\",\"Home Electronics & Appliances\",\"FMCG - Foods\",\"Hospitals & Diagnostic Centres\",\"Commodities Trading\",\"Precious Metals, Jewellery & Watches\",\"Heavy Electrical Equipments\",\"Building Products - Pipes\",\"Diversified Chemicals\",\"Tires & Rubber\",\"Alcoholic Beverages\",\"Public Banks\",\"Metals - Diversified\",\"Tea & Coffee\",\"0\",\"FMCG - Personal Products\",\"Home Financing\",\"Plastic Products\",\"Business Support Services\",\"Specialized Finance\",\"Online Services\",\"Electronic Equipments\",\"Renewable Energy\",\"Movies & TV Serials\",\"Insurance\",\"Education Services\",\"Roads\",\"Power Generation\",\"Gold\",\"TV Channels & Broadcasters\",\"Outsourced services\",\"Mining - Diversified\",\"Labs & Life Sciences Services\",\"Cables\",\"Building Products - Ceramics\",\"Footwear\",\"Technology Hardware\",\"Restaurants & Cafes\",\"Batteries\",\"Telecom Equipments\",\"Oil & Gas - Equipment & Services\",\"Publishing\",\"Oil & Gas - Refining & Marketing\",\"Gas Distribution\",\"Aerospace & Defense Equipments\",\"Metals - Aluminium\",\"Oil & Gas - Exploration & Production\",\"Home Furnishing\",\"Communication & Networking\",\"Retail - Department Stores\",\"Shipbuilding\",\"Four Wheelers\",\"Housewares\",\"Power Transmission & Distribution\",\"Debt\",\"Telecom Services\",\"Stock Exchanges & Ratings\",\"Biotechnology\",\"Cable & D2H\",\"Heavy Machinery\",\"Paints\",\"Renewable Energy Equipment & Services\",\"Retail - Apparel\",\"Oil & Gas - Storage & Transportation\",\"Trucks & Buses\",\"Health Care Equipment & Supplies\",\"Power Infrastructure\",\"Wood Products\",\"Rail\",\"FMCG - Tobacco\",\"Building Products - Granite\",\"Theme Parks & Gaming\",\"Advertising\",\"Stationery\",\"Tractors\",\"Tour & Travel Services\",\"Telecom Infrastructure\",\"Seeds\",\"Agricultural & Farm Machinery\",\"Power Trading & Consultancy\",\"Two Wheelers\",\"Airlines\",\"Building Products - Laminates\",\"Radio\",\"Metals - Lead\",\"FMCG - Household Products\",\"Three Wheelers\",\"Metals - Coke\",\"Theatres\",\"Retail - Speciality\",\"Water Management\",\"Employment Services\",\"Ports\",\"Wellness Services\",\"Metals - Iron\",\"Retail - Online\",\"Dredging\",\"Building Products - Prefab Structures\",\"Airports\",\"Cycles\",\"Environmental Services\",\"Animation\",\"Mining - Manganese\",\"Infra REIT\",\"Renewable Energy Equipment & Services 8987.007936075\",\"Mining - Coal\",\"Mining - Copper\",\"Payment Infrastructure\",\"Mining - Iron Ore\",\"Soft Drinks\",\"5Y Historical EBITDA Growth\"],\"y\":[103,86,84,75,73,71,67,63,60,56,42,38,36,35,34,27,27,25,25,24,24,22,22,22,22,21,21,20,20,19,19,19,18,18,17,17,14,14,13,13,12,12,12,12,12,12,11,11,11,11,10,10,9,9,9,9,9,8,8,8,8,8,8,8,8,8,7,7,7,7,7,7,7,7,6,6,6,6,6,6,6,6,6,6,6,5,5,5,5,5,5,5,4,4,4,4,4,4,4,4,4,4,3,3,3,3,3,3,3,3,3,2,2,2,2,2,2,2,2,2,2,2,1,1,1,1,1,1,1,1,1,1,1,1,1,1,1,1,1],\"type\":\"bar\"}],                        {\"legend\":{\"bgcolor\":\"#F5F6F9\",\"font\":{\"color\":\"#4D5663\"}},\"paper_bgcolor\":\"#F5F6F9\",\"plot_bgcolor\":\"#F5F6F9\",\"template\":{\"data\":{\"barpolar\":[{\"marker\":{\"line\":{\"color\":\"#E5ECF6\",\"width\":0.5},\"pattern\":{\"fillmode\":\"overlay\",\"size\":10,\"solidity\":0.2}},\"type\":\"barpolar\"}],\"bar\":[{\"error_x\":{\"color\":\"#2a3f5f\"},\"error_y\":{\"color\":\"#2a3f5f\"},\"marker\":{\"line\":{\"color\":\"#E5ECF6\",\"width\":0.5},\"pattern\":{\"fillmode\":\"overlay\",\"size\":10,\"solidity\":0.2}},\"type\":\"bar\"}],\"carpet\":[{\"aaxis\":{\"endlinecolor\":\"#2a3f5f\",\"gridcolor\":\"white\",\"linecolor\":\"white\",\"minorgridcolor\":\"white\",\"startlinecolor\":\"#2a3f5f\"},\"baxis\":{\"endlinecolor\":\"#2a3f5f\",\"gridcolor\":\"white\",\"linecolor\":\"white\",\"minorgridcolor\":\"white\",\"startlinecolor\":\"#2a3f5f\"},\"type\":\"carpet\"}],\"choropleth\":[{\"colorbar\":{\"outlinewidth\":0,\"ticks\":\"\"},\"type\":\"choropleth\"}],\"contourcarpet\":[{\"colorbar\":{\"outlinewidth\":0,\"ticks\":\"\"},\"type\":\"contourcarpet\"}],\"contour\":[{\"colorbar\":{\"outlinewidth\":0,\"ticks\":\"\"},\"colorscale\":[[0.0,\"#0d0887\"],[0.1111111111111111,\"#46039f\"],[0.2222222222222222,\"#7201a8\"],[0.3333333333333333,\"#9c179e\"],[0.4444444444444444,\"#bd3786\"],[0.5555555555555556,\"#d8576b\"],[0.6666666666666666,\"#ed7953\"],[0.7777777777777778,\"#fb9f3a\"],[0.8888888888888888,\"#fdca26\"],[1.0,\"#f0f921\"]],\"type\":\"contour\"}],\"heatmapgl\":[{\"colorbar\":{\"outlinewidth\":0,\"ticks\":\"\"},\"colorscale\":[[0.0,\"#0d0887\"],[0.1111111111111111,\"#46039f\"],[0.2222222222222222,\"#7201a8\"],[0.3333333333333333,\"#9c179e\"],[0.4444444444444444,\"#bd3786\"],[0.5555555555555556,\"#d8576b\"],[0.6666666666666666,\"#ed7953\"],[0.7777777777777778,\"#fb9f3a\"],[0.8888888888888888,\"#fdca26\"],[1.0,\"#f0f921\"]],\"type\":\"heatmapgl\"}],\"heatmap\":[{\"colorbar\":{\"outlinewidth\":0,\"ticks\":\"\"},\"colorscale\":[[0.0,\"#0d0887\"],[0.1111111111111111,\"#46039f\"],[0.2222222222222222,\"#7201a8\"],[0.3333333333333333,\"#9c179e\"],[0.4444444444444444,\"#bd3786\"],[0.5555555555555556,\"#d8576b\"],[0.6666666666666666,\"#ed7953\"],[0.7777777777777778,\"#fb9f3a\"],[0.8888888888888888,\"#fdca26\"],[1.0,\"#f0f921\"]],\"type\":\"heatmap\"}],\"histogram2dcontour\":[{\"colorbar\":{\"outlinewidth\":0,\"ticks\":\"\"},\"colorscale\":[[0.0,\"#0d0887\"],[0.1111111111111111,\"#46039f\"],[0.2222222222222222,\"#7201a8\"],[0.3333333333333333,\"#9c179e\"],[0.4444444444444444,\"#bd3786\"],[0.5555555555555556,\"#d8576b\"],[0.6666666666666666,\"#ed7953\"],[0.7777777777777778,\"#fb9f3a\"],[0.8888888888888888,\"#fdca26\"],[1.0,\"#f0f921\"]],\"type\":\"histogram2dcontour\"}],\"histogram2d\":[{\"colorbar\":{\"outlinewidth\":0,\"ticks\":\"\"},\"colorscale\":[[0.0,\"#0d0887\"],[0.1111111111111111,\"#46039f\"],[0.2222222222222222,\"#7201a8\"],[0.3333333333333333,\"#9c179e\"],[0.4444444444444444,\"#bd3786\"],[0.5555555555555556,\"#d8576b\"],[0.6666666666666666,\"#ed7953\"],[0.7777777777777778,\"#fb9f3a\"],[0.8888888888888888,\"#fdca26\"],[1.0,\"#f0f921\"]],\"type\":\"histogram2d\"}],\"histogram\":[{\"marker\":{\"pattern\":{\"fillmode\":\"overlay\",\"size\":10,\"solidity\":0.2}},\"type\":\"histogram\"}],\"mesh3d\":[{\"colorbar\":{\"outlinewidth\":0,\"ticks\":\"\"},\"type\":\"mesh3d\"}],\"parcoords\":[{\"line\":{\"colorbar\":{\"outlinewidth\":0,\"ticks\":\"\"}},\"type\":\"parcoords\"}],\"pie\":[{\"automargin\":true,\"type\":\"pie\"}],\"scatter3d\":[{\"line\":{\"colorbar\":{\"outlinewidth\":0,\"ticks\":\"\"}},\"marker\":{\"colorbar\":{\"outlinewidth\":0,\"ticks\":\"\"}},\"type\":\"scatter3d\"}],\"scattercarpet\":[{\"marker\":{\"colorbar\":{\"outlinewidth\":0,\"ticks\":\"\"}},\"type\":\"scattercarpet\"}],\"scattergeo\":[{\"marker\":{\"colorbar\":{\"outlinewidth\":0,\"ticks\":\"\"}},\"type\":\"scattergeo\"}],\"scattergl\":[{\"marker\":{\"colorbar\":{\"outlinewidth\":0,\"ticks\":\"\"}},\"type\":\"scattergl\"}],\"scattermapbox\":[{\"marker\":{\"colorbar\":{\"outlinewidth\":0,\"ticks\":\"\"}},\"type\":\"scattermapbox\"}],\"scatterpolargl\":[{\"marker\":{\"colorbar\":{\"outlinewidth\":0,\"ticks\":\"\"}},\"type\":\"scatterpolargl\"}],\"scatterpolar\":[{\"marker\":{\"colorbar\":{\"outlinewidth\":0,\"ticks\":\"\"}},\"type\":\"scatterpolar\"}],\"scatter\":[{\"marker\":{\"colorbar\":{\"outlinewidth\":0,\"ticks\":\"\"}},\"type\":\"scatter\"}],\"scatterternary\":[{\"marker\":{\"colorbar\":{\"outlinewidth\":0,\"ticks\":\"\"}},\"type\":\"scatterternary\"}],\"surface\":[{\"colorbar\":{\"outlinewidth\":0,\"ticks\":\"\"},\"colorscale\":[[0.0,\"#0d0887\"],[0.1111111111111111,\"#46039f\"],[0.2222222222222222,\"#7201a8\"],[0.3333333333333333,\"#9c179e\"],[0.4444444444444444,\"#bd3786\"],[0.5555555555555556,\"#d8576b\"],[0.6666666666666666,\"#ed7953\"],[0.7777777777777778,\"#fb9f3a\"],[0.8888888888888888,\"#fdca26\"],[1.0,\"#f0f921\"]],\"type\":\"surface\"}],\"table\":[{\"cells\":{\"fill\":{\"color\":\"#EBF0F8\"},\"line\":{\"color\":\"white\"}},\"header\":{\"fill\":{\"color\":\"#C8D4E3\"},\"line\":{\"color\":\"white\"}},\"type\":\"table\"}]},\"layout\":{\"annotationdefaults\":{\"arrowcolor\":\"#2a3f5f\",\"arrowhead\":0,\"arrowwidth\":1},\"autotypenumbers\":\"strict\",\"coloraxis\":{\"colorbar\":{\"outlinewidth\":0,\"ticks\":\"\"}},\"colorscale\":{\"diverging\":[[0,\"#8e0152\"],[0.1,\"#c51b7d\"],[0.2,\"#de77ae\"],[0.3,\"#f1b6da\"],[0.4,\"#fde0ef\"],[0.5,\"#f7f7f7\"],[0.6,\"#e6f5d0\"],[0.7,\"#b8e186\"],[0.8,\"#7fbc41\"],[0.9,\"#4d9221\"],[1,\"#276419\"]],\"sequential\":[[0.0,\"#0d0887\"],[0.1111111111111111,\"#46039f\"],[0.2222222222222222,\"#7201a8\"],[0.3333333333333333,\"#9c179e\"],[0.4444444444444444,\"#bd3786\"],[0.5555555555555556,\"#d8576b\"],[0.6666666666666666,\"#ed7953\"],[0.7777777777777778,\"#fb9f3a\"],[0.8888888888888888,\"#fdca26\"],[1.0,\"#f0f921\"]],\"sequentialminus\":[[0.0,\"#0d0887\"],[0.1111111111111111,\"#46039f\"],[0.2222222222222222,\"#7201a8\"],[0.3333333333333333,\"#9c179e\"],[0.4444444444444444,\"#bd3786\"],[0.5555555555555556,\"#d8576b\"],[0.6666666666666666,\"#ed7953\"],[0.7777777777777778,\"#fb9f3a\"],[0.8888888888888888,\"#fdca26\"],[1.0,\"#f0f921\"]]},\"colorway\":[\"#636efa\",\"#EF553B\",\"#00cc96\",\"#ab63fa\",\"#FFA15A\",\"#19d3f3\",\"#FF6692\",\"#B6E880\",\"#FF97FF\",\"#FECB52\"],\"font\":{\"color\":\"#2a3f5f\"},\"geo\":{\"bgcolor\":\"white\",\"lakecolor\":\"white\",\"landcolor\":\"#E5ECF6\",\"showlakes\":true,\"showland\":true,\"subunitcolor\":\"white\"},\"hoverlabel\":{\"align\":\"left\"},\"hovermode\":\"closest\",\"mapbox\":{\"style\":\"light\"},\"paper_bgcolor\":\"white\",\"plot_bgcolor\":\"#E5ECF6\",\"polar\":{\"angularaxis\":{\"gridcolor\":\"white\",\"linecolor\":\"white\",\"ticks\":\"\"},\"bgcolor\":\"#E5ECF6\",\"radialaxis\":{\"gridcolor\":\"white\",\"linecolor\":\"white\",\"ticks\":\"\"}},\"scene\":{\"xaxis\":{\"backgroundcolor\":\"#E5ECF6\",\"gridcolor\":\"white\",\"gridwidth\":2,\"linecolor\":\"white\",\"showbackground\":true,\"ticks\":\"\",\"zerolinecolor\":\"white\"},\"yaxis\":{\"backgroundcolor\":\"#E5ECF6\",\"gridcolor\":\"white\",\"gridwidth\":2,\"linecolor\":\"white\",\"showbackground\":true,\"ticks\":\"\",\"zerolinecolor\":\"white\"},\"zaxis\":{\"backgroundcolor\":\"#E5ECF6\",\"gridcolor\":\"white\",\"gridwidth\":2,\"linecolor\":\"white\",\"showbackground\":true,\"ticks\":\"\",\"zerolinecolor\":\"white\"}},\"shapedefaults\":{\"line\":{\"color\":\"#2a3f5f\"}},\"ternary\":{\"aaxis\":{\"gridcolor\":\"white\",\"linecolor\":\"white\",\"ticks\":\"\"},\"baxis\":{\"gridcolor\":\"white\",\"linecolor\":\"white\",\"ticks\":\"\"},\"bgcolor\":\"#E5ECF6\",\"caxis\":{\"gridcolor\":\"white\",\"linecolor\":\"white\",\"ticks\":\"\"}},\"title\":{\"x\":0.05},\"xaxis\":{\"automargin\":true,\"gridcolor\":\"white\",\"linecolor\":\"white\",\"ticks\":\"\",\"title\":{\"standoff\":15},\"zerolinecolor\":\"white\",\"zerolinewidth\":2},\"yaxis\":{\"automargin\":true,\"gridcolor\":\"white\",\"linecolor\":\"white\",\"ticks\":\"\",\"title\":{\"standoff\":15},\"zerolinecolor\":\"white\",\"zerolinewidth\":2}}},\"title\":{\"font\":{\"color\":\"#4D5663\"}},\"xaxis\":{\"gridcolor\":\"#E1E5ED\",\"showgrid\":true,\"tickfont\":{\"color\":\"#4D5663\"},\"title\":{\"font\":{\"color\":\"#4D5663\"},\"text\":\"Sub-Sector\"},\"zerolinecolor\":\"#E1E5ED\"},\"yaxis\":{\"gridcolor\":\"#E1E5ED\",\"showgrid\":true,\"tickfont\":{\"color\":\"#4D5663\"},\"title\":{\"font\":{\"color\":\"#4D5663\"},\"text\":\"Number of Values\"},\"zerolinecolor\":\"#E1E5ED\"}},                        {\"showLink\": true, \"linkText\": \"Export to plot.ly\", \"plotlyServerURL\": \"https://plot.ly\", \"responsive\": true}                    ).then(function(){\n",
       "                            \n",
       "var gd = document.getElementById('2a73fa3b-5b92-426f-9c5d-d34baafac475');\n",
       "var x = new MutationObserver(function (mutations, observer) {{\n",
       "        var display = window.getComputedStyle(gd).display;\n",
       "        if (!display || display === 'none') {{\n",
       "            console.log([gd, 'removed!']);\n",
       "            Plotly.purge(gd);\n",
       "            observer.disconnect();\n",
       "        }}\n",
       "}});\n",
       "\n",
       "// Listen for the removal of the full notebook cells\n",
       "var notebookContainer = gd.closest('#notebook-container');\n",
       "if (notebookContainer) {{\n",
       "    x.observe(notebookContainer, {childList: true});\n",
       "}}\n",
       "\n",
       "// Listen for the clearing of the current output cell\n",
       "var outputEl = gd.closest('.output');\n",
       "if (outputEl) {{\n",
       "    x.observe(outputEl, {childList: true});\n",
       "}}\n",
       "\n",
       "                        })                };                });            </script>        </div>"
      ]
     },
     "metadata": {},
     "output_type": "display_data"
    }
   ],
   "source": [
    "df3.iplot(kind='bar',xTitle='Sub-Sector',yTitle='Number of Values')"
   ]
  },
  {
   "cell_type": "code",
   "execution_count": 11,
   "id": "008fed3e",
   "metadata": {},
   "outputs": [],
   "source": [
    "df1=df.head(2015)"
   ]
  },
  {
   "cell_type": "code",
   "execution_count": 12,
   "id": "fc6acdd0",
   "metadata": {},
   "outputs": [],
   "source": [
    "df1['Market Cap']=pd.to_numeric(df1['Market Cap'])"
   ]
  },
  {
   "cell_type": "code",
   "execution_count": 13,
   "id": "9e0632e4",
   "metadata": {},
   "outputs": [
    {
     "data": {
      "text/html": [
       "<div>\n",
       "<style scoped>\n",
       "    .dataframe tbody tr th:only-of-type {\n",
       "        vertical-align: middle;\n",
       "    }\n",
       "\n",
       "    .dataframe tbody tr th {\n",
       "        vertical-align: top;\n",
       "    }\n",
       "\n",
       "    .dataframe thead th {\n",
       "        text-align: right;\n",
       "    }\n",
       "</style>\n",
       "<table border=\"1\" class=\"dataframe\">\n",
       "  <thead>\n",
       "    <tr style=\"text-align: right;\">\n",
       "      <th></th>\n",
       "      <th>Name</th>\n",
       "      <th>Ticker</th>\n",
       "      <th>Sub-Sector</th>\n",
       "      <th>Market Cap</th>\n",
       "      <th>Close Price</th>\n",
       "      <th>PE Ratio</th>\n",
       "      <th>Return on Equity</th>\n",
       "      <th>Return on Assets</th>\n",
       "      <th>Net Profit Margin</th>\n",
       "      <th>5Y Avg EBITDA Margin</th>\n",
       "      <th>EBITDA Margin</th>\n",
       "      <th>1Y Return vs Nifty</th>\n",
       "      <th>5Y CAGR</th>\n",
       "      <th>Debt to Equity</th>\n",
       "      <th>Long Term Debt to Equity</th>\n",
       "    </tr>\n",
       "  </thead>\n",
       "  <tbody>\n",
       "    <tr>\n",
       "      <th>0</th>\n",
       "      <td>Reliance Industries Ltd</td>\n",
       "      <td>RELIANCE</td>\n",
       "      <td>Oil &amp; Gas - Refining &amp; Marketing</td>\n",
       "      <td>1.679534e+06</td>\n",
       "      <td>2467.4</td>\n",
       "      <td>34.1869038031609</td>\n",
       "      <td>7.79327701365584</td>\n",
       "      <td>3.95702111893294</td>\n",
       "      <td>9.72537033334455</td>\n",
       "      <td>17.7204943756918</td>\n",
       "      <td>20.4338091627685</td>\n",
       "      <td>2.41229503539891</td>\n",
       "      <td>31.3161801309262</td>\n",
       "      <td>33.8550370763242</td>\n",
       "      <td>22.831210159213</td>\n",
       "    </tr>\n",
       "    <tr>\n",
       "      <th>1</th>\n",
       "      <td>Tata Consultancy Services Ltd</td>\n",
       "      <td>TCS</td>\n",
       "      <td>IT Services &amp; Consulting</td>\n",
       "      <td>1.358569e+06</td>\n",
       "      <td>3626.7</td>\n",
       "      <td>41.8923556280783</td>\n",
       "      <td>37.7406797511885</td>\n",
       "      <td>25.9323822927329</td>\n",
       "      <td>19.3830650704377</td>\n",
       "      <td>29.0725284004738</td>\n",
       "      <td>28.9652204577105</td>\n",
       "      <td>2.80164793904623</td>\n",
       "      <td>23.8749940753093</td>\n",
       "      <td>8.94866143178583</td>\n",
       "      <td>7.46544519447123</td>\n",
       "    </tr>\n",
       "    <tr>\n",
       "      <th>2</th>\n",
       "      <td>HDFC Bank Ltd</td>\n",
       "      <td>HDFCBANK</td>\n",
       "      <td>Private Banks</td>\n",
       "      <td>8.206363e+05</td>\n",
       "      <td>1486.5</td>\n",
       "      <td>25.7792579731186</td>\n",
       "      <td>16.4352004229457</td>\n",
       "      <td>1.8834334766503</td>\n",
       "      <td>20.4209159723686</td>\n",
       "      <td>28.2061160124953</td>\n",
       "      <td>28.3420941568116</td>\n",
       "      <td>-16.8333096307193</td>\n",
       "      <td>15.5878574220899</td>\n",
       "      <td>NaN</td>\n",
       "      <td>NaN</td>\n",
       "    </tr>\n",
       "    <tr>\n",
       "      <th>3</th>\n",
       "      <td>Infosys Ltd</td>\n",
       "      <td>INFY</td>\n",
       "      <td>IT Services &amp; Consulting</td>\n",
       "      <td>7.775010e+05</td>\n",
       "      <td>1853.05</td>\n",
       "      <td>40.1788525651729</td>\n",
       "      <td>27.135304923366</td>\n",
       "      <td>19.4178946470591</td>\n",
       "      <td>18.8472139705668</td>\n",
       "      <td>28.656802120749</td>\n",
       "      <td>29.3066336816885</td>\n",
       "      <td>21.7308437107461</td>\n",
       "      <td>29.1145348466698</td>\n",
       "      <td>6.93521919199813</td>\n",
       "      <td>5.97405641947331</td>\n",
       "    </tr>\n",
       "    <tr>\n",
       "      <th>4</th>\n",
       "      <td>ICICI Bank Ltd</td>\n",
       "      <td>ICICIBANK</td>\n",
       "      <td>Private Banks</td>\n",
       "      <td>5.002790e+05</td>\n",
       "      <td>710.75</td>\n",
       "      <td>27.2122827510611</td>\n",
       "      <td>12.3828973275142</td>\n",
       "      <td>1.24333269519827</td>\n",
       "      <td>11.3950119275574</td>\n",
       "      <td>11.9005430056793</td>\n",
       "      <td>16.9635544895708</td>\n",
       "      <td>5.05525802237792</td>\n",
       "      <td>23.5069867270152</td>\n",
       "      <td>NaN</td>\n",
       "      <td>NaN</td>\n",
       "    </tr>\n",
       "    <tr>\n",
       "      <th>...</th>\n",
       "      <td>...</td>\n",
       "      <td>...</td>\n",
       "      <td>...</td>\n",
       "      <td>...</td>\n",
       "      <td>...</td>\n",
       "      <td>...</td>\n",
       "      <td>...</td>\n",
       "      <td>...</td>\n",
       "      <td>...</td>\n",
       "      <td>...</td>\n",
       "      <td>...</td>\n",
       "      <td>...</td>\n",
       "      <td>...</td>\n",
       "      <td>...</td>\n",
       "      <td>...</td>\n",
       "    </tr>\n",
       "    <tr>\n",
       "      <th>2010</th>\n",
       "      <td>Signet Industries Ltd</td>\n",
       "      <td>SIGIND</td>\n",
       "      <td>Plastic Products</td>\n",
       "      <td>1.255488e+02</td>\n",
       "      <td>43</td>\n",
       "      <td>8.99991433691755</td>\n",
       "      <td>7.11771008724936</td>\n",
       "      <td>2.01751404667038</td>\n",
       "      <td>1.67981215003914</td>\n",
       "      <td>7.75141542640167</td>\n",
       "      <td>7.94509001143958</td>\n",
       "      <td>15.8030884560716</td>\n",
       "      <td>-23.9469999632532</td>\n",
       "      <td>138.451670202793</td>\n",
       "      <td>29.486357132284</td>\n",
       "    </tr>\n",
       "    <tr>\n",
       "      <th>2011</th>\n",
       "      <td>Suraj Ltd</td>\n",
       "      <td>SURAJLTD</td>\n",
       "      <td>Iron &amp; Steel</td>\n",
       "      <td>1.255056e+02</td>\n",
       "      <td>64.95</td>\n",
       "      <td>91.60993540146</td>\n",
       "      <td>1.54881012944435</td>\n",
       "      <td>0.767980267952238</td>\n",
       "      <td>0.712132238278406</td>\n",
       "      <td>9.18143791372796</td>\n",
       "      <td>9.17455036906123</td>\n",
       "      <td>95.8098939685367</td>\n",
       "      <td>7.07337449821954</td>\n",
       "      <td>62.6205968140005</td>\n",
       "      <td>0</td>\n",
       "    </tr>\n",
       "    <tr>\n",
       "      <th>2012</th>\n",
       "      <td>Polson Ltd</td>\n",
       "      <td>POLSON</td>\n",
       "      <td>Commodity Chemicals</td>\n",
       "      <td>1.253262e+02</td>\n",
       "      <td>10440</td>\n",
       "      <td>14.6924032825322</td>\n",
       "      <td>8.48756218905473</td>\n",
       "      <td>4.80009003685884</td>\n",
       "      <td>9.21265795442273</td>\n",
       "      <td>21.724727884192</td>\n",
       "      <td>21.1901933254131</td>\n",
       "      <td>-0.0981075867012748</td>\n",
       "      <td>6.82143005428948</td>\n",
       "      <td>43.3807387610957</td>\n",
       "      <td>26.6583945786007</td>\n",
       "    </tr>\n",
       "    <tr>\n",
       "      <th>2013</th>\n",
       "      <td>LKP Finance Ltd</td>\n",
       "      <td>LKPFIN</td>\n",
       "      <td>Investment Banking &amp; Brokerage</td>\n",
       "      <td>1.249950e+02</td>\n",
       "      <td>100.7</td>\n",
       "      <td>2.06160243666502</td>\n",
       "      <td>30.499522108758</td>\n",
       "      <td>24.118384151799</td>\n",
       "      <td>62.3508844097079</td>\n",
       "      <td>13.7408860296068</td>\n",
       "      <td>71.5343480049362</td>\n",
       "      <td>22.130486125878</td>\n",
       "      <td>8.12166429275052</td>\n",
       "      <td>18.0784267266912</td>\n",
       "      <td>0</td>\n",
       "    </tr>\n",
       "    <tr>\n",
       "      <th>2014</th>\n",
       "      <td>15</td>\n",
       "      <td>NaN</td>\n",
       "      <td>NaN</td>\n",
       "      <td>NaN</td>\n",
       "      <td>NaN</td>\n",
       "      <td>NaN</td>\n",
       "      <td>NaN</td>\n",
       "      <td>NaN</td>\n",
       "      <td>NaN</td>\n",
       "      <td>NaN</td>\n",
       "      <td>NaN</td>\n",
       "      <td>NaN</td>\n",
       "      <td>NaN</td>\n",
       "      <td>NaN</td>\n",
       "      <td>NaN</td>\n",
       "    </tr>\n",
       "  </tbody>\n",
       "</table>\n",
       "<p>2015 rows × 15 columns</p>\n",
       "</div>"
      ],
      "text/plain": [
       "                               Name     Ticker  \\\n",
       "0           Reliance Industries Ltd   RELIANCE   \n",
       "1     Tata Consultancy Services Ltd        TCS   \n",
       "2                     HDFC Bank Ltd   HDFCBANK   \n",
       "3                       Infosys Ltd       INFY   \n",
       "4                    ICICI Bank Ltd  ICICIBANK   \n",
       "...                             ...        ...   \n",
       "2010          Signet Industries Ltd     SIGIND   \n",
       "2011                      Suraj Ltd   SURAJLTD   \n",
       "2012                     Polson Ltd     POLSON   \n",
       "2013                LKP Finance Ltd     LKPFIN   \n",
       "2014                             15        NaN   \n",
       "\n",
       "                            Sub-Sector    Market Cap Close Price  \\\n",
       "0     Oil & Gas - Refining & Marketing  1.679534e+06      2467.4   \n",
       "1             IT Services & Consulting  1.358569e+06      3626.7   \n",
       "2                        Private Banks  8.206363e+05      1486.5   \n",
       "3             IT Services & Consulting  7.775010e+05     1853.05   \n",
       "4                        Private Banks  5.002790e+05      710.75   \n",
       "...                                ...           ...         ...   \n",
       "2010                  Plastic Products  1.255488e+02          43   \n",
       "2011                      Iron & Steel  1.255056e+02       64.95   \n",
       "2012               Commodity Chemicals  1.253262e+02       10440   \n",
       "2013    Investment Banking & Brokerage  1.249950e+02       100.7   \n",
       "2014                               NaN           NaN         NaN   \n",
       "\n",
       "              PE Ratio  Return on Equity   Return on Assets  \\\n",
       "0     34.1869038031609  7.79327701365584   3.95702111893294   \n",
       "1     41.8923556280783  37.7406797511885   25.9323822927329   \n",
       "2     25.7792579731186  16.4352004229457    1.8834334766503   \n",
       "3     40.1788525651729   27.135304923366   19.4178946470591   \n",
       "4     27.2122827510611  12.3828973275142   1.24333269519827   \n",
       "...                ...               ...                ...   \n",
       "2010  8.99991433691755  7.11771008724936   2.01751404667038   \n",
       "2011    91.60993540146  1.54881012944435  0.767980267952238   \n",
       "2012  14.6924032825322  8.48756218905473   4.80009003685884   \n",
       "2013  2.06160243666502   30.499522108758    24.118384151799   \n",
       "2014               NaN               NaN                NaN   \n",
       "\n",
       "      Net Profit Margin 5Y Avg EBITDA Margin     EBITDA Margin  \\\n",
       "0      9.72537033334455     17.7204943756918  20.4338091627685   \n",
       "1      19.3830650704377     29.0725284004738  28.9652204577105   \n",
       "2      20.4209159723686     28.2061160124953  28.3420941568116   \n",
       "3      18.8472139705668      28.656802120749  29.3066336816885   \n",
       "4      11.3950119275574     11.9005430056793  16.9635544895708   \n",
       "...                 ...                  ...               ...   \n",
       "2010   1.67981215003914     7.75141542640167  7.94509001143958   \n",
       "2011  0.712132238278406     9.18143791372796  9.17455036906123   \n",
       "2012   9.21265795442273      21.724727884192  21.1901933254131   \n",
       "2013   62.3508844097079     13.7408860296068  71.5343480049362   \n",
       "2014                NaN                  NaN               NaN   \n",
       "\n",
       "       1Y Return vs Nifty            5Y CAGR    Debt to Equity  \\\n",
       "0        2.41229503539891   31.3161801309262  33.8550370763242   \n",
       "1        2.80164793904623   23.8749940753093  8.94866143178583   \n",
       "2       -16.8333096307193   15.5878574220899               NaN   \n",
       "3        21.7308437107461   29.1145348466698  6.93521919199813   \n",
       "4        5.05525802237792   23.5069867270152               NaN   \n",
       "...                   ...                ...               ...   \n",
       "2010     15.8030884560716  -23.9469999632532  138.451670202793   \n",
       "2011     95.8098939685367   7.07337449821954  62.6205968140005   \n",
       "2012  -0.0981075867012748   6.82143005428948  43.3807387610957   \n",
       "2013      22.130486125878   8.12166429275052  18.0784267266912   \n",
       "2014                  NaN                NaN               NaN   \n",
       "\n",
       "     Long Term Debt to Equity  \n",
       "0             22.831210159213  \n",
       "1            7.46544519447123  \n",
       "2                         NaN  \n",
       "3            5.97405641947331  \n",
       "4                         NaN  \n",
       "...                       ...  \n",
       "2010          29.486357132284  \n",
       "2011                        0  \n",
       "2012         26.6583945786007  \n",
       "2013                        0  \n",
       "2014                      NaN  \n",
       "\n",
       "[2015 rows x 15 columns]"
      ]
     },
     "execution_count": 13,
     "metadata": {},
     "output_type": "execute_result"
    }
   ],
   "source": [
    "df1"
   ]
  },
  {
   "cell_type": "code",
   "execution_count": 14,
   "id": "067d4788",
   "metadata": {},
   "outputs": [],
   "source": [
    "def MC(a):\n",
    "    if a>20000:\n",
    "        return 'Large Cap'\n",
    "              \n",
    "    elif a<20000 and a>5000:\n",
    "              return 'Mid Cap' \n",
    "    else:\n",
    "         return 'Small Cap'  \n",
    "              "
   ]
  },
  {
   "cell_type": "code",
   "execution_count": 15,
   "id": "19172602",
   "metadata": {
    "scrolled": true
   },
   "outputs": [],
   "source": [
    "df1['Cap']=df1['Market Cap'].apply(MC)"
   ]
  },
  {
   "cell_type": "code",
   "execution_count": 16,
   "id": "654a8478",
   "metadata": {},
   "outputs": [
    {
     "data": {
      "text/html": [
       "<div>\n",
       "<style scoped>\n",
       "    .dataframe tbody tr th:only-of-type {\n",
       "        vertical-align: middle;\n",
       "    }\n",
       "\n",
       "    .dataframe tbody tr th {\n",
       "        vertical-align: top;\n",
       "    }\n",
       "\n",
       "    .dataframe thead th {\n",
       "        text-align: right;\n",
       "    }\n",
       "</style>\n",
       "<table border=\"1\" class=\"dataframe\">\n",
       "  <thead>\n",
       "    <tr style=\"text-align: right;\">\n",
       "      <th></th>\n",
       "      <th>Name</th>\n",
       "      <th>Ticker</th>\n",
       "      <th>Sub-Sector</th>\n",
       "      <th>Market Cap</th>\n",
       "      <th>Close Price</th>\n",
       "      <th>PE Ratio</th>\n",
       "      <th>Return on Equity</th>\n",
       "      <th>Return on Assets</th>\n",
       "      <th>Net Profit Margin</th>\n",
       "      <th>5Y Avg EBITDA Margin</th>\n",
       "      <th>EBITDA Margin</th>\n",
       "      <th>1Y Return vs Nifty</th>\n",
       "      <th>5Y CAGR</th>\n",
       "      <th>Debt to Equity</th>\n",
       "      <th>Long Term Debt to Equity</th>\n",
       "      <th>Cap</th>\n",
       "    </tr>\n",
       "  </thead>\n",
       "  <tbody>\n",
       "    <tr>\n",
       "      <th>0</th>\n",
       "      <td>Reliance Industries Ltd</td>\n",
       "      <td>RELIANCE</td>\n",
       "      <td>Oil &amp; Gas - Refining &amp; Marketing</td>\n",
       "      <td>1.679534e+06</td>\n",
       "      <td>2467.4</td>\n",
       "      <td>34.1869038031609</td>\n",
       "      <td>7.79327701365584</td>\n",
       "      <td>3.95702111893294</td>\n",
       "      <td>9.72537033334455</td>\n",
       "      <td>17.7204943756918</td>\n",
       "      <td>20.4338091627685</td>\n",
       "      <td>2.41229503539891</td>\n",
       "      <td>31.3161801309262</td>\n",
       "      <td>33.8550370763242</td>\n",
       "      <td>22.831210159213</td>\n",
       "      <td>Large Cap</td>\n",
       "    </tr>\n",
       "    <tr>\n",
       "      <th>1</th>\n",
       "      <td>Tata Consultancy Services Ltd</td>\n",
       "      <td>TCS</td>\n",
       "      <td>IT Services &amp; Consulting</td>\n",
       "      <td>1.358569e+06</td>\n",
       "      <td>3626.7</td>\n",
       "      <td>41.8923556280783</td>\n",
       "      <td>37.7406797511885</td>\n",
       "      <td>25.9323822927329</td>\n",
       "      <td>19.3830650704377</td>\n",
       "      <td>29.0725284004738</td>\n",
       "      <td>28.9652204577105</td>\n",
       "      <td>2.80164793904623</td>\n",
       "      <td>23.8749940753093</td>\n",
       "      <td>8.94866143178583</td>\n",
       "      <td>7.46544519447123</td>\n",
       "      <td>Large Cap</td>\n",
       "    </tr>\n",
       "    <tr>\n",
       "      <th>2</th>\n",
       "      <td>HDFC Bank Ltd</td>\n",
       "      <td>HDFCBANK</td>\n",
       "      <td>Private Banks</td>\n",
       "      <td>8.206363e+05</td>\n",
       "      <td>1486.5</td>\n",
       "      <td>25.7792579731186</td>\n",
       "      <td>16.4352004229457</td>\n",
       "      <td>1.8834334766503</td>\n",
       "      <td>20.4209159723686</td>\n",
       "      <td>28.2061160124953</td>\n",
       "      <td>28.3420941568116</td>\n",
       "      <td>-16.8333096307193</td>\n",
       "      <td>15.5878574220899</td>\n",
       "      <td>NaN</td>\n",
       "      <td>NaN</td>\n",
       "      <td>Large Cap</td>\n",
       "    </tr>\n",
       "    <tr>\n",
       "      <th>3</th>\n",
       "      <td>Infosys Ltd</td>\n",
       "      <td>INFY</td>\n",
       "      <td>IT Services &amp; Consulting</td>\n",
       "      <td>7.775010e+05</td>\n",
       "      <td>1853.05</td>\n",
       "      <td>40.1788525651729</td>\n",
       "      <td>27.135304923366</td>\n",
       "      <td>19.4178946470591</td>\n",
       "      <td>18.8472139705668</td>\n",
       "      <td>28.656802120749</td>\n",
       "      <td>29.3066336816885</td>\n",
       "      <td>21.7308437107461</td>\n",
       "      <td>29.1145348466698</td>\n",
       "      <td>6.93521919199813</td>\n",
       "      <td>5.97405641947331</td>\n",
       "      <td>Large Cap</td>\n",
       "    </tr>\n",
       "    <tr>\n",
       "      <th>4</th>\n",
       "      <td>ICICI Bank Ltd</td>\n",
       "      <td>ICICIBANK</td>\n",
       "      <td>Private Banks</td>\n",
       "      <td>5.002790e+05</td>\n",
       "      <td>710.75</td>\n",
       "      <td>27.2122827510611</td>\n",
       "      <td>12.3828973275142</td>\n",
       "      <td>1.24333269519827</td>\n",
       "      <td>11.3950119275574</td>\n",
       "      <td>11.9005430056793</td>\n",
       "      <td>16.9635544895708</td>\n",
       "      <td>5.05525802237792</td>\n",
       "      <td>23.5069867270152</td>\n",
       "      <td>NaN</td>\n",
       "      <td>NaN</td>\n",
       "      <td>Large Cap</td>\n",
       "    </tr>\n",
       "    <tr>\n",
       "      <th>...</th>\n",
       "      <td>...</td>\n",
       "      <td>...</td>\n",
       "      <td>...</td>\n",
       "      <td>...</td>\n",
       "      <td>...</td>\n",
       "      <td>...</td>\n",
       "      <td>...</td>\n",
       "      <td>...</td>\n",
       "      <td>...</td>\n",
       "      <td>...</td>\n",
       "      <td>...</td>\n",
       "      <td>...</td>\n",
       "      <td>...</td>\n",
       "      <td>...</td>\n",
       "      <td>...</td>\n",
       "      <td>...</td>\n",
       "    </tr>\n",
       "    <tr>\n",
       "      <th>2010</th>\n",
       "      <td>Signet Industries Ltd</td>\n",
       "      <td>SIGIND</td>\n",
       "      <td>Plastic Products</td>\n",
       "      <td>1.255488e+02</td>\n",
       "      <td>43</td>\n",
       "      <td>8.99991433691755</td>\n",
       "      <td>7.11771008724936</td>\n",
       "      <td>2.01751404667038</td>\n",
       "      <td>1.67981215003914</td>\n",
       "      <td>7.75141542640167</td>\n",
       "      <td>7.94509001143958</td>\n",
       "      <td>15.8030884560716</td>\n",
       "      <td>-23.9469999632532</td>\n",
       "      <td>138.451670202793</td>\n",
       "      <td>29.486357132284</td>\n",
       "      <td>Small Cap</td>\n",
       "    </tr>\n",
       "    <tr>\n",
       "      <th>2011</th>\n",
       "      <td>Suraj Ltd</td>\n",
       "      <td>SURAJLTD</td>\n",
       "      <td>Iron &amp; Steel</td>\n",
       "      <td>1.255056e+02</td>\n",
       "      <td>64.95</td>\n",
       "      <td>91.60993540146</td>\n",
       "      <td>1.54881012944435</td>\n",
       "      <td>0.767980267952238</td>\n",
       "      <td>0.712132238278406</td>\n",
       "      <td>9.18143791372796</td>\n",
       "      <td>9.17455036906123</td>\n",
       "      <td>95.8098939685367</td>\n",
       "      <td>7.07337449821954</td>\n",
       "      <td>62.6205968140005</td>\n",
       "      <td>0</td>\n",
       "      <td>Small Cap</td>\n",
       "    </tr>\n",
       "    <tr>\n",
       "      <th>2012</th>\n",
       "      <td>Polson Ltd</td>\n",
       "      <td>POLSON</td>\n",
       "      <td>Commodity Chemicals</td>\n",
       "      <td>1.253262e+02</td>\n",
       "      <td>10440</td>\n",
       "      <td>14.6924032825322</td>\n",
       "      <td>8.48756218905473</td>\n",
       "      <td>4.80009003685884</td>\n",
       "      <td>9.21265795442273</td>\n",
       "      <td>21.724727884192</td>\n",
       "      <td>21.1901933254131</td>\n",
       "      <td>-0.0981075867012748</td>\n",
       "      <td>6.82143005428948</td>\n",
       "      <td>43.3807387610957</td>\n",
       "      <td>26.6583945786007</td>\n",
       "      <td>Small Cap</td>\n",
       "    </tr>\n",
       "    <tr>\n",
       "      <th>2013</th>\n",
       "      <td>LKP Finance Ltd</td>\n",
       "      <td>LKPFIN</td>\n",
       "      <td>Investment Banking &amp; Brokerage</td>\n",
       "      <td>1.249950e+02</td>\n",
       "      <td>100.7</td>\n",
       "      <td>2.06160243666502</td>\n",
       "      <td>30.499522108758</td>\n",
       "      <td>24.118384151799</td>\n",
       "      <td>62.3508844097079</td>\n",
       "      <td>13.7408860296068</td>\n",
       "      <td>71.5343480049362</td>\n",
       "      <td>22.130486125878</td>\n",
       "      <td>8.12166429275052</td>\n",
       "      <td>18.0784267266912</td>\n",
       "      <td>0</td>\n",
       "      <td>Small Cap</td>\n",
       "    </tr>\n",
       "    <tr>\n",
       "      <th>2014</th>\n",
       "      <td>15</td>\n",
       "      <td>NaN</td>\n",
       "      <td>NaN</td>\n",
       "      <td>NaN</td>\n",
       "      <td>NaN</td>\n",
       "      <td>NaN</td>\n",
       "      <td>NaN</td>\n",
       "      <td>NaN</td>\n",
       "      <td>NaN</td>\n",
       "      <td>NaN</td>\n",
       "      <td>NaN</td>\n",
       "      <td>NaN</td>\n",
       "      <td>NaN</td>\n",
       "      <td>NaN</td>\n",
       "      <td>NaN</td>\n",
       "      <td>Small Cap</td>\n",
       "    </tr>\n",
       "  </tbody>\n",
       "</table>\n",
       "<p>2015 rows × 16 columns</p>\n",
       "</div>"
      ],
      "text/plain": [
       "                               Name     Ticker  \\\n",
       "0           Reliance Industries Ltd   RELIANCE   \n",
       "1     Tata Consultancy Services Ltd        TCS   \n",
       "2                     HDFC Bank Ltd   HDFCBANK   \n",
       "3                       Infosys Ltd       INFY   \n",
       "4                    ICICI Bank Ltd  ICICIBANK   \n",
       "...                             ...        ...   \n",
       "2010          Signet Industries Ltd     SIGIND   \n",
       "2011                      Suraj Ltd   SURAJLTD   \n",
       "2012                     Polson Ltd     POLSON   \n",
       "2013                LKP Finance Ltd     LKPFIN   \n",
       "2014                             15        NaN   \n",
       "\n",
       "                            Sub-Sector    Market Cap Close Price  \\\n",
       "0     Oil & Gas - Refining & Marketing  1.679534e+06      2467.4   \n",
       "1             IT Services & Consulting  1.358569e+06      3626.7   \n",
       "2                        Private Banks  8.206363e+05      1486.5   \n",
       "3             IT Services & Consulting  7.775010e+05     1853.05   \n",
       "4                        Private Banks  5.002790e+05      710.75   \n",
       "...                                ...           ...         ...   \n",
       "2010                  Plastic Products  1.255488e+02          43   \n",
       "2011                      Iron & Steel  1.255056e+02       64.95   \n",
       "2012               Commodity Chemicals  1.253262e+02       10440   \n",
       "2013    Investment Banking & Brokerage  1.249950e+02       100.7   \n",
       "2014                               NaN           NaN         NaN   \n",
       "\n",
       "              PE Ratio  Return on Equity   Return on Assets  \\\n",
       "0     34.1869038031609  7.79327701365584   3.95702111893294   \n",
       "1     41.8923556280783  37.7406797511885   25.9323822927329   \n",
       "2     25.7792579731186  16.4352004229457    1.8834334766503   \n",
       "3     40.1788525651729   27.135304923366   19.4178946470591   \n",
       "4     27.2122827510611  12.3828973275142   1.24333269519827   \n",
       "...                ...               ...                ...   \n",
       "2010  8.99991433691755  7.11771008724936   2.01751404667038   \n",
       "2011    91.60993540146  1.54881012944435  0.767980267952238   \n",
       "2012  14.6924032825322  8.48756218905473   4.80009003685884   \n",
       "2013  2.06160243666502   30.499522108758    24.118384151799   \n",
       "2014               NaN               NaN                NaN   \n",
       "\n",
       "      Net Profit Margin 5Y Avg EBITDA Margin     EBITDA Margin  \\\n",
       "0      9.72537033334455     17.7204943756918  20.4338091627685   \n",
       "1      19.3830650704377     29.0725284004738  28.9652204577105   \n",
       "2      20.4209159723686     28.2061160124953  28.3420941568116   \n",
       "3      18.8472139705668      28.656802120749  29.3066336816885   \n",
       "4      11.3950119275574     11.9005430056793  16.9635544895708   \n",
       "...                 ...                  ...               ...   \n",
       "2010   1.67981215003914     7.75141542640167  7.94509001143958   \n",
       "2011  0.712132238278406     9.18143791372796  9.17455036906123   \n",
       "2012   9.21265795442273      21.724727884192  21.1901933254131   \n",
       "2013   62.3508844097079     13.7408860296068  71.5343480049362   \n",
       "2014                NaN                  NaN               NaN   \n",
       "\n",
       "       1Y Return vs Nifty            5Y CAGR    Debt to Equity  \\\n",
       "0        2.41229503539891   31.3161801309262  33.8550370763242   \n",
       "1        2.80164793904623   23.8749940753093  8.94866143178583   \n",
       "2       -16.8333096307193   15.5878574220899               NaN   \n",
       "3        21.7308437107461   29.1145348466698  6.93521919199813   \n",
       "4        5.05525802237792   23.5069867270152               NaN   \n",
       "...                   ...                ...               ...   \n",
       "2010     15.8030884560716  -23.9469999632532  138.451670202793   \n",
       "2011     95.8098939685367   7.07337449821954  62.6205968140005   \n",
       "2012  -0.0981075867012748   6.82143005428948  43.3807387610957   \n",
       "2013      22.130486125878   8.12166429275052  18.0784267266912   \n",
       "2014                  NaN                NaN               NaN   \n",
       "\n",
       "     Long Term Debt to Equity        Cap  \n",
       "0             22.831210159213  Large Cap  \n",
       "1            7.46544519447123  Large Cap  \n",
       "2                         NaN  Large Cap  \n",
       "3            5.97405641947331  Large Cap  \n",
       "4                         NaN  Large Cap  \n",
       "...                       ...        ...  \n",
       "2010          29.486357132284  Small Cap  \n",
       "2011                        0  Small Cap  \n",
       "2012         26.6583945786007  Small Cap  \n",
       "2013                        0  Small Cap  \n",
       "2014                      NaN  Small Cap  \n",
       "\n",
       "[2015 rows x 16 columns]"
      ]
     },
     "execution_count": 16,
     "metadata": {},
     "output_type": "execute_result"
    }
   ],
   "source": [
    "df1"
   ]
  },
  {
   "cell_type": "code",
   "execution_count": 17,
   "id": "5ffe2f07",
   "metadata": {},
   "outputs": [],
   "source": [
    "df4=df1['Cap'].value_counts()"
   ]
  },
  {
   "cell_type": "code",
   "execution_count": 18,
   "id": "7c1290ec",
   "metadata": {},
   "outputs": [
    {
     "data": {
      "text/plain": [
       "Small Cap    1510\n",
       "Mid Cap       280\n",
       "Large Cap     225\n",
       "Name: Cap, dtype: int64"
      ]
     },
     "execution_count": 18,
     "metadata": {},
     "output_type": "execute_result"
    }
   ],
   "source": [
    "df4"
   ]
  },
  {
   "cell_type": "code",
   "execution_count": 19,
   "id": "42b17273",
   "metadata": {},
   "outputs": [
    {
     "data": {
      "application/vnd.plotly.v1+json": {
       "config": {
        "linkText": "Export to plot.ly",
        "plotlyServerURL": "https://plot.ly",
        "showLink": true
       },
       "data": [
        {
         "marker": {
          "color": "rgba(255, 153, 51, 0.6)",
          "line": {
           "color": "rgba(255, 153, 51, 1.0)",
           "width": 1
          }
         },
         "name": "Cap",
         "orientation": "v",
         "text": "",
         "type": "bar",
         "x": [
          "Small Cap",
          "Mid Cap",
          "Large Cap"
         ],
         "y": [
          1510,
          280,
          225
         ]
        }
       ],
       "layout": {
        "legend": {
         "bgcolor": "#F5F6F9",
         "font": {
          "color": "#4D5663"
         }
        },
        "paper_bgcolor": "#F5F6F9",
        "plot_bgcolor": "#F5F6F9",
        "template": {
         "data": {
          "bar": [
           {
            "error_x": {
             "color": "#2a3f5f"
            },
            "error_y": {
             "color": "#2a3f5f"
            },
            "marker": {
             "line": {
              "color": "#E5ECF6",
              "width": 0.5
             },
             "pattern": {
              "fillmode": "overlay",
              "size": 10,
              "solidity": 0.2
             }
            },
            "type": "bar"
           }
          ],
          "barpolar": [
           {
            "marker": {
             "line": {
              "color": "#E5ECF6",
              "width": 0.5
             },
             "pattern": {
              "fillmode": "overlay",
              "size": 10,
              "solidity": 0.2
             }
            },
            "type": "barpolar"
           }
          ],
          "carpet": [
           {
            "aaxis": {
             "endlinecolor": "#2a3f5f",
             "gridcolor": "white",
             "linecolor": "white",
             "minorgridcolor": "white",
             "startlinecolor": "#2a3f5f"
            },
            "baxis": {
             "endlinecolor": "#2a3f5f",
             "gridcolor": "white",
             "linecolor": "white",
             "minorgridcolor": "white",
             "startlinecolor": "#2a3f5f"
            },
            "type": "carpet"
           }
          ],
          "choropleth": [
           {
            "colorbar": {
             "outlinewidth": 0,
             "ticks": ""
            },
            "type": "choropleth"
           }
          ],
          "contour": [
           {
            "colorbar": {
             "outlinewidth": 0,
             "ticks": ""
            },
            "colorscale": [
             [
              0,
              "#0d0887"
             ],
             [
              0.1111111111111111,
              "#46039f"
             ],
             [
              0.2222222222222222,
              "#7201a8"
             ],
             [
              0.3333333333333333,
              "#9c179e"
             ],
             [
              0.4444444444444444,
              "#bd3786"
             ],
             [
              0.5555555555555556,
              "#d8576b"
             ],
             [
              0.6666666666666666,
              "#ed7953"
             ],
             [
              0.7777777777777778,
              "#fb9f3a"
             ],
             [
              0.8888888888888888,
              "#fdca26"
             ],
             [
              1,
              "#f0f921"
             ]
            ],
            "type": "contour"
           }
          ],
          "contourcarpet": [
           {
            "colorbar": {
             "outlinewidth": 0,
             "ticks": ""
            },
            "type": "contourcarpet"
           }
          ],
          "heatmap": [
           {
            "colorbar": {
             "outlinewidth": 0,
             "ticks": ""
            },
            "colorscale": [
             [
              0,
              "#0d0887"
             ],
             [
              0.1111111111111111,
              "#46039f"
             ],
             [
              0.2222222222222222,
              "#7201a8"
             ],
             [
              0.3333333333333333,
              "#9c179e"
             ],
             [
              0.4444444444444444,
              "#bd3786"
             ],
             [
              0.5555555555555556,
              "#d8576b"
             ],
             [
              0.6666666666666666,
              "#ed7953"
             ],
             [
              0.7777777777777778,
              "#fb9f3a"
             ],
             [
              0.8888888888888888,
              "#fdca26"
             ],
             [
              1,
              "#f0f921"
             ]
            ],
            "type": "heatmap"
           }
          ],
          "heatmapgl": [
           {
            "colorbar": {
             "outlinewidth": 0,
             "ticks": ""
            },
            "colorscale": [
             [
              0,
              "#0d0887"
             ],
             [
              0.1111111111111111,
              "#46039f"
             ],
             [
              0.2222222222222222,
              "#7201a8"
             ],
             [
              0.3333333333333333,
              "#9c179e"
             ],
             [
              0.4444444444444444,
              "#bd3786"
             ],
             [
              0.5555555555555556,
              "#d8576b"
             ],
             [
              0.6666666666666666,
              "#ed7953"
             ],
             [
              0.7777777777777778,
              "#fb9f3a"
             ],
             [
              0.8888888888888888,
              "#fdca26"
             ],
             [
              1,
              "#f0f921"
             ]
            ],
            "type": "heatmapgl"
           }
          ],
          "histogram": [
           {
            "marker": {
             "pattern": {
              "fillmode": "overlay",
              "size": 10,
              "solidity": 0.2
             }
            },
            "type": "histogram"
           }
          ],
          "histogram2d": [
           {
            "colorbar": {
             "outlinewidth": 0,
             "ticks": ""
            },
            "colorscale": [
             [
              0,
              "#0d0887"
             ],
             [
              0.1111111111111111,
              "#46039f"
             ],
             [
              0.2222222222222222,
              "#7201a8"
             ],
             [
              0.3333333333333333,
              "#9c179e"
             ],
             [
              0.4444444444444444,
              "#bd3786"
             ],
             [
              0.5555555555555556,
              "#d8576b"
             ],
             [
              0.6666666666666666,
              "#ed7953"
             ],
             [
              0.7777777777777778,
              "#fb9f3a"
             ],
             [
              0.8888888888888888,
              "#fdca26"
             ],
             [
              1,
              "#f0f921"
             ]
            ],
            "type": "histogram2d"
           }
          ],
          "histogram2dcontour": [
           {
            "colorbar": {
             "outlinewidth": 0,
             "ticks": ""
            },
            "colorscale": [
             [
              0,
              "#0d0887"
             ],
             [
              0.1111111111111111,
              "#46039f"
             ],
             [
              0.2222222222222222,
              "#7201a8"
             ],
             [
              0.3333333333333333,
              "#9c179e"
             ],
             [
              0.4444444444444444,
              "#bd3786"
             ],
             [
              0.5555555555555556,
              "#d8576b"
             ],
             [
              0.6666666666666666,
              "#ed7953"
             ],
             [
              0.7777777777777778,
              "#fb9f3a"
             ],
             [
              0.8888888888888888,
              "#fdca26"
             ],
             [
              1,
              "#f0f921"
             ]
            ],
            "type": "histogram2dcontour"
           }
          ],
          "mesh3d": [
           {
            "colorbar": {
             "outlinewidth": 0,
             "ticks": ""
            },
            "type": "mesh3d"
           }
          ],
          "parcoords": [
           {
            "line": {
             "colorbar": {
              "outlinewidth": 0,
              "ticks": ""
             }
            },
            "type": "parcoords"
           }
          ],
          "pie": [
           {
            "automargin": true,
            "type": "pie"
           }
          ],
          "scatter": [
           {
            "marker": {
             "colorbar": {
              "outlinewidth": 0,
              "ticks": ""
             }
            },
            "type": "scatter"
           }
          ],
          "scatter3d": [
           {
            "line": {
             "colorbar": {
              "outlinewidth": 0,
              "ticks": ""
             }
            },
            "marker": {
             "colorbar": {
              "outlinewidth": 0,
              "ticks": ""
             }
            },
            "type": "scatter3d"
           }
          ],
          "scattercarpet": [
           {
            "marker": {
             "colorbar": {
              "outlinewidth": 0,
              "ticks": ""
             }
            },
            "type": "scattercarpet"
           }
          ],
          "scattergeo": [
           {
            "marker": {
             "colorbar": {
              "outlinewidth": 0,
              "ticks": ""
             }
            },
            "type": "scattergeo"
           }
          ],
          "scattergl": [
           {
            "marker": {
             "colorbar": {
              "outlinewidth": 0,
              "ticks": ""
             }
            },
            "type": "scattergl"
           }
          ],
          "scattermapbox": [
           {
            "marker": {
             "colorbar": {
              "outlinewidth": 0,
              "ticks": ""
             }
            },
            "type": "scattermapbox"
           }
          ],
          "scatterpolar": [
           {
            "marker": {
             "colorbar": {
              "outlinewidth": 0,
              "ticks": ""
             }
            },
            "type": "scatterpolar"
           }
          ],
          "scatterpolargl": [
           {
            "marker": {
             "colorbar": {
              "outlinewidth": 0,
              "ticks": ""
             }
            },
            "type": "scatterpolargl"
           }
          ],
          "scatterternary": [
           {
            "marker": {
             "colorbar": {
              "outlinewidth": 0,
              "ticks": ""
             }
            },
            "type": "scatterternary"
           }
          ],
          "surface": [
           {
            "colorbar": {
             "outlinewidth": 0,
             "ticks": ""
            },
            "colorscale": [
             [
              0,
              "#0d0887"
             ],
             [
              0.1111111111111111,
              "#46039f"
             ],
             [
              0.2222222222222222,
              "#7201a8"
             ],
             [
              0.3333333333333333,
              "#9c179e"
             ],
             [
              0.4444444444444444,
              "#bd3786"
             ],
             [
              0.5555555555555556,
              "#d8576b"
             ],
             [
              0.6666666666666666,
              "#ed7953"
             ],
             [
              0.7777777777777778,
              "#fb9f3a"
             ],
             [
              0.8888888888888888,
              "#fdca26"
             ],
             [
              1,
              "#f0f921"
             ]
            ],
            "type": "surface"
           }
          ],
          "table": [
           {
            "cells": {
             "fill": {
              "color": "#EBF0F8"
             },
             "line": {
              "color": "white"
             }
            },
            "header": {
             "fill": {
              "color": "#C8D4E3"
             },
             "line": {
              "color": "white"
             }
            },
            "type": "table"
           }
          ]
         },
         "layout": {
          "annotationdefaults": {
           "arrowcolor": "#2a3f5f",
           "arrowhead": 0,
           "arrowwidth": 1
          },
          "autotypenumbers": "strict",
          "coloraxis": {
           "colorbar": {
            "outlinewidth": 0,
            "ticks": ""
           }
          },
          "colorscale": {
           "diverging": [
            [
             0,
             "#8e0152"
            ],
            [
             0.1,
             "#c51b7d"
            ],
            [
             0.2,
             "#de77ae"
            ],
            [
             0.3,
             "#f1b6da"
            ],
            [
             0.4,
             "#fde0ef"
            ],
            [
             0.5,
             "#f7f7f7"
            ],
            [
             0.6,
             "#e6f5d0"
            ],
            [
             0.7,
             "#b8e186"
            ],
            [
             0.8,
             "#7fbc41"
            ],
            [
             0.9,
             "#4d9221"
            ],
            [
             1,
             "#276419"
            ]
           ],
           "sequential": [
            [
             0,
             "#0d0887"
            ],
            [
             0.1111111111111111,
             "#46039f"
            ],
            [
             0.2222222222222222,
             "#7201a8"
            ],
            [
             0.3333333333333333,
             "#9c179e"
            ],
            [
             0.4444444444444444,
             "#bd3786"
            ],
            [
             0.5555555555555556,
             "#d8576b"
            ],
            [
             0.6666666666666666,
             "#ed7953"
            ],
            [
             0.7777777777777778,
             "#fb9f3a"
            ],
            [
             0.8888888888888888,
             "#fdca26"
            ],
            [
             1,
             "#f0f921"
            ]
           ],
           "sequentialminus": [
            [
             0,
             "#0d0887"
            ],
            [
             0.1111111111111111,
             "#46039f"
            ],
            [
             0.2222222222222222,
             "#7201a8"
            ],
            [
             0.3333333333333333,
             "#9c179e"
            ],
            [
             0.4444444444444444,
             "#bd3786"
            ],
            [
             0.5555555555555556,
             "#d8576b"
            ],
            [
             0.6666666666666666,
             "#ed7953"
            ],
            [
             0.7777777777777778,
             "#fb9f3a"
            ],
            [
             0.8888888888888888,
             "#fdca26"
            ],
            [
             1,
             "#f0f921"
            ]
           ]
          },
          "colorway": [
           "#636efa",
           "#EF553B",
           "#00cc96",
           "#ab63fa",
           "#FFA15A",
           "#19d3f3",
           "#FF6692",
           "#B6E880",
           "#FF97FF",
           "#FECB52"
          ],
          "font": {
           "color": "#2a3f5f"
          },
          "geo": {
           "bgcolor": "white",
           "lakecolor": "white",
           "landcolor": "#E5ECF6",
           "showlakes": true,
           "showland": true,
           "subunitcolor": "white"
          },
          "hoverlabel": {
           "align": "left"
          },
          "hovermode": "closest",
          "mapbox": {
           "style": "light"
          },
          "paper_bgcolor": "white",
          "plot_bgcolor": "#E5ECF6",
          "polar": {
           "angularaxis": {
            "gridcolor": "white",
            "linecolor": "white",
            "ticks": ""
           },
           "bgcolor": "#E5ECF6",
           "radialaxis": {
            "gridcolor": "white",
            "linecolor": "white",
            "ticks": ""
           }
          },
          "scene": {
           "xaxis": {
            "backgroundcolor": "#E5ECF6",
            "gridcolor": "white",
            "gridwidth": 2,
            "linecolor": "white",
            "showbackground": true,
            "ticks": "",
            "zerolinecolor": "white"
           },
           "yaxis": {
            "backgroundcolor": "#E5ECF6",
            "gridcolor": "white",
            "gridwidth": 2,
            "linecolor": "white",
            "showbackground": true,
            "ticks": "",
            "zerolinecolor": "white"
           },
           "zaxis": {
            "backgroundcolor": "#E5ECF6",
            "gridcolor": "white",
            "gridwidth": 2,
            "linecolor": "white",
            "showbackground": true,
            "ticks": "",
            "zerolinecolor": "white"
           }
          },
          "shapedefaults": {
           "line": {
            "color": "#2a3f5f"
           }
          },
          "ternary": {
           "aaxis": {
            "gridcolor": "white",
            "linecolor": "white",
            "ticks": ""
           },
           "baxis": {
            "gridcolor": "white",
            "linecolor": "white",
            "ticks": ""
           },
           "bgcolor": "#E5ECF6",
           "caxis": {
            "gridcolor": "white",
            "linecolor": "white",
            "ticks": ""
           }
          },
          "title": {
           "x": 0.05
          },
          "xaxis": {
           "automargin": true,
           "gridcolor": "white",
           "linecolor": "white",
           "ticks": "",
           "title": {
            "standoff": 15
           },
           "zerolinecolor": "white",
           "zerolinewidth": 2
          },
          "yaxis": {
           "automargin": true,
           "gridcolor": "white",
           "linecolor": "white",
           "ticks": "",
           "title": {
            "standoff": 15
           },
           "zerolinecolor": "white",
           "zerolinewidth": 2
          }
         }
        },
        "title": {
         "font": {
          "color": "#4D5663"
         }
        },
        "xaxis": {
         "gridcolor": "#E1E5ED",
         "showgrid": true,
         "tickfont": {
          "color": "#4D5663"
         },
         "title": {
          "font": {
           "color": "#4D5663"
          },
          "text": "Cap"
         },
         "zerolinecolor": "#E1E5ED"
        },
        "yaxis": {
         "gridcolor": "#E1E5ED",
         "showgrid": true,
         "tickfont": {
          "color": "#4D5663"
         },
         "title": {
          "font": {
           "color": "#4D5663"
          },
          "text": "Number of Values"
         },
         "zerolinecolor": "#E1E5ED"
        }
       }
      },
      "text/html": [
       "<div>                            <div id=\"190bdc98-6b9a-4526-867d-fd75f1943463\" class=\"plotly-graph-div\" style=\"height:525px; width:100%;\"></div>            <script type=\"text/javascript\">                require([\"plotly\"], function(Plotly) {                    window.PLOTLYENV=window.PLOTLYENV || {};\n",
       "                    window.PLOTLYENV.BASE_URL='https://plot.ly';                                    if (document.getElementById(\"190bdc98-6b9a-4526-867d-fd75f1943463\")) {                    Plotly.newPlot(                        \"190bdc98-6b9a-4526-867d-fd75f1943463\",                        [{\"marker\":{\"color\":\"rgba(255, 153, 51, 0.6)\",\"line\":{\"color\":\"rgba(255, 153, 51, 1.0)\",\"width\":1}},\"name\":\"Cap\",\"orientation\":\"v\",\"text\":\"\",\"x\":[\"Small Cap\",\"Mid Cap\",\"Large Cap\"],\"y\":[1510,280,225],\"type\":\"bar\"}],                        {\"legend\":{\"bgcolor\":\"#F5F6F9\",\"font\":{\"color\":\"#4D5663\"}},\"paper_bgcolor\":\"#F5F6F9\",\"plot_bgcolor\":\"#F5F6F9\",\"template\":{\"data\":{\"barpolar\":[{\"marker\":{\"line\":{\"color\":\"#E5ECF6\",\"width\":0.5},\"pattern\":{\"fillmode\":\"overlay\",\"size\":10,\"solidity\":0.2}},\"type\":\"barpolar\"}],\"bar\":[{\"error_x\":{\"color\":\"#2a3f5f\"},\"error_y\":{\"color\":\"#2a3f5f\"},\"marker\":{\"line\":{\"color\":\"#E5ECF6\",\"width\":0.5},\"pattern\":{\"fillmode\":\"overlay\",\"size\":10,\"solidity\":0.2}},\"type\":\"bar\"}],\"carpet\":[{\"aaxis\":{\"endlinecolor\":\"#2a3f5f\",\"gridcolor\":\"white\",\"linecolor\":\"white\",\"minorgridcolor\":\"white\",\"startlinecolor\":\"#2a3f5f\"},\"baxis\":{\"endlinecolor\":\"#2a3f5f\",\"gridcolor\":\"white\",\"linecolor\":\"white\",\"minorgridcolor\":\"white\",\"startlinecolor\":\"#2a3f5f\"},\"type\":\"carpet\"}],\"choropleth\":[{\"colorbar\":{\"outlinewidth\":0,\"ticks\":\"\"},\"type\":\"choropleth\"}],\"contourcarpet\":[{\"colorbar\":{\"outlinewidth\":0,\"ticks\":\"\"},\"type\":\"contourcarpet\"}],\"contour\":[{\"colorbar\":{\"outlinewidth\":0,\"ticks\":\"\"},\"colorscale\":[[0.0,\"#0d0887\"],[0.1111111111111111,\"#46039f\"],[0.2222222222222222,\"#7201a8\"],[0.3333333333333333,\"#9c179e\"],[0.4444444444444444,\"#bd3786\"],[0.5555555555555556,\"#d8576b\"],[0.6666666666666666,\"#ed7953\"],[0.7777777777777778,\"#fb9f3a\"],[0.8888888888888888,\"#fdca26\"],[1.0,\"#f0f921\"]],\"type\":\"contour\"}],\"heatmapgl\":[{\"colorbar\":{\"outlinewidth\":0,\"ticks\":\"\"},\"colorscale\":[[0.0,\"#0d0887\"],[0.1111111111111111,\"#46039f\"],[0.2222222222222222,\"#7201a8\"],[0.3333333333333333,\"#9c179e\"],[0.4444444444444444,\"#bd3786\"],[0.5555555555555556,\"#d8576b\"],[0.6666666666666666,\"#ed7953\"],[0.7777777777777778,\"#fb9f3a\"],[0.8888888888888888,\"#fdca26\"],[1.0,\"#f0f921\"]],\"type\":\"heatmapgl\"}],\"heatmap\":[{\"colorbar\":{\"outlinewidth\":0,\"ticks\":\"\"},\"colorscale\":[[0.0,\"#0d0887\"],[0.1111111111111111,\"#46039f\"],[0.2222222222222222,\"#7201a8\"],[0.3333333333333333,\"#9c179e\"],[0.4444444444444444,\"#bd3786\"],[0.5555555555555556,\"#d8576b\"],[0.6666666666666666,\"#ed7953\"],[0.7777777777777778,\"#fb9f3a\"],[0.8888888888888888,\"#fdca26\"],[1.0,\"#f0f921\"]],\"type\":\"heatmap\"}],\"histogram2dcontour\":[{\"colorbar\":{\"outlinewidth\":0,\"ticks\":\"\"},\"colorscale\":[[0.0,\"#0d0887\"],[0.1111111111111111,\"#46039f\"],[0.2222222222222222,\"#7201a8\"],[0.3333333333333333,\"#9c179e\"],[0.4444444444444444,\"#bd3786\"],[0.5555555555555556,\"#d8576b\"],[0.6666666666666666,\"#ed7953\"],[0.7777777777777778,\"#fb9f3a\"],[0.8888888888888888,\"#fdca26\"],[1.0,\"#f0f921\"]],\"type\":\"histogram2dcontour\"}],\"histogram2d\":[{\"colorbar\":{\"outlinewidth\":0,\"ticks\":\"\"},\"colorscale\":[[0.0,\"#0d0887\"],[0.1111111111111111,\"#46039f\"],[0.2222222222222222,\"#7201a8\"],[0.3333333333333333,\"#9c179e\"],[0.4444444444444444,\"#bd3786\"],[0.5555555555555556,\"#d8576b\"],[0.6666666666666666,\"#ed7953\"],[0.7777777777777778,\"#fb9f3a\"],[0.8888888888888888,\"#fdca26\"],[1.0,\"#f0f921\"]],\"type\":\"histogram2d\"}],\"histogram\":[{\"marker\":{\"pattern\":{\"fillmode\":\"overlay\",\"size\":10,\"solidity\":0.2}},\"type\":\"histogram\"}],\"mesh3d\":[{\"colorbar\":{\"outlinewidth\":0,\"ticks\":\"\"},\"type\":\"mesh3d\"}],\"parcoords\":[{\"line\":{\"colorbar\":{\"outlinewidth\":0,\"ticks\":\"\"}},\"type\":\"parcoords\"}],\"pie\":[{\"automargin\":true,\"type\":\"pie\"}],\"scatter3d\":[{\"line\":{\"colorbar\":{\"outlinewidth\":0,\"ticks\":\"\"}},\"marker\":{\"colorbar\":{\"outlinewidth\":0,\"ticks\":\"\"}},\"type\":\"scatter3d\"}],\"scattercarpet\":[{\"marker\":{\"colorbar\":{\"outlinewidth\":0,\"ticks\":\"\"}},\"type\":\"scattercarpet\"}],\"scattergeo\":[{\"marker\":{\"colorbar\":{\"outlinewidth\":0,\"ticks\":\"\"}},\"type\":\"scattergeo\"}],\"scattergl\":[{\"marker\":{\"colorbar\":{\"outlinewidth\":0,\"ticks\":\"\"}},\"type\":\"scattergl\"}],\"scattermapbox\":[{\"marker\":{\"colorbar\":{\"outlinewidth\":0,\"ticks\":\"\"}},\"type\":\"scattermapbox\"}],\"scatterpolargl\":[{\"marker\":{\"colorbar\":{\"outlinewidth\":0,\"ticks\":\"\"}},\"type\":\"scatterpolargl\"}],\"scatterpolar\":[{\"marker\":{\"colorbar\":{\"outlinewidth\":0,\"ticks\":\"\"}},\"type\":\"scatterpolar\"}],\"scatter\":[{\"marker\":{\"colorbar\":{\"outlinewidth\":0,\"ticks\":\"\"}},\"type\":\"scatter\"}],\"scatterternary\":[{\"marker\":{\"colorbar\":{\"outlinewidth\":0,\"ticks\":\"\"}},\"type\":\"scatterternary\"}],\"surface\":[{\"colorbar\":{\"outlinewidth\":0,\"ticks\":\"\"},\"colorscale\":[[0.0,\"#0d0887\"],[0.1111111111111111,\"#46039f\"],[0.2222222222222222,\"#7201a8\"],[0.3333333333333333,\"#9c179e\"],[0.4444444444444444,\"#bd3786\"],[0.5555555555555556,\"#d8576b\"],[0.6666666666666666,\"#ed7953\"],[0.7777777777777778,\"#fb9f3a\"],[0.8888888888888888,\"#fdca26\"],[1.0,\"#f0f921\"]],\"type\":\"surface\"}],\"table\":[{\"cells\":{\"fill\":{\"color\":\"#EBF0F8\"},\"line\":{\"color\":\"white\"}},\"header\":{\"fill\":{\"color\":\"#C8D4E3\"},\"line\":{\"color\":\"white\"}},\"type\":\"table\"}]},\"layout\":{\"annotationdefaults\":{\"arrowcolor\":\"#2a3f5f\",\"arrowhead\":0,\"arrowwidth\":1},\"autotypenumbers\":\"strict\",\"coloraxis\":{\"colorbar\":{\"outlinewidth\":0,\"ticks\":\"\"}},\"colorscale\":{\"diverging\":[[0,\"#8e0152\"],[0.1,\"#c51b7d\"],[0.2,\"#de77ae\"],[0.3,\"#f1b6da\"],[0.4,\"#fde0ef\"],[0.5,\"#f7f7f7\"],[0.6,\"#e6f5d0\"],[0.7,\"#b8e186\"],[0.8,\"#7fbc41\"],[0.9,\"#4d9221\"],[1,\"#276419\"]],\"sequential\":[[0.0,\"#0d0887\"],[0.1111111111111111,\"#46039f\"],[0.2222222222222222,\"#7201a8\"],[0.3333333333333333,\"#9c179e\"],[0.4444444444444444,\"#bd3786\"],[0.5555555555555556,\"#d8576b\"],[0.6666666666666666,\"#ed7953\"],[0.7777777777777778,\"#fb9f3a\"],[0.8888888888888888,\"#fdca26\"],[1.0,\"#f0f921\"]],\"sequentialminus\":[[0.0,\"#0d0887\"],[0.1111111111111111,\"#46039f\"],[0.2222222222222222,\"#7201a8\"],[0.3333333333333333,\"#9c179e\"],[0.4444444444444444,\"#bd3786\"],[0.5555555555555556,\"#d8576b\"],[0.6666666666666666,\"#ed7953\"],[0.7777777777777778,\"#fb9f3a\"],[0.8888888888888888,\"#fdca26\"],[1.0,\"#f0f921\"]]},\"colorway\":[\"#636efa\",\"#EF553B\",\"#00cc96\",\"#ab63fa\",\"#FFA15A\",\"#19d3f3\",\"#FF6692\",\"#B6E880\",\"#FF97FF\",\"#FECB52\"],\"font\":{\"color\":\"#2a3f5f\"},\"geo\":{\"bgcolor\":\"white\",\"lakecolor\":\"white\",\"landcolor\":\"#E5ECF6\",\"showlakes\":true,\"showland\":true,\"subunitcolor\":\"white\"},\"hoverlabel\":{\"align\":\"left\"},\"hovermode\":\"closest\",\"mapbox\":{\"style\":\"light\"},\"paper_bgcolor\":\"white\",\"plot_bgcolor\":\"#E5ECF6\",\"polar\":{\"angularaxis\":{\"gridcolor\":\"white\",\"linecolor\":\"white\",\"ticks\":\"\"},\"bgcolor\":\"#E5ECF6\",\"radialaxis\":{\"gridcolor\":\"white\",\"linecolor\":\"white\",\"ticks\":\"\"}},\"scene\":{\"xaxis\":{\"backgroundcolor\":\"#E5ECF6\",\"gridcolor\":\"white\",\"gridwidth\":2,\"linecolor\":\"white\",\"showbackground\":true,\"ticks\":\"\",\"zerolinecolor\":\"white\"},\"yaxis\":{\"backgroundcolor\":\"#E5ECF6\",\"gridcolor\":\"white\",\"gridwidth\":2,\"linecolor\":\"white\",\"showbackground\":true,\"ticks\":\"\",\"zerolinecolor\":\"white\"},\"zaxis\":{\"backgroundcolor\":\"#E5ECF6\",\"gridcolor\":\"white\",\"gridwidth\":2,\"linecolor\":\"white\",\"showbackground\":true,\"ticks\":\"\",\"zerolinecolor\":\"white\"}},\"shapedefaults\":{\"line\":{\"color\":\"#2a3f5f\"}},\"ternary\":{\"aaxis\":{\"gridcolor\":\"white\",\"linecolor\":\"white\",\"ticks\":\"\"},\"baxis\":{\"gridcolor\":\"white\",\"linecolor\":\"white\",\"ticks\":\"\"},\"bgcolor\":\"#E5ECF6\",\"caxis\":{\"gridcolor\":\"white\",\"linecolor\":\"white\",\"ticks\":\"\"}},\"title\":{\"x\":0.05},\"xaxis\":{\"automargin\":true,\"gridcolor\":\"white\",\"linecolor\":\"white\",\"ticks\":\"\",\"title\":{\"standoff\":15},\"zerolinecolor\":\"white\",\"zerolinewidth\":2},\"yaxis\":{\"automargin\":true,\"gridcolor\":\"white\",\"linecolor\":\"white\",\"ticks\":\"\",\"title\":{\"standoff\":15},\"zerolinecolor\":\"white\",\"zerolinewidth\":2}}},\"title\":{\"font\":{\"color\":\"#4D5663\"}},\"xaxis\":{\"gridcolor\":\"#E1E5ED\",\"showgrid\":true,\"tickfont\":{\"color\":\"#4D5663\"},\"title\":{\"font\":{\"color\":\"#4D5663\"},\"text\":\"Cap\"},\"zerolinecolor\":\"#E1E5ED\"},\"yaxis\":{\"gridcolor\":\"#E1E5ED\",\"showgrid\":true,\"tickfont\":{\"color\":\"#4D5663\"},\"title\":{\"font\":{\"color\":\"#4D5663\"},\"text\":\"Number of Values\"},\"zerolinecolor\":\"#E1E5ED\"}},                        {\"showLink\": true, \"linkText\": \"Export to plot.ly\", \"plotlyServerURL\": \"https://plot.ly\", \"responsive\": true}                    ).then(function(){\n",
       "                            \n",
       "var gd = document.getElementById('190bdc98-6b9a-4526-867d-fd75f1943463');\n",
       "var x = new MutationObserver(function (mutations, observer) {{\n",
       "        var display = window.getComputedStyle(gd).display;\n",
       "        if (!display || display === 'none') {{\n",
       "            console.log([gd, 'removed!']);\n",
       "            Plotly.purge(gd);\n",
       "            observer.disconnect();\n",
       "        }}\n",
       "}});\n",
       "\n",
       "// Listen for the removal of the full notebook cells\n",
       "var notebookContainer = gd.closest('#notebook-container');\n",
       "if (notebookContainer) {{\n",
       "    x.observe(notebookContainer, {childList: true});\n",
       "}}\n",
       "\n",
       "// Listen for the clearing of the current output cell\n",
       "var outputEl = gd.closest('.output');\n",
       "if (outputEl) {{\n",
       "    x.observe(outputEl, {childList: true});\n",
       "}}\n",
       "\n",
       "                        })                };                });            </script>        </div>"
      ]
     },
     "metadata": {},
     "output_type": "display_data"
    }
   ],
   "source": [
    "df4.iplot(kind='bar',xTitle='Cap',yTitle='Number of Values')"
   ]
  },
  {
   "cell_type": "code",
   "execution_count": 20,
   "id": "797e151a",
   "metadata": {},
   "outputs": [],
   "source": [
    "df5=df1.sample(n=10)"
   ]
  },
  {
   "cell_type": "code",
   "execution_count": 21,
   "id": "4e282db1",
   "metadata": {},
   "outputs": [
    {
     "data": {
      "text/html": [
       "<div>\n",
       "<style scoped>\n",
       "    .dataframe tbody tr th:only-of-type {\n",
       "        vertical-align: middle;\n",
       "    }\n",
       "\n",
       "    .dataframe tbody tr th {\n",
       "        vertical-align: top;\n",
       "    }\n",
       "\n",
       "    .dataframe thead th {\n",
       "        text-align: right;\n",
       "    }\n",
       "</style>\n",
       "<table border=\"1\" class=\"dataframe\">\n",
       "  <thead>\n",
       "    <tr style=\"text-align: right;\">\n",
       "      <th></th>\n",
       "      <th>Name</th>\n",
       "      <th>Ticker</th>\n",
       "      <th>Sub-Sector</th>\n",
       "      <th>Market Cap</th>\n",
       "      <th>Close Price</th>\n",
       "      <th>PE Ratio</th>\n",
       "      <th>Return on Equity</th>\n",
       "      <th>Return on Assets</th>\n",
       "      <th>Net Profit Margin</th>\n",
       "      <th>5Y Avg EBITDA Margin</th>\n",
       "      <th>EBITDA Margin</th>\n",
       "      <th>1Y Return vs Nifty</th>\n",
       "      <th>5Y CAGR</th>\n",
       "      <th>Debt to Equity</th>\n",
       "      <th>Long Term Debt to Equity</th>\n",
       "      <th>Cap</th>\n",
       "    </tr>\n",
       "  </thead>\n",
       "  <tbody>\n",
       "    <tr>\n",
       "      <th>727</th>\n",
       "      <td>Gufic Biosciences Ltd</td>\n",
       "      <td>GUFICBIO</td>\n",
       "      <td>Pharmaceuticals</td>\n",
       "      <td>2286.436174</td>\n",
       "      <td>241.05</td>\n",
       "      <td>51.6942386165499</td>\n",
       "      <td>29.2188274153592</td>\n",
       "      <td>11.0634466025489</td>\n",
       "      <td>9.00026453411472</td>\n",
       "      <td>14.1687205973258</td>\n",
       "      <td>17.8357039659768</td>\n",
       "      <td>110.771836200568</td>\n",
       "      <td>31.1183122045657</td>\n",
       "      <td>35.4840569682293</td>\n",
       "      <td>22.0550077841204</td>\n",
       "      <td>Small Cap</td>\n",
       "    </tr>\n",
       "    <tr>\n",
       "      <th>413</th>\n",
       "      <td>Rail Vikas Nigam Ltd</td>\n",
       "      <td>RVNL</td>\n",
       "      <td>Specialized Finance</td>\n",
       "      <td>7203.744100</td>\n",
       "      <td>35.8</td>\n",
       "      <td>7.8096986155831</td>\n",
       "      <td>17.2636866667353</td>\n",
       "      <td>6.94939592744499</td>\n",
       "      <td>5.87033223276404</td>\n",
       "      <td>8.28968062695138</td>\n",
       "      <td>7.56528955494403</td>\n",
       "      <td>6.71428398585721</td>\n",
       "      <td>26.3897950394094</td>\n",
       "      <td>101.879325799504</td>\n",
       "      <td>101.879325799504</td>\n",
       "      <td>Mid Cap</td>\n",
       "    </tr>\n",
       "    <tr>\n",
       "      <th>631</th>\n",
       "      <td>IRB InvIT Fund</td>\n",
       "      <td>IRBINVIT</td>\n",
       "      <td>Roads</td>\n",
       "      <td>3083.616000</td>\n",
       "      <td>52.84</td>\n",
       "      <td>17.0506828863699</td>\n",
       "      <td>4.02852153148417</td>\n",
       "      <td>1.45646451594198</td>\n",
       "      <td>15.5785647218944</td>\n",
       "      <td>NaN</td>\n",
       "      <td>80.5063356562637</td>\n",
       "      <td>-22.427417165022</td>\n",
       "      <td>NaN</td>\n",
       "      <td>40.515773925069</td>\n",
       "      <td>39.269527023457</td>\n",
       "      <td>Small Cap</td>\n",
       "    </tr>\n",
       "    <tr>\n",
       "      <th>1132</th>\n",
       "      <td>Dcm Shriram Industries Ltd</td>\n",
       "      <td>DCMSRIND</td>\n",
       "      <td>Packaged Foods &amp; Meats</td>\n",
       "      <td>763.791384</td>\n",
       "      <td>100.85</td>\n",
       "      <td>11.7960059351351</td>\n",
       "      <td>11.0079733428537</td>\n",
       "      <td>3.93643343931813</td>\n",
       "      <td>3.30323436384042</td>\n",
       "      <td>9.31465714650453</td>\n",
       "      <td>8.54555657585961</td>\n",
       "      <td>156.100978059741</td>\n",
       "      <td>10.3977335181816</td>\n",
       "      <td>82.2980158215536</td>\n",
       "      <td>21.5293087796654</td>\n",
       "      <td>Small Cap</td>\n",
       "    </tr>\n",
       "    <tr>\n",
       "      <th>1927</th>\n",
       "      <td>Damodar Industries Ltd</td>\n",
       "      <td>DAMODARIND</td>\n",
       "      <td>Textiles</td>\n",
       "      <td>146.440500</td>\n",
       "      <td>60.95</td>\n",
       "      <td>-23.6575928917607</td>\n",
       "      <td>-6.34936916606837</td>\n",
       "      <td>-1.30865424255559</td>\n",
       "      <td>-1.07639070026259</td>\n",
       "      <td>6.01348075793959</td>\n",
       "      <td>8.02510998661032</td>\n",
       "      <td>110.060802696257</td>\n",
       "      <td>9.63462344976467</td>\n",
       "      <td>341.848218895199</td>\n",
       "      <td>203.954568921012</td>\n",
       "      <td>Small Cap</td>\n",
       "    </tr>\n",
       "    <tr>\n",
       "      <th>751</th>\n",
       "      <td>Alembic Ltd</td>\n",
       "      <td>ALEMBICLTD</td>\n",
       "      <td>Pharmaceuticals</td>\n",
       "      <td>2106.894899</td>\n",
       "      <td>82.05</td>\n",
       "      <td>6.14541739219461</td>\n",
       "      <td>18.4566684970445</td>\n",
       "      <td>17.6736225668096</td>\n",
       "      <td>409.165771571787</td>\n",
       "      <td>32.3601914582671</td>\n",
       "      <td>25.46843298723</td>\n",
       "      <td>-34.5786328096887</td>\n",
       "      <td>17.4900047288901</td>\n",
       "      <td>0.0121896535961655</td>\n",
       "      <td>0</td>\n",
       "      <td>Small Cap</td>\n",
       "    </tr>\n",
       "    <tr>\n",
       "      <th>1948</th>\n",
       "      <td>Sunedison Infrastructure Ltd</td>\n",
       "      <td>SUNEDISON</td>\n",
       "      <td>Renewable Energy Equipment &amp; Services</td>\n",
       "      <td>142.599224</td>\n",
       "      <td>329</td>\n",
       "      <td>-5.15356790748103</td>\n",
       "      <td>-19.0545053885618</td>\n",
       "      <td>-7.93518784055061</td>\n",
       "      <td>-32.7999051683262</td>\n",
       "      <td>NaN</td>\n",
       "      <td>-15.0663821716453</td>\n",
       "      <td>533.457022891237</td>\n",
       "      <td>126.245829800573</td>\n",
       "      <td>85.1395270648885</td>\n",
       "      <td>74.3583996413762</td>\n",
       "      <td>Small Cap</td>\n",
       "    </tr>\n",
       "    <tr>\n",
       "      <th>492</th>\n",
       "      <td>Mazagon Dock Shipbuilders Ltd</td>\n",
       "      <td>MAZDOCK</td>\n",
       "      <td>Shipbuilding</td>\n",
       "      <td>5137.044300</td>\n",
       "      <td>249.85</td>\n",
       "      <td>9.99697252169852</td>\n",
       "      <td>15.8327800107532</td>\n",
       "      <td>2.23014026803694</td>\n",
       "      <td>11.1178904005262</td>\n",
       "      <td>16.274955095619</td>\n",
       "      <td>14.5880932599439</td>\n",
       "      <td>2.34163668297964</td>\n",
       "      <td>NaN</td>\n",
       "      <td>0</td>\n",
       "      <td>0</td>\n",
       "      <td>Mid Cap</td>\n",
       "    </tr>\n",
       "    <tr>\n",
       "      <th>1060</th>\n",
       "      <td>Indian Hume Pipe Company Ltd</td>\n",
       "      <td>INDIANHUME</td>\n",
       "      <td>Water Management</td>\n",
       "      <td>917.347164</td>\n",
       "      <td>188.85</td>\n",
       "      <td>21.8312033305568</td>\n",
       "      <td>7.1754851819913</td>\n",
       "      <td>2.1403285368649</td>\n",
       "      <td>3.31215613324296</td>\n",
       "      <td>11.5041931004574</td>\n",
       "      <td>12.0276512225498</td>\n",
       "      <td>-11.8481310024323</td>\n",
       "      <td>-13.107673108138</td>\n",
       "      <td>92.8737387148168</td>\n",
       "      <td>6.31804301646308</td>\n",
       "      <td>Small Cap</td>\n",
       "    </tr>\n",
       "    <tr>\n",
       "      <th>1554</th>\n",
       "      <td>Emkay Global Financial Services Ltd</td>\n",
       "      <td>EMKAY</td>\n",
       "      <td>Investment Banking &amp; Brokerage</td>\n",
       "      <td>286.565875</td>\n",
       "      <td>110</td>\n",
       "      <td>25.7703124910072</td>\n",
       "      <td>6.96654554567096</td>\n",
       "      <td>2.35224436265177</td>\n",
       "      <td>6.74021093465874</td>\n",
       "      <td>13.2984831332766</td>\n",
       "      <td>15.1412292399079</td>\n",
       "      <td>33.0537903381554</td>\n",
       "      <td>10.1621994475342</td>\n",
       "      <td>7.02524038461538</td>\n",
       "      <td>1.015625</td>\n",
       "      <td>Small Cap</td>\n",
       "    </tr>\n",
       "  </tbody>\n",
       "</table>\n",
       "</div>"
      ],
      "text/plain": [
       "                                     Name      Ticker  \\\n",
       "727                 Gufic Biosciences Ltd    GUFICBIO   \n",
       "413                  Rail Vikas Nigam Ltd        RVNL   \n",
       "631                        IRB InvIT Fund    IRBINVIT   \n",
       "1132           Dcm Shriram Industries Ltd    DCMSRIND   \n",
       "1927               Damodar Industries Ltd  DAMODARIND   \n",
       "751                           Alembic Ltd  ALEMBICLTD   \n",
       "1948         Sunedison Infrastructure Ltd   SUNEDISON   \n",
       "492         Mazagon Dock Shipbuilders Ltd     MAZDOCK   \n",
       "1060         Indian Hume Pipe Company Ltd  INDIANHUME   \n",
       "1554  Emkay Global Financial Services Ltd       EMKAY   \n",
       "\n",
       "                                 Sub-Sector   Market Cap Close Price  \\\n",
       "727                         Pharmaceuticals  2286.436174      241.05   \n",
       "413                     Specialized Finance  7203.744100        35.8   \n",
       "631                                   Roads  3083.616000       52.84   \n",
       "1132                 Packaged Foods & Meats   763.791384      100.85   \n",
       "1927                               Textiles   146.440500       60.95   \n",
       "751                         Pharmaceuticals  2106.894899       82.05   \n",
       "1948  Renewable Energy Equipment & Services   142.599224         329   \n",
       "492                            Shipbuilding  5137.044300      249.85   \n",
       "1060                       Water Management   917.347164      188.85   \n",
       "1554         Investment Banking & Brokerage   286.565875         110   \n",
       "\n",
       "               PE Ratio   Return on Equity   Return on Assets  \\\n",
       "727    51.6942386165499   29.2188274153592   11.0634466025489   \n",
       "413     7.8096986155831   17.2636866667353   6.94939592744499   \n",
       "631    17.0506828863699   4.02852153148417   1.45646451594198   \n",
       "1132   11.7960059351351   11.0079733428537   3.93643343931813   \n",
       "1927  -23.6575928917607  -6.34936916606837  -1.30865424255559   \n",
       "751    6.14541739219461   18.4566684970445   17.6736225668096   \n",
       "1948  -5.15356790748103  -19.0545053885618  -7.93518784055061   \n",
       "492    9.99697252169852   15.8327800107532   2.23014026803694   \n",
       "1060   21.8312033305568    7.1754851819913    2.1403285368649   \n",
       "1554   25.7703124910072   6.96654554567096   2.35224436265177   \n",
       "\n",
       "      Net Profit Margin 5Y Avg EBITDA Margin      EBITDA Margin  \\\n",
       "727    9.00026453411472     14.1687205973258   17.8357039659768   \n",
       "413    5.87033223276404     8.28968062695138   7.56528955494403   \n",
       "631    15.5785647218944                  NaN   80.5063356562637   \n",
       "1132   3.30323436384042     9.31465714650453   8.54555657585961   \n",
       "1927  -1.07639070026259     6.01348075793959   8.02510998661032   \n",
       "751    409.165771571787     32.3601914582671     25.46843298723   \n",
       "1948  -32.7999051683262                  NaN  -15.0663821716453   \n",
       "492    11.1178904005262      16.274955095619   14.5880932599439   \n",
       "1060   3.31215613324296     11.5041931004574   12.0276512225498   \n",
       "1554   6.74021093465874     13.2984831332766   15.1412292399079   \n",
       "\n",
       "     1Y Return vs Nifty           5Y CAGR      Debt to Equity  \\\n",
       "727    110.771836200568  31.1183122045657    35.4840569682293   \n",
       "413    6.71428398585721  26.3897950394094    101.879325799504   \n",
       "631    -22.427417165022               NaN     40.515773925069   \n",
       "1132   156.100978059741  10.3977335181816    82.2980158215536   \n",
       "1927   110.060802696257  9.63462344976467    341.848218895199   \n",
       "751   -34.5786328096887  17.4900047288901  0.0121896535961655   \n",
       "1948   533.457022891237  126.245829800573    85.1395270648885   \n",
       "492    2.34163668297964               NaN                   0   \n",
       "1060  -11.8481310024323  -13.107673108138    92.8737387148168   \n",
       "1554   33.0537903381554  10.1621994475342    7.02524038461538   \n",
       "\n",
       "     Long Term Debt to Equity        Cap  \n",
       "727          22.0550077841204  Small Cap  \n",
       "413          101.879325799504    Mid Cap  \n",
       "631           39.269527023457  Small Cap  \n",
       "1132         21.5293087796654  Small Cap  \n",
       "1927         203.954568921012  Small Cap  \n",
       "751                         0  Small Cap  \n",
       "1948         74.3583996413762  Small Cap  \n",
       "492                         0    Mid Cap  \n",
       "1060         6.31804301646308  Small Cap  \n",
       "1554                 1.015625  Small Cap  "
      ]
     },
     "execution_count": 21,
     "metadata": {},
     "output_type": "execute_result"
    }
   ],
   "source": [
    "df5"
   ]
  },
  {
   "cell_type": "code",
   "execution_count": 22,
   "id": "29b68fcc",
   "metadata": {},
   "outputs": [],
   "source": [
    "df5['Close Price']=pd.to_numeric(df5['Close Price'])"
   ]
  },
  {
   "cell_type": "code",
   "execution_count": 23,
   "id": "79bd199c",
   "metadata": {},
   "outputs": [],
   "source": [
    "df5['PE Ratio']=pd.to_numeric(df5['PE Ratio'])"
   ]
  },
  {
   "cell_type": "code",
   "execution_count": 25,
   "id": "c6d7aec8",
   "metadata": {},
   "outputs": [],
   "source": [
    "df5['EPS']=df5['Close Price']/df5['PE Ratio']"
   ]
  },
  {
   "cell_type": "code",
   "execution_count": 26,
   "id": "94c7d5dc",
   "metadata": {},
   "outputs": [],
   "source": [
    "df5['Y']=1/df5['PE Ratio']"
   ]
  },
  {
   "cell_type": "code",
   "execution_count": 27,
   "id": "78c2cd19",
   "metadata": {},
   "outputs": [],
   "source": [
    "df5['Good']=(df5['EPS']*(8.5+2*0.15)/df5['Y'])"
   ]
  },
  {
   "cell_type": "code",
   "execution_count": 28,
   "id": "a250e12e",
   "metadata": {},
   "outputs": [],
   "source": [
    "df5['Bad']=(df5['EPS']*(8.5+2*0.05)/df5['Y'])"
   ]
  },
  {
   "cell_type": "code",
   "execution_count": 29,
   "id": "db446f2e",
   "metadata": {},
   "outputs": [],
   "source": [
    "df5['Best']=(df5['EPS']*(8.5+2*0.25)/df5['Y'])"
   ]
  },
  {
   "cell_type": "code",
   "execution_count": 30,
   "id": "eaad7d7f",
   "metadata": {},
   "outputs": [
    {
     "data": {
      "text/html": [
       "<div>\n",
       "<style scoped>\n",
       "    .dataframe tbody tr th:only-of-type {\n",
       "        vertical-align: middle;\n",
       "    }\n",
       "\n",
       "    .dataframe tbody tr th {\n",
       "        vertical-align: top;\n",
       "    }\n",
       "\n",
       "    .dataframe thead th {\n",
       "        text-align: right;\n",
       "    }\n",
       "</style>\n",
       "<table border=\"1\" class=\"dataframe\">\n",
       "  <thead>\n",
       "    <tr style=\"text-align: right;\">\n",
       "      <th></th>\n",
       "      <th>Name</th>\n",
       "      <th>Ticker</th>\n",
       "      <th>Sub-Sector</th>\n",
       "      <th>Market Cap</th>\n",
       "      <th>Close Price</th>\n",
       "      <th>PE Ratio</th>\n",
       "      <th>Return on Equity</th>\n",
       "      <th>Return on Assets</th>\n",
       "      <th>Net Profit Margin</th>\n",
       "      <th>5Y Avg EBITDA Margin</th>\n",
       "      <th>...</th>\n",
       "      <th>1Y Return vs Nifty</th>\n",
       "      <th>5Y CAGR</th>\n",
       "      <th>Debt to Equity</th>\n",
       "      <th>Long Term Debt to Equity</th>\n",
       "      <th>Cap</th>\n",
       "      <th>EPS</th>\n",
       "      <th>Y</th>\n",
       "      <th>Good</th>\n",
       "      <th>Bad</th>\n",
       "      <th>Best</th>\n",
       "    </tr>\n",
       "  </thead>\n",
       "  <tbody>\n",
       "    <tr>\n",
       "      <th>727</th>\n",
       "      <td>Gufic Biosciences Ltd</td>\n",
       "      <td>GUFICBIO</td>\n",
       "      <td>Pharmaceuticals</td>\n",
       "      <td>2286.436174</td>\n",
       "      <td>241.05</td>\n",
       "      <td>51.694239</td>\n",
       "      <td>29.2188274153592</td>\n",
       "      <td>11.0634466025489</td>\n",
       "      <td>9.00026453411472</td>\n",
       "      <td>14.1687205973258</td>\n",
       "      <td>...</td>\n",
       "      <td>110.771836200568</td>\n",
       "      <td>31.1183122045657</td>\n",
       "      <td>35.4840569682293</td>\n",
       "      <td>22.0550077841204</td>\n",
       "      <td>Small Cap</td>\n",
       "      <td>4.662995</td>\n",
       "      <td>0.019345</td>\n",
       "      <td>2121.240</td>\n",
       "      <td>2073.030</td>\n",
       "      <td>2169.45</td>\n",
       "    </tr>\n",
       "    <tr>\n",
       "      <th>413</th>\n",
       "      <td>Rail Vikas Nigam Ltd</td>\n",
       "      <td>RVNL</td>\n",
       "      <td>Specialized Finance</td>\n",
       "      <td>7203.744100</td>\n",
       "      <td>35.80</td>\n",
       "      <td>7.809699</td>\n",
       "      <td>17.2636866667353</td>\n",
       "      <td>6.94939592744499</td>\n",
       "      <td>5.87033223276404</td>\n",
       "      <td>8.28968062695138</td>\n",
       "      <td>...</td>\n",
       "      <td>6.71428398585721</td>\n",
       "      <td>26.3897950394094</td>\n",
       "      <td>101.879325799504</td>\n",
       "      <td>101.879325799504</td>\n",
       "      <td>Mid Cap</td>\n",
       "      <td>4.584044</td>\n",
       "      <td>0.128046</td>\n",
       "      <td>315.040</td>\n",
       "      <td>307.880</td>\n",
       "      <td>322.20</td>\n",
       "    </tr>\n",
       "    <tr>\n",
       "      <th>631</th>\n",
       "      <td>IRB InvIT Fund</td>\n",
       "      <td>IRBINVIT</td>\n",
       "      <td>Roads</td>\n",
       "      <td>3083.616000</td>\n",
       "      <td>52.84</td>\n",
       "      <td>17.050683</td>\n",
       "      <td>4.02852153148417</td>\n",
       "      <td>1.45646451594198</td>\n",
       "      <td>15.5785647218944</td>\n",
       "      <td>NaN</td>\n",
       "      <td>...</td>\n",
       "      <td>-22.427417165022</td>\n",
       "      <td>NaN</td>\n",
       "      <td>40.515773925069</td>\n",
       "      <td>39.269527023457</td>\n",
       "      <td>Small Cap</td>\n",
       "      <td>3.098996</td>\n",
       "      <td>0.058649</td>\n",
       "      <td>464.992</td>\n",
       "      <td>454.424</td>\n",
       "      <td>475.56</td>\n",
       "    </tr>\n",
       "    <tr>\n",
       "      <th>1132</th>\n",
       "      <td>Dcm Shriram Industries Ltd</td>\n",
       "      <td>DCMSRIND</td>\n",
       "      <td>Packaged Foods &amp; Meats</td>\n",
       "      <td>763.791384</td>\n",
       "      <td>100.85</td>\n",
       "      <td>11.796006</td>\n",
       "      <td>11.0079733428537</td>\n",
       "      <td>3.93643343931813</td>\n",
       "      <td>3.30323436384042</td>\n",
       "      <td>9.31465714650453</td>\n",
       "      <td>...</td>\n",
       "      <td>156.100978059741</td>\n",
       "      <td>10.3977335181816</td>\n",
       "      <td>82.2980158215536</td>\n",
       "      <td>21.5293087796654</td>\n",
       "      <td>Small Cap</td>\n",
       "      <td>8.549504</td>\n",
       "      <td>0.084774</td>\n",
       "      <td>887.480</td>\n",
       "      <td>867.310</td>\n",
       "      <td>907.65</td>\n",
       "    </tr>\n",
       "    <tr>\n",
       "      <th>1927</th>\n",
       "      <td>Damodar Industries Ltd</td>\n",
       "      <td>DAMODARIND</td>\n",
       "      <td>Textiles</td>\n",
       "      <td>146.440500</td>\n",
       "      <td>60.95</td>\n",
       "      <td>-23.657593</td>\n",
       "      <td>-6.34936916606837</td>\n",
       "      <td>-1.30865424255559</td>\n",
       "      <td>-1.07639070026259</td>\n",
       "      <td>6.01348075793959</td>\n",
       "      <td>...</td>\n",
       "      <td>110.060802696257</td>\n",
       "      <td>9.63462344976467</td>\n",
       "      <td>341.848218895199</td>\n",
       "      <td>203.954568921012</td>\n",
       "      <td>Small Cap</td>\n",
       "      <td>-2.576340</td>\n",
       "      <td>-0.042270</td>\n",
       "      <td>536.360</td>\n",
       "      <td>524.170</td>\n",
       "      <td>548.55</td>\n",
       "    </tr>\n",
       "    <tr>\n",
       "      <th>751</th>\n",
       "      <td>Alembic Ltd</td>\n",
       "      <td>ALEMBICLTD</td>\n",
       "      <td>Pharmaceuticals</td>\n",
       "      <td>2106.894899</td>\n",
       "      <td>82.05</td>\n",
       "      <td>6.145417</td>\n",
       "      <td>18.4566684970445</td>\n",
       "      <td>17.6736225668096</td>\n",
       "      <td>409.165771571787</td>\n",
       "      <td>32.3601914582671</td>\n",
       "      <td>...</td>\n",
       "      <td>-34.5786328096887</td>\n",
       "      <td>17.4900047288901</td>\n",
       "      <td>0.0121896535961655</td>\n",
       "      <td>0</td>\n",
       "      <td>Small Cap</td>\n",
       "      <td>13.351412</td>\n",
       "      <td>0.162723</td>\n",
       "      <td>722.040</td>\n",
       "      <td>705.630</td>\n",
       "      <td>738.45</td>\n",
       "    </tr>\n",
       "    <tr>\n",
       "      <th>1948</th>\n",
       "      <td>Sunedison Infrastructure Ltd</td>\n",
       "      <td>SUNEDISON</td>\n",
       "      <td>Renewable Energy Equipment &amp; Services</td>\n",
       "      <td>142.599224</td>\n",
       "      <td>329.00</td>\n",
       "      <td>-5.153568</td>\n",
       "      <td>-19.0545053885618</td>\n",
       "      <td>-7.93518784055061</td>\n",
       "      <td>-32.7999051683262</td>\n",
       "      <td>NaN</td>\n",
       "      <td>...</td>\n",
       "      <td>533.457022891237</td>\n",
       "      <td>126.245829800573</td>\n",
       "      <td>85.1395270648885</td>\n",
       "      <td>74.3583996413762</td>\n",
       "      <td>Small Cap</td>\n",
       "      <td>-63.839267</td>\n",
       "      <td>-0.194040</td>\n",
       "      <td>2895.200</td>\n",
       "      <td>2829.400</td>\n",
       "      <td>2961.00</td>\n",
       "    </tr>\n",
       "    <tr>\n",
       "      <th>492</th>\n",
       "      <td>Mazagon Dock Shipbuilders Ltd</td>\n",
       "      <td>MAZDOCK</td>\n",
       "      <td>Shipbuilding</td>\n",
       "      <td>5137.044300</td>\n",
       "      <td>249.85</td>\n",
       "      <td>9.996973</td>\n",
       "      <td>15.8327800107532</td>\n",
       "      <td>2.23014026803694</td>\n",
       "      <td>11.1178904005262</td>\n",
       "      <td>16.274955095619</td>\n",
       "      <td>...</td>\n",
       "      <td>2.34163668297964</td>\n",
       "      <td>NaN</td>\n",
       "      <td>0</td>\n",
       "      <td>0</td>\n",
       "      <td>Mid Cap</td>\n",
       "      <td>24.992566</td>\n",
       "      <td>0.100030</td>\n",
       "      <td>2198.680</td>\n",
       "      <td>2148.710</td>\n",
       "      <td>2248.65</td>\n",
       "    </tr>\n",
       "    <tr>\n",
       "      <th>1060</th>\n",
       "      <td>Indian Hume Pipe Company Ltd</td>\n",
       "      <td>INDIANHUME</td>\n",
       "      <td>Water Management</td>\n",
       "      <td>917.347164</td>\n",
       "      <td>188.85</td>\n",
       "      <td>21.831203</td>\n",
       "      <td>7.1754851819913</td>\n",
       "      <td>2.1403285368649</td>\n",
       "      <td>3.31215613324296</td>\n",
       "      <td>11.5041931004574</td>\n",
       "      <td>...</td>\n",
       "      <td>-11.8481310024323</td>\n",
       "      <td>-13.107673108138</td>\n",
       "      <td>92.8737387148168</td>\n",
       "      <td>6.31804301646308</td>\n",
       "      <td>Small Cap</td>\n",
       "      <td>8.650462</td>\n",
       "      <td>0.045806</td>\n",
       "      <td>1661.880</td>\n",
       "      <td>1624.110</td>\n",
       "      <td>1699.65</td>\n",
       "    </tr>\n",
       "    <tr>\n",
       "      <th>1554</th>\n",
       "      <td>Emkay Global Financial Services Ltd</td>\n",
       "      <td>EMKAY</td>\n",
       "      <td>Investment Banking &amp; Brokerage</td>\n",
       "      <td>286.565875</td>\n",
       "      <td>110.00</td>\n",
       "      <td>25.770312</td>\n",
       "      <td>6.96654554567096</td>\n",
       "      <td>2.35224436265177</td>\n",
       "      <td>6.74021093465874</td>\n",
       "      <td>13.2984831332766</td>\n",
       "      <td>...</td>\n",
       "      <td>33.0537903381554</td>\n",
       "      <td>10.1621994475342</td>\n",
       "      <td>7.02524038461538</td>\n",
       "      <td>1.015625</td>\n",
       "      <td>Small Cap</td>\n",
       "      <td>4.268478</td>\n",
       "      <td>0.038804</td>\n",
       "      <td>968.000</td>\n",
       "      <td>946.000</td>\n",
       "      <td>990.00</td>\n",
       "    </tr>\n",
       "  </tbody>\n",
       "</table>\n",
       "<p>10 rows × 21 columns</p>\n",
       "</div>"
      ],
      "text/plain": [
       "                                     Name      Ticker  \\\n",
       "727                 Gufic Biosciences Ltd    GUFICBIO   \n",
       "413                  Rail Vikas Nigam Ltd        RVNL   \n",
       "631                        IRB InvIT Fund    IRBINVIT   \n",
       "1132           Dcm Shriram Industries Ltd    DCMSRIND   \n",
       "1927               Damodar Industries Ltd  DAMODARIND   \n",
       "751                           Alembic Ltd  ALEMBICLTD   \n",
       "1948         Sunedison Infrastructure Ltd   SUNEDISON   \n",
       "492         Mazagon Dock Shipbuilders Ltd     MAZDOCK   \n",
       "1060         Indian Hume Pipe Company Ltd  INDIANHUME   \n",
       "1554  Emkay Global Financial Services Ltd       EMKAY   \n",
       "\n",
       "                                 Sub-Sector   Market Cap  Close Price  \\\n",
       "727                         Pharmaceuticals  2286.436174       241.05   \n",
       "413                     Specialized Finance  7203.744100        35.80   \n",
       "631                                   Roads  3083.616000        52.84   \n",
       "1132                 Packaged Foods & Meats   763.791384       100.85   \n",
       "1927                               Textiles   146.440500        60.95   \n",
       "751                         Pharmaceuticals  2106.894899        82.05   \n",
       "1948  Renewable Energy Equipment & Services   142.599224       329.00   \n",
       "492                            Shipbuilding  5137.044300       249.85   \n",
       "1060                       Water Management   917.347164       188.85   \n",
       "1554         Investment Banking & Brokerage   286.565875       110.00   \n",
       "\n",
       "       PE Ratio   Return on Equity   Return on Assets  Net Profit Margin  \\\n",
       "727   51.694239   29.2188274153592   11.0634466025489   9.00026453411472   \n",
       "413    7.809699   17.2636866667353   6.94939592744499   5.87033223276404   \n",
       "631   17.050683   4.02852153148417   1.45646451594198   15.5785647218944   \n",
       "1132  11.796006   11.0079733428537   3.93643343931813   3.30323436384042   \n",
       "1927 -23.657593  -6.34936916606837  -1.30865424255559  -1.07639070026259   \n",
       "751    6.145417   18.4566684970445   17.6736225668096   409.165771571787   \n",
       "1948  -5.153568  -19.0545053885618  -7.93518784055061  -32.7999051683262   \n",
       "492    9.996973   15.8327800107532   2.23014026803694   11.1178904005262   \n",
       "1060  21.831203    7.1754851819913    2.1403285368649   3.31215613324296   \n",
       "1554  25.770312   6.96654554567096   2.35224436265177   6.74021093465874   \n",
       "\n",
       "     5Y Avg EBITDA Margin  ... 1Y Return vs Nifty           5Y CAGR  \\\n",
       "727      14.1687205973258  ...   110.771836200568  31.1183122045657   \n",
       "413      8.28968062695138  ...   6.71428398585721  26.3897950394094   \n",
       "631                   NaN  ...   -22.427417165022               NaN   \n",
       "1132     9.31465714650453  ...   156.100978059741  10.3977335181816   \n",
       "1927     6.01348075793959  ...   110.060802696257  9.63462344976467   \n",
       "751      32.3601914582671  ...  -34.5786328096887  17.4900047288901   \n",
       "1948                  NaN  ...   533.457022891237  126.245829800573   \n",
       "492       16.274955095619  ...   2.34163668297964               NaN   \n",
       "1060     11.5041931004574  ...  -11.8481310024323  -13.107673108138   \n",
       "1554     13.2984831332766  ...   33.0537903381554  10.1621994475342   \n",
       "\n",
       "          Debt to Equity Long Term Debt to Equity        Cap        EPS  \\\n",
       "727     35.4840569682293         22.0550077841204  Small Cap   4.662995   \n",
       "413     101.879325799504         101.879325799504    Mid Cap   4.584044   \n",
       "631      40.515773925069          39.269527023457  Small Cap   3.098996   \n",
       "1132    82.2980158215536         21.5293087796654  Small Cap   8.549504   \n",
       "1927    341.848218895199         203.954568921012  Small Cap  -2.576340   \n",
       "751   0.0121896535961655                        0  Small Cap  13.351412   \n",
       "1948    85.1395270648885         74.3583996413762  Small Cap -63.839267   \n",
       "492                    0                        0    Mid Cap  24.992566   \n",
       "1060    92.8737387148168         6.31804301646308  Small Cap   8.650462   \n",
       "1554    7.02524038461538                 1.015625  Small Cap   4.268478   \n",
       "\n",
       "             Y      Good       Bad     Best  \n",
       "727   0.019345  2121.240  2073.030  2169.45  \n",
       "413   0.128046   315.040   307.880   322.20  \n",
       "631   0.058649   464.992   454.424   475.56  \n",
       "1132  0.084774   887.480   867.310   907.65  \n",
       "1927 -0.042270   536.360   524.170   548.55  \n",
       "751   0.162723   722.040   705.630   738.45  \n",
       "1948 -0.194040  2895.200  2829.400  2961.00  \n",
       "492   0.100030  2198.680  2148.710  2248.65  \n",
       "1060  0.045806  1661.880  1624.110  1699.65  \n",
       "1554  0.038804   968.000   946.000   990.00  \n",
       "\n",
       "[10 rows x 21 columns]"
      ]
     },
     "execution_count": 30,
     "metadata": {},
     "output_type": "execute_result"
    }
   ],
   "source": [
    "df5"
   ]
  },
  {
   "cell_type": "code",
   "execution_count": 31,
   "id": "219a19f5",
   "metadata": {},
   "outputs": [
    {
     "data": {
      "application/vnd.plotly.v1+json": {
       "config": {
        "linkText": "Export to plot.ly",
        "plotlyServerURL": "https://plot.ly",
        "showLink": true
       },
       "data": [
        {
         "line": {
          "color": "rgba(255, 153, 51, 1.0)",
          "dash": "solid",
          "shape": "linear",
          "width": 1.3
         },
         "mode": "lines",
         "name": "Market Cap",
         "text": "",
         "type": "scatter",
         "x": [
          2121.2400000000007,
          315.04,
          464.9920000000001,
          887.4799999999999,
          536.36,
          722.04,
          2895.2000000000003,
          2198.6800000000003,
          1661.88,
          968.0000000000001
         ],
         "y": [
          2286.43617401,
          7203.7441,
          3083.616,
          763.791384299997,
          146.4405,
          2106.89489874,
          142.599224,
          5137.0443,
          917.34716395,
          286.5658749
         ]
        }
       ],
       "layout": {
        "legend": {
         "bgcolor": "#F5F6F9",
         "font": {
          "color": "#4D5663"
         }
        },
        "paper_bgcolor": "#F5F6F9",
        "plot_bgcolor": "#F5F6F9",
        "template": {
         "data": {
          "bar": [
           {
            "error_x": {
             "color": "#2a3f5f"
            },
            "error_y": {
             "color": "#2a3f5f"
            },
            "marker": {
             "line": {
              "color": "#E5ECF6",
              "width": 0.5
             },
             "pattern": {
              "fillmode": "overlay",
              "size": 10,
              "solidity": 0.2
             }
            },
            "type": "bar"
           }
          ],
          "barpolar": [
           {
            "marker": {
             "line": {
              "color": "#E5ECF6",
              "width": 0.5
             },
             "pattern": {
              "fillmode": "overlay",
              "size": 10,
              "solidity": 0.2
             }
            },
            "type": "barpolar"
           }
          ],
          "carpet": [
           {
            "aaxis": {
             "endlinecolor": "#2a3f5f",
             "gridcolor": "white",
             "linecolor": "white",
             "minorgridcolor": "white",
             "startlinecolor": "#2a3f5f"
            },
            "baxis": {
             "endlinecolor": "#2a3f5f",
             "gridcolor": "white",
             "linecolor": "white",
             "minorgridcolor": "white",
             "startlinecolor": "#2a3f5f"
            },
            "type": "carpet"
           }
          ],
          "choropleth": [
           {
            "colorbar": {
             "outlinewidth": 0,
             "ticks": ""
            },
            "type": "choropleth"
           }
          ],
          "contour": [
           {
            "colorbar": {
             "outlinewidth": 0,
             "ticks": ""
            },
            "colorscale": [
             [
              0,
              "#0d0887"
             ],
             [
              0.1111111111111111,
              "#46039f"
             ],
             [
              0.2222222222222222,
              "#7201a8"
             ],
             [
              0.3333333333333333,
              "#9c179e"
             ],
             [
              0.4444444444444444,
              "#bd3786"
             ],
             [
              0.5555555555555556,
              "#d8576b"
             ],
             [
              0.6666666666666666,
              "#ed7953"
             ],
             [
              0.7777777777777778,
              "#fb9f3a"
             ],
             [
              0.8888888888888888,
              "#fdca26"
             ],
             [
              1,
              "#f0f921"
             ]
            ],
            "type": "contour"
           }
          ],
          "contourcarpet": [
           {
            "colorbar": {
             "outlinewidth": 0,
             "ticks": ""
            },
            "type": "contourcarpet"
           }
          ],
          "heatmap": [
           {
            "colorbar": {
             "outlinewidth": 0,
             "ticks": ""
            },
            "colorscale": [
             [
              0,
              "#0d0887"
             ],
             [
              0.1111111111111111,
              "#46039f"
             ],
             [
              0.2222222222222222,
              "#7201a8"
             ],
             [
              0.3333333333333333,
              "#9c179e"
             ],
             [
              0.4444444444444444,
              "#bd3786"
             ],
             [
              0.5555555555555556,
              "#d8576b"
             ],
             [
              0.6666666666666666,
              "#ed7953"
             ],
             [
              0.7777777777777778,
              "#fb9f3a"
             ],
             [
              0.8888888888888888,
              "#fdca26"
             ],
             [
              1,
              "#f0f921"
             ]
            ],
            "type": "heatmap"
           }
          ],
          "heatmapgl": [
           {
            "colorbar": {
             "outlinewidth": 0,
             "ticks": ""
            },
            "colorscale": [
             [
              0,
              "#0d0887"
             ],
             [
              0.1111111111111111,
              "#46039f"
             ],
             [
              0.2222222222222222,
              "#7201a8"
             ],
             [
              0.3333333333333333,
              "#9c179e"
             ],
             [
              0.4444444444444444,
              "#bd3786"
             ],
             [
              0.5555555555555556,
              "#d8576b"
             ],
             [
              0.6666666666666666,
              "#ed7953"
             ],
             [
              0.7777777777777778,
              "#fb9f3a"
             ],
             [
              0.8888888888888888,
              "#fdca26"
             ],
             [
              1,
              "#f0f921"
             ]
            ],
            "type": "heatmapgl"
           }
          ],
          "histogram": [
           {
            "marker": {
             "pattern": {
              "fillmode": "overlay",
              "size": 10,
              "solidity": 0.2
             }
            },
            "type": "histogram"
           }
          ],
          "histogram2d": [
           {
            "colorbar": {
             "outlinewidth": 0,
             "ticks": ""
            },
            "colorscale": [
             [
              0,
              "#0d0887"
             ],
             [
              0.1111111111111111,
              "#46039f"
             ],
             [
              0.2222222222222222,
              "#7201a8"
             ],
             [
              0.3333333333333333,
              "#9c179e"
             ],
             [
              0.4444444444444444,
              "#bd3786"
             ],
             [
              0.5555555555555556,
              "#d8576b"
             ],
             [
              0.6666666666666666,
              "#ed7953"
             ],
             [
              0.7777777777777778,
              "#fb9f3a"
             ],
             [
              0.8888888888888888,
              "#fdca26"
             ],
             [
              1,
              "#f0f921"
             ]
            ],
            "type": "histogram2d"
           }
          ],
          "histogram2dcontour": [
           {
            "colorbar": {
             "outlinewidth": 0,
             "ticks": ""
            },
            "colorscale": [
             [
              0,
              "#0d0887"
             ],
             [
              0.1111111111111111,
              "#46039f"
             ],
             [
              0.2222222222222222,
              "#7201a8"
             ],
             [
              0.3333333333333333,
              "#9c179e"
             ],
             [
              0.4444444444444444,
              "#bd3786"
             ],
             [
              0.5555555555555556,
              "#d8576b"
             ],
             [
              0.6666666666666666,
              "#ed7953"
             ],
             [
              0.7777777777777778,
              "#fb9f3a"
             ],
             [
              0.8888888888888888,
              "#fdca26"
             ],
             [
              1,
              "#f0f921"
             ]
            ],
            "type": "histogram2dcontour"
           }
          ],
          "mesh3d": [
           {
            "colorbar": {
             "outlinewidth": 0,
             "ticks": ""
            },
            "type": "mesh3d"
           }
          ],
          "parcoords": [
           {
            "line": {
             "colorbar": {
              "outlinewidth": 0,
              "ticks": ""
             }
            },
            "type": "parcoords"
           }
          ],
          "pie": [
           {
            "automargin": true,
            "type": "pie"
           }
          ],
          "scatter": [
           {
            "marker": {
             "colorbar": {
              "outlinewidth": 0,
              "ticks": ""
             }
            },
            "type": "scatter"
           }
          ],
          "scatter3d": [
           {
            "line": {
             "colorbar": {
              "outlinewidth": 0,
              "ticks": ""
             }
            },
            "marker": {
             "colorbar": {
              "outlinewidth": 0,
              "ticks": ""
             }
            },
            "type": "scatter3d"
           }
          ],
          "scattercarpet": [
           {
            "marker": {
             "colorbar": {
              "outlinewidth": 0,
              "ticks": ""
             }
            },
            "type": "scattercarpet"
           }
          ],
          "scattergeo": [
           {
            "marker": {
             "colorbar": {
              "outlinewidth": 0,
              "ticks": ""
             }
            },
            "type": "scattergeo"
           }
          ],
          "scattergl": [
           {
            "marker": {
             "colorbar": {
              "outlinewidth": 0,
              "ticks": ""
             }
            },
            "type": "scattergl"
           }
          ],
          "scattermapbox": [
           {
            "marker": {
             "colorbar": {
              "outlinewidth": 0,
              "ticks": ""
             }
            },
            "type": "scattermapbox"
           }
          ],
          "scatterpolar": [
           {
            "marker": {
             "colorbar": {
              "outlinewidth": 0,
              "ticks": ""
             }
            },
            "type": "scatterpolar"
           }
          ],
          "scatterpolargl": [
           {
            "marker": {
             "colorbar": {
              "outlinewidth": 0,
              "ticks": ""
             }
            },
            "type": "scatterpolargl"
           }
          ],
          "scatterternary": [
           {
            "marker": {
             "colorbar": {
              "outlinewidth": 0,
              "ticks": ""
             }
            },
            "type": "scatterternary"
           }
          ],
          "surface": [
           {
            "colorbar": {
             "outlinewidth": 0,
             "ticks": ""
            },
            "colorscale": [
             [
              0,
              "#0d0887"
             ],
             [
              0.1111111111111111,
              "#46039f"
             ],
             [
              0.2222222222222222,
              "#7201a8"
             ],
             [
              0.3333333333333333,
              "#9c179e"
             ],
             [
              0.4444444444444444,
              "#bd3786"
             ],
             [
              0.5555555555555556,
              "#d8576b"
             ],
             [
              0.6666666666666666,
              "#ed7953"
             ],
             [
              0.7777777777777778,
              "#fb9f3a"
             ],
             [
              0.8888888888888888,
              "#fdca26"
             ],
             [
              1,
              "#f0f921"
             ]
            ],
            "type": "surface"
           }
          ],
          "table": [
           {
            "cells": {
             "fill": {
              "color": "#EBF0F8"
             },
             "line": {
              "color": "white"
             }
            },
            "header": {
             "fill": {
              "color": "#C8D4E3"
             },
             "line": {
              "color": "white"
             }
            },
            "type": "table"
           }
          ]
         },
         "layout": {
          "annotationdefaults": {
           "arrowcolor": "#2a3f5f",
           "arrowhead": 0,
           "arrowwidth": 1
          },
          "autotypenumbers": "strict",
          "coloraxis": {
           "colorbar": {
            "outlinewidth": 0,
            "ticks": ""
           }
          },
          "colorscale": {
           "diverging": [
            [
             0,
             "#8e0152"
            ],
            [
             0.1,
             "#c51b7d"
            ],
            [
             0.2,
             "#de77ae"
            ],
            [
             0.3,
             "#f1b6da"
            ],
            [
             0.4,
             "#fde0ef"
            ],
            [
             0.5,
             "#f7f7f7"
            ],
            [
             0.6,
             "#e6f5d0"
            ],
            [
             0.7,
             "#b8e186"
            ],
            [
             0.8,
             "#7fbc41"
            ],
            [
             0.9,
             "#4d9221"
            ],
            [
             1,
             "#276419"
            ]
           ],
           "sequential": [
            [
             0,
             "#0d0887"
            ],
            [
             0.1111111111111111,
             "#46039f"
            ],
            [
             0.2222222222222222,
             "#7201a8"
            ],
            [
             0.3333333333333333,
             "#9c179e"
            ],
            [
             0.4444444444444444,
             "#bd3786"
            ],
            [
             0.5555555555555556,
             "#d8576b"
            ],
            [
             0.6666666666666666,
             "#ed7953"
            ],
            [
             0.7777777777777778,
             "#fb9f3a"
            ],
            [
             0.8888888888888888,
             "#fdca26"
            ],
            [
             1,
             "#f0f921"
            ]
           ],
           "sequentialminus": [
            [
             0,
             "#0d0887"
            ],
            [
             0.1111111111111111,
             "#46039f"
            ],
            [
             0.2222222222222222,
             "#7201a8"
            ],
            [
             0.3333333333333333,
             "#9c179e"
            ],
            [
             0.4444444444444444,
             "#bd3786"
            ],
            [
             0.5555555555555556,
             "#d8576b"
            ],
            [
             0.6666666666666666,
             "#ed7953"
            ],
            [
             0.7777777777777778,
             "#fb9f3a"
            ],
            [
             0.8888888888888888,
             "#fdca26"
            ],
            [
             1,
             "#f0f921"
            ]
           ]
          },
          "colorway": [
           "#636efa",
           "#EF553B",
           "#00cc96",
           "#ab63fa",
           "#FFA15A",
           "#19d3f3",
           "#FF6692",
           "#B6E880",
           "#FF97FF",
           "#FECB52"
          ],
          "font": {
           "color": "#2a3f5f"
          },
          "geo": {
           "bgcolor": "white",
           "lakecolor": "white",
           "landcolor": "#E5ECF6",
           "showlakes": true,
           "showland": true,
           "subunitcolor": "white"
          },
          "hoverlabel": {
           "align": "left"
          },
          "hovermode": "closest",
          "mapbox": {
           "style": "light"
          },
          "paper_bgcolor": "white",
          "plot_bgcolor": "#E5ECF6",
          "polar": {
           "angularaxis": {
            "gridcolor": "white",
            "linecolor": "white",
            "ticks": ""
           },
           "bgcolor": "#E5ECF6",
           "radialaxis": {
            "gridcolor": "white",
            "linecolor": "white",
            "ticks": ""
           }
          },
          "scene": {
           "xaxis": {
            "backgroundcolor": "#E5ECF6",
            "gridcolor": "white",
            "gridwidth": 2,
            "linecolor": "white",
            "showbackground": true,
            "ticks": "",
            "zerolinecolor": "white"
           },
           "yaxis": {
            "backgroundcolor": "#E5ECF6",
            "gridcolor": "white",
            "gridwidth": 2,
            "linecolor": "white",
            "showbackground": true,
            "ticks": "",
            "zerolinecolor": "white"
           },
           "zaxis": {
            "backgroundcolor": "#E5ECF6",
            "gridcolor": "white",
            "gridwidth": 2,
            "linecolor": "white",
            "showbackground": true,
            "ticks": "",
            "zerolinecolor": "white"
           }
          },
          "shapedefaults": {
           "line": {
            "color": "#2a3f5f"
           }
          },
          "ternary": {
           "aaxis": {
            "gridcolor": "white",
            "linecolor": "white",
            "ticks": ""
           },
           "baxis": {
            "gridcolor": "white",
            "linecolor": "white",
            "ticks": ""
           },
           "bgcolor": "#E5ECF6",
           "caxis": {
            "gridcolor": "white",
            "linecolor": "white",
            "ticks": ""
           }
          },
          "title": {
           "x": 0.05
          },
          "xaxis": {
           "automargin": true,
           "gridcolor": "white",
           "linecolor": "white",
           "ticks": "",
           "title": {
            "standoff": 15
           },
           "zerolinecolor": "white",
           "zerolinewidth": 2
          },
          "yaxis": {
           "automargin": true,
           "gridcolor": "white",
           "linecolor": "white",
           "ticks": "",
           "title": {
            "standoff": 15
           },
           "zerolinecolor": "white",
           "zerolinewidth": 2
          }
         }
        },
        "title": {
         "font": {
          "color": "#4D5663"
         }
        },
        "xaxis": {
         "gridcolor": "#E1E5ED",
         "showgrid": true,
         "tickfont": {
          "color": "#4D5663"
         },
         "title": {
          "font": {
           "color": "#4D5663"
          },
          "text": "Growth"
         },
         "zerolinecolor": "#E1E5ED"
        },
        "yaxis": {
         "gridcolor": "#E1E5ED",
         "showgrid": true,
         "tickfont": {
          "color": "#4D5663"
         },
         "title": {
          "font": {
           "color": "#4D5663"
          },
          "text": "Market Cap"
         },
         "zerolinecolor": "#E1E5ED"
        }
       }
      },
      "text/html": [
       "<div>                            <div id=\"78907d09-e077-4949-b4b1-7e6a0bc355db\" class=\"plotly-graph-div\" style=\"height:525px; width:100%;\"></div>            <script type=\"text/javascript\">                require([\"plotly\"], function(Plotly) {                    window.PLOTLYENV=window.PLOTLYENV || {};\n",
       "                    window.PLOTLYENV.BASE_URL='https://plot.ly';                                    if (document.getElementById(\"78907d09-e077-4949-b4b1-7e6a0bc355db\")) {                    Plotly.newPlot(                        \"78907d09-e077-4949-b4b1-7e6a0bc355db\",                        [{\"line\":{\"color\":\"rgba(255, 153, 51, 1.0)\",\"dash\":\"solid\",\"shape\":\"linear\",\"width\":1.3},\"mode\":\"lines\",\"name\":\"Market Cap\",\"text\":\"\",\"x\":[2121.2400000000007,315.04,464.9920000000001,887.4799999999999,536.36,722.04,2895.2000000000003,2198.6800000000003,1661.88,968.0000000000001],\"y\":[2286.43617401,7203.7441,3083.616,763.791384299997,146.4405,2106.89489874,142.599224,5137.0443,917.34716395,286.5658749],\"type\":\"scatter\"}],                        {\"legend\":{\"bgcolor\":\"#F5F6F9\",\"font\":{\"color\":\"#4D5663\"}},\"paper_bgcolor\":\"#F5F6F9\",\"plot_bgcolor\":\"#F5F6F9\",\"template\":{\"data\":{\"barpolar\":[{\"marker\":{\"line\":{\"color\":\"#E5ECF6\",\"width\":0.5},\"pattern\":{\"fillmode\":\"overlay\",\"size\":10,\"solidity\":0.2}},\"type\":\"barpolar\"}],\"bar\":[{\"error_x\":{\"color\":\"#2a3f5f\"},\"error_y\":{\"color\":\"#2a3f5f\"},\"marker\":{\"line\":{\"color\":\"#E5ECF6\",\"width\":0.5},\"pattern\":{\"fillmode\":\"overlay\",\"size\":10,\"solidity\":0.2}},\"type\":\"bar\"}],\"carpet\":[{\"aaxis\":{\"endlinecolor\":\"#2a3f5f\",\"gridcolor\":\"white\",\"linecolor\":\"white\",\"minorgridcolor\":\"white\",\"startlinecolor\":\"#2a3f5f\"},\"baxis\":{\"endlinecolor\":\"#2a3f5f\",\"gridcolor\":\"white\",\"linecolor\":\"white\",\"minorgridcolor\":\"white\",\"startlinecolor\":\"#2a3f5f\"},\"type\":\"carpet\"}],\"choropleth\":[{\"colorbar\":{\"outlinewidth\":0,\"ticks\":\"\"},\"type\":\"choropleth\"}],\"contourcarpet\":[{\"colorbar\":{\"outlinewidth\":0,\"ticks\":\"\"},\"type\":\"contourcarpet\"}],\"contour\":[{\"colorbar\":{\"outlinewidth\":0,\"ticks\":\"\"},\"colorscale\":[[0.0,\"#0d0887\"],[0.1111111111111111,\"#46039f\"],[0.2222222222222222,\"#7201a8\"],[0.3333333333333333,\"#9c179e\"],[0.4444444444444444,\"#bd3786\"],[0.5555555555555556,\"#d8576b\"],[0.6666666666666666,\"#ed7953\"],[0.7777777777777778,\"#fb9f3a\"],[0.8888888888888888,\"#fdca26\"],[1.0,\"#f0f921\"]],\"type\":\"contour\"}],\"heatmapgl\":[{\"colorbar\":{\"outlinewidth\":0,\"ticks\":\"\"},\"colorscale\":[[0.0,\"#0d0887\"],[0.1111111111111111,\"#46039f\"],[0.2222222222222222,\"#7201a8\"],[0.3333333333333333,\"#9c179e\"],[0.4444444444444444,\"#bd3786\"],[0.5555555555555556,\"#d8576b\"],[0.6666666666666666,\"#ed7953\"],[0.7777777777777778,\"#fb9f3a\"],[0.8888888888888888,\"#fdca26\"],[1.0,\"#f0f921\"]],\"type\":\"heatmapgl\"}],\"heatmap\":[{\"colorbar\":{\"outlinewidth\":0,\"ticks\":\"\"},\"colorscale\":[[0.0,\"#0d0887\"],[0.1111111111111111,\"#46039f\"],[0.2222222222222222,\"#7201a8\"],[0.3333333333333333,\"#9c179e\"],[0.4444444444444444,\"#bd3786\"],[0.5555555555555556,\"#d8576b\"],[0.6666666666666666,\"#ed7953\"],[0.7777777777777778,\"#fb9f3a\"],[0.8888888888888888,\"#fdca26\"],[1.0,\"#f0f921\"]],\"type\":\"heatmap\"}],\"histogram2dcontour\":[{\"colorbar\":{\"outlinewidth\":0,\"ticks\":\"\"},\"colorscale\":[[0.0,\"#0d0887\"],[0.1111111111111111,\"#46039f\"],[0.2222222222222222,\"#7201a8\"],[0.3333333333333333,\"#9c179e\"],[0.4444444444444444,\"#bd3786\"],[0.5555555555555556,\"#d8576b\"],[0.6666666666666666,\"#ed7953\"],[0.7777777777777778,\"#fb9f3a\"],[0.8888888888888888,\"#fdca26\"],[1.0,\"#f0f921\"]],\"type\":\"histogram2dcontour\"}],\"histogram2d\":[{\"colorbar\":{\"outlinewidth\":0,\"ticks\":\"\"},\"colorscale\":[[0.0,\"#0d0887\"],[0.1111111111111111,\"#46039f\"],[0.2222222222222222,\"#7201a8\"],[0.3333333333333333,\"#9c179e\"],[0.4444444444444444,\"#bd3786\"],[0.5555555555555556,\"#d8576b\"],[0.6666666666666666,\"#ed7953\"],[0.7777777777777778,\"#fb9f3a\"],[0.8888888888888888,\"#fdca26\"],[1.0,\"#f0f921\"]],\"type\":\"histogram2d\"}],\"histogram\":[{\"marker\":{\"pattern\":{\"fillmode\":\"overlay\",\"size\":10,\"solidity\":0.2}},\"type\":\"histogram\"}],\"mesh3d\":[{\"colorbar\":{\"outlinewidth\":0,\"ticks\":\"\"},\"type\":\"mesh3d\"}],\"parcoords\":[{\"line\":{\"colorbar\":{\"outlinewidth\":0,\"ticks\":\"\"}},\"type\":\"parcoords\"}],\"pie\":[{\"automargin\":true,\"type\":\"pie\"}],\"scatter3d\":[{\"line\":{\"colorbar\":{\"outlinewidth\":0,\"ticks\":\"\"}},\"marker\":{\"colorbar\":{\"outlinewidth\":0,\"ticks\":\"\"}},\"type\":\"scatter3d\"}],\"scattercarpet\":[{\"marker\":{\"colorbar\":{\"outlinewidth\":0,\"ticks\":\"\"}},\"type\":\"scattercarpet\"}],\"scattergeo\":[{\"marker\":{\"colorbar\":{\"outlinewidth\":0,\"ticks\":\"\"}},\"type\":\"scattergeo\"}],\"scattergl\":[{\"marker\":{\"colorbar\":{\"outlinewidth\":0,\"ticks\":\"\"}},\"type\":\"scattergl\"}],\"scattermapbox\":[{\"marker\":{\"colorbar\":{\"outlinewidth\":0,\"ticks\":\"\"}},\"type\":\"scattermapbox\"}],\"scatterpolargl\":[{\"marker\":{\"colorbar\":{\"outlinewidth\":0,\"ticks\":\"\"}},\"type\":\"scatterpolargl\"}],\"scatterpolar\":[{\"marker\":{\"colorbar\":{\"outlinewidth\":0,\"ticks\":\"\"}},\"type\":\"scatterpolar\"}],\"scatter\":[{\"marker\":{\"colorbar\":{\"outlinewidth\":0,\"ticks\":\"\"}},\"type\":\"scatter\"}],\"scatterternary\":[{\"marker\":{\"colorbar\":{\"outlinewidth\":0,\"ticks\":\"\"}},\"type\":\"scatterternary\"}],\"surface\":[{\"colorbar\":{\"outlinewidth\":0,\"ticks\":\"\"},\"colorscale\":[[0.0,\"#0d0887\"],[0.1111111111111111,\"#46039f\"],[0.2222222222222222,\"#7201a8\"],[0.3333333333333333,\"#9c179e\"],[0.4444444444444444,\"#bd3786\"],[0.5555555555555556,\"#d8576b\"],[0.6666666666666666,\"#ed7953\"],[0.7777777777777778,\"#fb9f3a\"],[0.8888888888888888,\"#fdca26\"],[1.0,\"#f0f921\"]],\"type\":\"surface\"}],\"table\":[{\"cells\":{\"fill\":{\"color\":\"#EBF0F8\"},\"line\":{\"color\":\"white\"}},\"header\":{\"fill\":{\"color\":\"#C8D4E3\"},\"line\":{\"color\":\"white\"}},\"type\":\"table\"}]},\"layout\":{\"annotationdefaults\":{\"arrowcolor\":\"#2a3f5f\",\"arrowhead\":0,\"arrowwidth\":1},\"autotypenumbers\":\"strict\",\"coloraxis\":{\"colorbar\":{\"outlinewidth\":0,\"ticks\":\"\"}},\"colorscale\":{\"diverging\":[[0,\"#8e0152\"],[0.1,\"#c51b7d\"],[0.2,\"#de77ae\"],[0.3,\"#f1b6da\"],[0.4,\"#fde0ef\"],[0.5,\"#f7f7f7\"],[0.6,\"#e6f5d0\"],[0.7,\"#b8e186\"],[0.8,\"#7fbc41\"],[0.9,\"#4d9221\"],[1,\"#276419\"]],\"sequential\":[[0.0,\"#0d0887\"],[0.1111111111111111,\"#46039f\"],[0.2222222222222222,\"#7201a8\"],[0.3333333333333333,\"#9c179e\"],[0.4444444444444444,\"#bd3786\"],[0.5555555555555556,\"#d8576b\"],[0.6666666666666666,\"#ed7953\"],[0.7777777777777778,\"#fb9f3a\"],[0.8888888888888888,\"#fdca26\"],[1.0,\"#f0f921\"]],\"sequentialminus\":[[0.0,\"#0d0887\"],[0.1111111111111111,\"#46039f\"],[0.2222222222222222,\"#7201a8\"],[0.3333333333333333,\"#9c179e\"],[0.4444444444444444,\"#bd3786\"],[0.5555555555555556,\"#d8576b\"],[0.6666666666666666,\"#ed7953\"],[0.7777777777777778,\"#fb9f3a\"],[0.8888888888888888,\"#fdca26\"],[1.0,\"#f0f921\"]]},\"colorway\":[\"#636efa\",\"#EF553B\",\"#00cc96\",\"#ab63fa\",\"#FFA15A\",\"#19d3f3\",\"#FF6692\",\"#B6E880\",\"#FF97FF\",\"#FECB52\"],\"font\":{\"color\":\"#2a3f5f\"},\"geo\":{\"bgcolor\":\"white\",\"lakecolor\":\"white\",\"landcolor\":\"#E5ECF6\",\"showlakes\":true,\"showland\":true,\"subunitcolor\":\"white\"},\"hoverlabel\":{\"align\":\"left\"},\"hovermode\":\"closest\",\"mapbox\":{\"style\":\"light\"},\"paper_bgcolor\":\"white\",\"plot_bgcolor\":\"#E5ECF6\",\"polar\":{\"angularaxis\":{\"gridcolor\":\"white\",\"linecolor\":\"white\",\"ticks\":\"\"},\"bgcolor\":\"#E5ECF6\",\"radialaxis\":{\"gridcolor\":\"white\",\"linecolor\":\"white\",\"ticks\":\"\"}},\"scene\":{\"xaxis\":{\"backgroundcolor\":\"#E5ECF6\",\"gridcolor\":\"white\",\"gridwidth\":2,\"linecolor\":\"white\",\"showbackground\":true,\"ticks\":\"\",\"zerolinecolor\":\"white\"},\"yaxis\":{\"backgroundcolor\":\"#E5ECF6\",\"gridcolor\":\"white\",\"gridwidth\":2,\"linecolor\":\"white\",\"showbackground\":true,\"ticks\":\"\",\"zerolinecolor\":\"white\"},\"zaxis\":{\"backgroundcolor\":\"#E5ECF6\",\"gridcolor\":\"white\",\"gridwidth\":2,\"linecolor\":\"white\",\"showbackground\":true,\"ticks\":\"\",\"zerolinecolor\":\"white\"}},\"shapedefaults\":{\"line\":{\"color\":\"#2a3f5f\"}},\"ternary\":{\"aaxis\":{\"gridcolor\":\"white\",\"linecolor\":\"white\",\"ticks\":\"\"},\"baxis\":{\"gridcolor\":\"white\",\"linecolor\":\"white\",\"ticks\":\"\"},\"bgcolor\":\"#E5ECF6\",\"caxis\":{\"gridcolor\":\"white\",\"linecolor\":\"white\",\"ticks\":\"\"}},\"title\":{\"x\":0.05},\"xaxis\":{\"automargin\":true,\"gridcolor\":\"white\",\"linecolor\":\"white\",\"ticks\":\"\",\"title\":{\"standoff\":15},\"zerolinecolor\":\"white\",\"zerolinewidth\":2},\"yaxis\":{\"automargin\":true,\"gridcolor\":\"white\",\"linecolor\":\"white\",\"ticks\":\"\",\"title\":{\"standoff\":15},\"zerolinecolor\":\"white\",\"zerolinewidth\":2}}},\"title\":{\"font\":{\"color\":\"#4D5663\"}},\"xaxis\":{\"gridcolor\":\"#E1E5ED\",\"showgrid\":true,\"tickfont\":{\"color\":\"#4D5663\"},\"title\":{\"font\":{\"color\":\"#4D5663\"},\"text\":\"Growth\"},\"zerolinecolor\":\"#E1E5ED\"},\"yaxis\":{\"gridcolor\":\"#E1E5ED\",\"showgrid\":true,\"tickfont\":{\"color\":\"#4D5663\"},\"title\":{\"font\":{\"color\":\"#4D5663\"},\"text\":\"Market Cap\"},\"zerolinecolor\":\"#E1E5ED\"}},                        {\"showLink\": true, \"linkText\": \"Export to plot.ly\", \"plotlyServerURL\": \"https://plot.ly\", \"responsive\": true}                    ).then(function(){\n",
       "                            \n",
       "var gd = document.getElementById('78907d09-e077-4949-b4b1-7e6a0bc355db');\n",
       "var x = new MutationObserver(function (mutations, observer) {{\n",
       "        var display = window.getComputedStyle(gd).display;\n",
       "        if (!display || display === 'none') {{\n",
       "            console.log([gd, 'removed!']);\n",
       "            Plotly.purge(gd);\n",
       "            observer.disconnect();\n",
       "        }}\n",
       "}});\n",
       "\n",
       "// Listen for the removal of the full notebook cells\n",
       "var notebookContainer = gd.closest('#notebook-container');\n",
       "if (notebookContainer) {{\n",
       "    x.observe(notebookContainer, {childList: true});\n",
       "}}\n",
       "\n",
       "// Listen for the clearing of the current output cell\n",
       "var outputEl = gd.closest('.output');\n",
       "if (outputEl) {{\n",
       "    x.observe(outputEl, {childList: true});\n",
       "}}\n",
       "\n",
       "                        })                };                });            </script>        </div>"
      ]
     },
     "metadata": {},
     "output_type": "display_data"
    }
   ],
   "source": [
    "df5.iplot(x=(['Good']),y='Market Cap',xTitle='Growth',yTitle='Market Cap')"
   ]
  },
  {
   "cell_type": "code",
   "execution_count": 32,
   "id": "9fd6dd54",
   "metadata": {},
   "outputs": [
    {
     "data": {
      "application/vnd.plotly.v1+json": {
       "config": {
        "linkText": "Export to plot.ly",
        "plotlyServerURL": "https://plot.ly",
        "showLink": true
       },
       "data": [
        {
         "line": {
          "color": "rgba(255, 153, 51, 1.0)",
          "dash": "solid",
          "shape": "linear",
          "width": 1.3
         },
         "mode": "lines",
         "name": "Market Cap",
         "text": "",
         "type": "scatter",
         "x": [
          2073.03,
          307.88,
          454.424,
          867.3099999999998,
          524.17,
          705.6299999999999,
          2829.3999999999996,
          2148.71,
          1624.1099999999997,
          946
         ],
         "y": [
          2286.43617401,
          7203.7441,
          3083.616,
          763.791384299997,
          146.4405,
          2106.89489874,
          142.599224,
          5137.0443,
          917.34716395,
          286.5658749
         ]
        }
       ],
       "layout": {
        "legend": {
         "bgcolor": "#F5F6F9",
         "font": {
          "color": "#4D5663"
         }
        },
        "paper_bgcolor": "#F5F6F9",
        "plot_bgcolor": "#F5F6F9",
        "template": {
         "data": {
          "bar": [
           {
            "error_x": {
             "color": "#2a3f5f"
            },
            "error_y": {
             "color": "#2a3f5f"
            },
            "marker": {
             "line": {
              "color": "#E5ECF6",
              "width": 0.5
             },
             "pattern": {
              "fillmode": "overlay",
              "size": 10,
              "solidity": 0.2
             }
            },
            "type": "bar"
           }
          ],
          "barpolar": [
           {
            "marker": {
             "line": {
              "color": "#E5ECF6",
              "width": 0.5
             },
             "pattern": {
              "fillmode": "overlay",
              "size": 10,
              "solidity": 0.2
             }
            },
            "type": "barpolar"
           }
          ],
          "carpet": [
           {
            "aaxis": {
             "endlinecolor": "#2a3f5f",
             "gridcolor": "white",
             "linecolor": "white",
             "minorgridcolor": "white",
             "startlinecolor": "#2a3f5f"
            },
            "baxis": {
             "endlinecolor": "#2a3f5f",
             "gridcolor": "white",
             "linecolor": "white",
             "minorgridcolor": "white",
             "startlinecolor": "#2a3f5f"
            },
            "type": "carpet"
           }
          ],
          "choropleth": [
           {
            "colorbar": {
             "outlinewidth": 0,
             "ticks": ""
            },
            "type": "choropleth"
           }
          ],
          "contour": [
           {
            "colorbar": {
             "outlinewidth": 0,
             "ticks": ""
            },
            "colorscale": [
             [
              0,
              "#0d0887"
             ],
             [
              0.1111111111111111,
              "#46039f"
             ],
             [
              0.2222222222222222,
              "#7201a8"
             ],
             [
              0.3333333333333333,
              "#9c179e"
             ],
             [
              0.4444444444444444,
              "#bd3786"
             ],
             [
              0.5555555555555556,
              "#d8576b"
             ],
             [
              0.6666666666666666,
              "#ed7953"
             ],
             [
              0.7777777777777778,
              "#fb9f3a"
             ],
             [
              0.8888888888888888,
              "#fdca26"
             ],
             [
              1,
              "#f0f921"
             ]
            ],
            "type": "contour"
           }
          ],
          "contourcarpet": [
           {
            "colorbar": {
             "outlinewidth": 0,
             "ticks": ""
            },
            "type": "contourcarpet"
           }
          ],
          "heatmap": [
           {
            "colorbar": {
             "outlinewidth": 0,
             "ticks": ""
            },
            "colorscale": [
             [
              0,
              "#0d0887"
             ],
             [
              0.1111111111111111,
              "#46039f"
             ],
             [
              0.2222222222222222,
              "#7201a8"
             ],
             [
              0.3333333333333333,
              "#9c179e"
             ],
             [
              0.4444444444444444,
              "#bd3786"
             ],
             [
              0.5555555555555556,
              "#d8576b"
             ],
             [
              0.6666666666666666,
              "#ed7953"
             ],
             [
              0.7777777777777778,
              "#fb9f3a"
             ],
             [
              0.8888888888888888,
              "#fdca26"
             ],
             [
              1,
              "#f0f921"
             ]
            ],
            "type": "heatmap"
           }
          ],
          "heatmapgl": [
           {
            "colorbar": {
             "outlinewidth": 0,
             "ticks": ""
            },
            "colorscale": [
             [
              0,
              "#0d0887"
             ],
             [
              0.1111111111111111,
              "#46039f"
             ],
             [
              0.2222222222222222,
              "#7201a8"
             ],
             [
              0.3333333333333333,
              "#9c179e"
             ],
             [
              0.4444444444444444,
              "#bd3786"
             ],
             [
              0.5555555555555556,
              "#d8576b"
             ],
             [
              0.6666666666666666,
              "#ed7953"
             ],
             [
              0.7777777777777778,
              "#fb9f3a"
             ],
             [
              0.8888888888888888,
              "#fdca26"
             ],
             [
              1,
              "#f0f921"
             ]
            ],
            "type": "heatmapgl"
           }
          ],
          "histogram": [
           {
            "marker": {
             "pattern": {
              "fillmode": "overlay",
              "size": 10,
              "solidity": 0.2
             }
            },
            "type": "histogram"
           }
          ],
          "histogram2d": [
           {
            "colorbar": {
             "outlinewidth": 0,
             "ticks": ""
            },
            "colorscale": [
             [
              0,
              "#0d0887"
             ],
             [
              0.1111111111111111,
              "#46039f"
             ],
             [
              0.2222222222222222,
              "#7201a8"
             ],
             [
              0.3333333333333333,
              "#9c179e"
             ],
             [
              0.4444444444444444,
              "#bd3786"
             ],
             [
              0.5555555555555556,
              "#d8576b"
             ],
             [
              0.6666666666666666,
              "#ed7953"
             ],
             [
              0.7777777777777778,
              "#fb9f3a"
             ],
             [
              0.8888888888888888,
              "#fdca26"
             ],
             [
              1,
              "#f0f921"
             ]
            ],
            "type": "histogram2d"
           }
          ],
          "histogram2dcontour": [
           {
            "colorbar": {
             "outlinewidth": 0,
             "ticks": ""
            },
            "colorscale": [
             [
              0,
              "#0d0887"
             ],
             [
              0.1111111111111111,
              "#46039f"
             ],
             [
              0.2222222222222222,
              "#7201a8"
             ],
             [
              0.3333333333333333,
              "#9c179e"
             ],
             [
              0.4444444444444444,
              "#bd3786"
             ],
             [
              0.5555555555555556,
              "#d8576b"
             ],
             [
              0.6666666666666666,
              "#ed7953"
             ],
             [
              0.7777777777777778,
              "#fb9f3a"
             ],
             [
              0.8888888888888888,
              "#fdca26"
             ],
             [
              1,
              "#f0f921"
             ]
            ],
            "type": "histogram2dcontour"
           }
          ],
          "mesh3d": [
           {
            "colorbar": {
             "outlinewidth": 0,
             "ticks": ""
            },
            "type": "mesh3d"
           }
          ],
          "parcoords": [
           {
            "line": {
             "colorbar": {
              "outlinewidth": 0,
              "ticks": ""
             }
            },
            "type": "parcoords"
           }
          ],
          "pie": [
           {
            "automargin": true,
            "type": "pie"
           }
          ],
          "scatter": [
           {
            "marker": {
             "colorbar": {
              "outlinewidth": 0,
              "ticks": ""
             }
            },
            "type": "scatter"
           }
          ],
          "scatter3d": [
           {
            "line": {
             "colorbar": {
              "outlinewidth": 0,
              "ticks": ""
             }
            },
            "marker": {
             "colorbar": {
              "outlinewidth": 0,
              "ticks": ""
             }
            },
            "type": "scatter3d"
           }
          ],
          "scattercarpet": [
           {
            "marker": {
             "colorbar": {
              "outlinewidth": 0,
              "ticks": ""
             }
            },
            "type": "scattercarpet"
           }
          ],
          "scattergeo": [
           {
            "marker": {
             "colorbar": {
              "outlinewidth": 0,
              "ticks": ""
             }
            },
            "type": "scattergeo"
           }
          ],
          "scattergl": [
           {
            "marker": {
             "colorbar": {
              "outlinewidth": 0,
              "ticks": ""
             }
            },
            "type": "scattergl"
           }
          ],
          "scattermapbox": [
           {
            "marker": {
             "colorbar": {
              "outlinewidth": 0,
              "ticks": ""
             }
            },
            "type": "scattermapbox"
           }
          ],
          "scatterpolar": [
           {
            "marker": {
             "colorbar": {
              "outlinewidth": 0,
              "ticks": ""
             }
            },
            "type": "scatterpolar"
           }
          ],
          "scatterpolargl": [
           {
            "marker": {
             "colorbar": {
              "outlinewidth": 0,
              "ticks": ""
             }
            },
            "type": "scatterpolargl"
           }
          ],
          "scatterternary": [
           {
            "marker": {
             "colorbar": {
              "outlinewidth": 0,
              "ticks": ""
             }
            },
            "type": "scatterternary"
           }
          ],
          "surface": [
           {
            "colorbar": {
             "outlinewidth": 0,
             "ticks": ""
            },
            "colorscale": [
             [
              0,
              "#0d0887"
             ],
             [
              0.1111111111111111,
              "#46039f"
             ],
             [
              0.2222222222222222,
              "#7201a8"
             ],
             [
              0.3333333333333333,
              "#9c179e"
             ],
             [
              0.4444444444444444,
              "#bd3786"
             ],
             [
              0.5555555555555556,
              "#d8576b"
             ],
             [
              0.6666666666666666,
              "#ed7953"
             ],
             [
              0.7777777777777778,
              "#fb9f3a"
             ],
             [
              0.8888888888888888,
              "#fdca26"
             ],
             [
              1,
              "#f0f921"
             ]
            ],
            "type": "surface"
           }
          ],
          "table": [
           {
            "cells": {
             "fill": {
              "color": "#EBF0F8"
             },
             "line": {
              "color": "white"
             }
            },
            "header": {
             "fill": {
              "color": "#C8D4E3"
             },
             "line": {
              "color": "white"
             }
            },
            "type": "table"
           }
          ]
         },
         "layout": {
          "annotationdefaults": {
           "arrowcolor": "#2a3f5f",
           "arrowhead": 0,
           "arrowwidth": 1
          },
          "autotypenumbers": "strict",
          "coloraxis": {
           "colorbar": {
            "outlinewidth": 0,
            "ticks": ""
           }
          },
          "colorscale": {
           "diverging": [
            [
             0,
             "#8e0152"
            ],
            [
             0.1,
             "#c51b7d"
            ],
            [
             0.2,
             "#de77ae"
            ],
            [
             0.3,
             "#f1b6da"
            ],
            [
             0.4,
             "#fde0ef"
            ],
            [
             0.5,
             "#f7f7f7"
            ],
            [
             0.6,
             "#e6f5d0"
            ],
            [
             0.7,
             "#b8e186"
            ],
            [
             0.8,
             "#7fbc41"
            ],
            [
             0.9,
             "#4d9221"
            ],
            [
             1,
             "#276419"
            ]
           ],
           "sequential": [
            [
             0,
             "#0d0887"
            ],
            [
             0.1111111111111111,
             "#46039f"
            ],
            [
             0.2222222222222222,
             "#7201a8"
            ],
            [
             0.3333333333333333,
             "#9c179e"
            ],
            [
             0.4444444444444444,
             "#bd3786"
            ],
            [
             0.5555555555555556,
             "#d8576b"
            ],
            [
             0.6666666666666666,
             "#ed7953"
            ],
            [
             0.7777777777777778,
             "#fb9f3a"
            ],
            [
             0.8888888888888888,
             "#fdca26"
            ],
            [
             1,
             "#f0f921"
            ]
           ],
           "sequentialminus": [
            [
             0,
             "#0d0887"
            ],
            [
             0.1111111111111111,
             "#46039f"
            ],
            [
             0.2222222222222222,
             "#7201a8"
            ],
            [
             0.3333333333333333,
             "#9c179e"
            ],
            [
             0.4444444444444444,
             "#bd3786"
            ],
            [
             0.5555555555555556,
             "#d8576b"
            ],
            [
             0.6666666666666666,
             "#ed7953"
            ],
            [
             0.7777777777777778,
             "#fb9f3a"
            ],
            [
             0.8888888888888888,
             "#fdca26"
            ],
            [
             1,
             "#f0f921"
            ]
           ]
          },
          "colorway": [
           "#636efa",
           "#EF553B",
           "#00cc96",
           "#ab63fa",
           "#FFA15A",
           "#19d3f3",
           "#FF6692",
           "#B6E880",
           "#FF97FF",
           "#FECB52"
          ],
          "font": {
           "color": "#2a3f5f"
          },
          "geo": {
           "bgcolor": "white",
           "lakecolor": "white",
           "landcolor": "#E5ECF6",
           "showlakes": true,
           "showland": true,
           "subunitcolor": "white"
          },
          "hoverlabel": {
           "align": "left"
          },
          "hovermode": "closest",
          "mapbox": {
           "style": "light"
          },
          "paper_bgcolor": "white",
          "plot_bgcolor": "#E5ECF6",
          "polar": {
           "angularaxis": {
            "gridcolor": "white",
            "linecolor": "white",
            "ticks": ""
           },
           "bgcolor": "#E5ECF6",
           "radialaxis": {
            "gridcolor": "white",
            "linecolor": "white",
            "ticks": ""
           }
          },
          "scene": {
           "xaxis": {
            "backgroundcolor": "#E5ECF6",
            "gridcolor": "white",
            "gridwidth": 2,
            "linecolor": "white",
            "showbackground": true,
            "ticks": "",
            "zerolinecolor": "white"
           },
           "yaxis": {
            "backgroundcolor": "#E5ECF6",
            "gridcolor": "white",
            "gridwidth": 2,
            "linecolor": "white",
            "showbackground": true,
            "ticks": "",
            "zerolinecolor": "white"
           },
           "zaxis": {
            "backgroundcolor": "#E5ECF6",
            "gridcolor": "white",
            "gridwidth": 2,
            "linecolor": "white",
            "showbackground": true,
            "ticks": "",
            "zerolinecolor": "white"
           }
          },
          "shapedefaults": {
           "line": {
            "color": "#2a3f5f"
           }
          },
          "ternary": {
           "aaxis": {
            "gridcolor": "white",
            "linecolor": "white",
            "ticks": ""
           },
           "baxis": {
            "gridcolor": "white",
            "linecolor": "white",
            "ticks": ""
           },
           "bgcolor": "#E5ECF6",
           "caxis": {
            "gridcolor": "white",
            "linecolor": "white",
            "ticks": ""
           }
          },
          "title": {
           "x": 0.05
          },
          "xaxis": {
           "automargin": true,
           "gridcolor": "white",
           "linecolor": "white",
           "ticks": "",
           "title": {
            "standoff": 15
           },
           "zerolinecolor": "white",
           "zerolinewidth": 2
          },
          "yaxis": {
           "automargin": true,
           "gridcolor": "white",
           "linecolor": "white",
           "ticks": "",
           "title": {
            "standoff": 15
           },
           "zerolinecolor": "white",
           "zerolinewidth": 2
          }
         }
        },
        "title": {
         "font": {
          "color": "#4D5663"
         }
        },
        "xaxis": {
         "gridcolor": "#E1E5ED",
         "showgrid": true,
         "tickfont": {
          "color": "#4D5663"
         },
         "title": {
          "font": {
           "color": "#4D5663"
          },
          "text": "Growth"
         },
         "zerolinecolor": "#E1E5ED"
        },
        "yaxis": {
         "gridcolor": "#E1E5ED",
         "showgrid": true,
         "tickfont": {
          "color": "#4D5663"
         },
         "title": {
          "font": {
           "color": "#4D5663"
          },
          "text": "Market Cap"
         },
         "zerolinecolor": "#E1E5ED"
        }
       }
      },
      "text/html": [
       "<div>                            <div id=\"cf161a5c-994d-400c-b1c5-a1a22aec19cb\" class=\"plotly-graph-div\" style=\"height:525px; width:100%;\"></div>            <script type=\"text/javascript\">                require([\"plotly\"], function(Plotly) {                    window.PLOTLYENV=window.PLOTLYENV || {};\n",
       "                    window.PLOTLYENV.BASE_URL='https://plot.ly';                                    if (document.getElementById(\"cf161a5c-994d-400c-b1c5-a1a22aec19cb\")) {                    Plotly.newPlot(                        \"cf161a5c-994d-400c-b1c5-a1a22aec19cb\",                        [{\"line\":{\"color\":\"rgba(255, 153, 51, 1.0)\",\"dash\":\"solid\",\"shape\":\"linear\",\"width\":1.3},\"mode\":\"lines\",\"name\":\"Market Cap\",\"text\":\"\",\"x\":[2073.03,307.88,454.424,867.3099999999998,524.17,705.6299999999999,2829.3999999999996,2148.71,1624.1099999999997,946.0],\"y\":[2286.43617401,7203.7441,3083.616,763.791384299997,146.4405,2106.89489874,142.599224,5137.0443,917.34716395,286.5658749],\"type\":\"scatter\"}],                        {\"legend\":{\"bgcolor\":\"#F5F6F9\",\"font\":{\"color\":\"#4D5663\"}},\"paper_bgcolor\":\"#F5F6F9\",\"plot_bgcolor\":\"#F5F6F9\",\"template\":{\"data\":{\"barpolar\":[{\"marker\":{\"line\":{\"color\":\"#E5ECF6\",\"width\":0.5},\"pattern\":{\"fillmode\":\"overlay\",\"size\":10,\"solidity\":0.2}},\"type\":\"barpolar\"}],\"bar\":[{\"error_x\":{\"color\":\"#2a3f5f\"},\"error_y\":{\"color\":\"#2a3f5f\"},\"marker\":{\"line\":{\"color\":\"#E5ECF6\",\"width\":0.5},\"pattern\":{\"fillmode\":\"overlay\",\"size\":10,\"solidity\":0.2}},\"type\":\"bar\"}],\"carpet\":[{\"aaxis\":{\"endlinecolor\":\"#2a3f5f\",\"gridcolor\":\"white\",\"linecolor\":\"white\",\"minorgridcolor\":\"white\",\"startlinecolor\":\"#2a3f5f\"},\"baxis\":{\"endlinecolor\":\"#2a3f5f\",\"gridcolor\":\"white\",\"linecolor\":\"white\",\"minorgridcolor\":\"white\",\"startlinecolor\":\"#2a3f5f\"},\"type\":\"carpet\"}],\"choropleth\":[{\"colorbar\":{\"outlinewidth\":0,\"ticks\":\"\"},\"type\":\"choropleth\"}],\"contourcarpet\":[{\"colorbar\":{\"outlinewidth\":0,\"ticks\":\"\"},\"type\":\"contourcarpet\"}],\"contour\":[{\"colorbar\":{\"outlinewidth\":0,\"ticks\":\"\"},\"colorscale\":[[0.0,\"#0d0887\"],[0.1111111111111111,\"#46039f\"],[0.2222222222222222,\"#7201a8\"],[0.3333333333333333,\"#9c179e\"],[0.4444444444444444,\"#bd3786\"],[0.5555555555555556,\"#d8576b\"],[0.6666666666666666,\"#ed7953\"],[0.7777777777777778,\"#fb9f3a\"],[0.8888888888888888,\"#fdca26\"],[1.0,\"#f0f921\"]],\"type\":\"contour\"}],\"heatmapgl\":[{\"colorbar\":{\"outlinewidth\":0,\"ticks\":\"\"},\"colorscale\":[[0.0,\"#0d0887\"],[0.1111111111111111,\"#46039f\"],[0.2222222222222222,\"#7201a8\"],[0.3333333333333333,\"#9c179e\"],[0.4444444444444444,\"#bd3786\"],[0.5555555555555556,\"#d8576b\"],[0.6666666666666666,\"#ed7953\"],[0.7777777777777778,\"#fb9f3a\"],[0.8888888888888888,\"#fdca26\"],[1.0,\"#f0f921\"]],\"type\":\"heatmapgl\"}],\"heatmap\":[{\"colorbar\":{\"outlinewidth\":0,\"ticks\":\"\"},\"colorscale\":[[0.0,\"#0d0887\"],[0.1111111111111111,\"#46039f\"],[0.2222222222222222,\"#7201a8\"],[0.3333333333333333,\"#9c179e\"],[0.4444444444444444,\"#bd3786\"],[0.5555555555555556,\"#d8576b\"],[0.6666666666666666,\"#ed7953\"],[0.7777777777777778,\"#fb9f3a\"],[0.8888888888888888,\"#fdca26\"],[1.0,\"#f0f921\"]],\"type\":\"heatmap\"}],\"histogram2dcontour\":[{\"colorbar\":{\"outlinewidth\":0,\"ticks\":\"\"},\"colorscale\":[[0.0,\"#0d0887\"],[0.1111111111111111,\"#46039f\"],[0.2222222222222222,\"#7201a8\"],[0.3333333333333333,\"#9c179e\"],[0.4444444444444444,\"#bd3786\"],[0.5555555555555556,\"#d8576b\"],[0.6666666666666666,\"#ed7953\"],[0.7777777777777778,\"#fb9f3a\"],[0.8888888888888888,\"#fdca26\"],[1.0,\"#f0f921\"]],\"type\":\"histogram2dcontour\"}],\"histogram2d\":[{\"colorbar\":{\"outlinewidth\":0,\"ticks\":\"\"},\"colorscale\":[[0.0,\"#0d0887\"],[0.1111111111111111,\"#46039f\"],[0.2222222222222222,\"#7201a8\"],[0.3333333333333333,\"#9c179e\"],[0.4444444444444444,\"#bd3786\"],[0.5555555555555556,\"#d8576b\"],[0.6666666666666666,\"#ed7953\"],[0.7777777777777778,\"#fb9f3a\"],[0.8888888888888888,\"#fdca26\"],[1.0,\"#f0f921\"]],\"type\":\"histogram2d\"}],\"histogram\":[{\"marker\":{\"pattern\":{\"fillmode\":\"overlay\",\"size\":10,\"solidity\":0.2}},\"type\":\"histogram\"}],\"mesh3d\":[{\"colorbar\":{\"outlinewidth\":0,\"ticks\":\"\"},\"type\":\"mesh3d\"}],\"parcoords\":[{\"line\":{\"colorbar\":{\"outlinewidth\":0,\"ticks\":\"\"}},\"type\":\"parcoords\"}],\"pie\":[{\"automargin\":true,\"type\":\"pie\"}],\"scatter3d\":[{\"line\":{\"colorbar\":{\"outlinewidth\":0,\"ticks\":\"\"}},\"marker\":{\"colorbar\":{\"outlinewidth\":0,\"ticks\":\"\"}},\"type\":\"scatter3d\"}],\"scattercarpet\":[{\"marker\":{\"colorbar\":{\"outlinewidth\":0,\"ticks\":\"\"}},\"type\":\"scattercarpet\"}],\"scattergeo\":[{\"marker\":{\"colorbar\":{\"outlinewidth\":0,\"ticks\":\"\"}},\"type\":\"scattergeo\"}],\"scattergl\":[{\"marker\":{\"colorbar\":{\"outlinewidth\":0,\"ticks\":\"\"}},\"type\":\"scattergl\"}],\"scattermapbox\":[{\"marker\":{\"colorbar\":{\"outlinewidth\":0,\"ticks\":\"\"}},\"type\":\"scattermapbox\"}],\"scatterpolargl\":[{\"marker\":{\"colorbar\":{\"outlinewidth\":0,\"ticks\":\"\"}},\"type\":\"scatterpolargl\"}],\"scatterpolar\":[{\"marker\":{\"colorbar\":{\"outlinewidth\":0,\"ticks\":\"\"}},\"type\":\"scatterpolar\"}],\"scatter\":[{\"marker\":{\"colorbar\":{\"outlinewidth\":0,\"ticks\":\"\"}},\"type\":\"scatter\"}],\"scatterternary\":[{\"marker\":{\"colorbar\":{\"outlinewidth\":0,\"ticks\":\"\"}},\"type\":\"scatterternary\"}],\"surface\":[{\"colorbar\":{\"outlinewidth\":0,\"ticks\":\"\"},\"colorscale\":[[0.0,\"#0d0887\"],[0.1111111111111111,\"#46039f\"],[0.2222222222222222,\"#7201a8\"],[0.3333333333333333,\"#9c179e\"],[0.4444444444444444,\"#bd3786\"],[0.5555555555555556,\"#d8576b\"],[0.6666666666666666,\"#ed7953\"],[0.7777777777777778,\"#fb9f3a\"],[0.8888888888888888,\"#fdca26\"],[1.0,\"#f0f921\"]],\"type\":\"surface\"}],\"table\":[{\"cells\":{\"fill\":{\"color\":\"#EBF0F8\"},\"line\":{\"color\":\"white\"}},\"header\":{\"fill\":{\"color\":\"#C8D4E3\"},\"line\":{\"color\":\"white\"}},\"type\":\"table\"}]},\"layout\":{\"annotationdefaults\":{\"arrowcolor\":\"#2a3f5f\",\"arrowhead\":0,\"arrowwidth\":1},\"autotypenumbers\":\"strict\",\"coloraxis\":{\"colorbar\":{\"outlinewidth\":0,\"ticks\":\"\"}},\"colorscale\":{\"diverging\":[[0,\"#8e0152\"],[0.1,\"#c51b7d\"],[0.2,\"#de77ae\"],[0.3,\"#f1b6da\"],[0.4,\"#fde0ef\"],[0.5,\"#f7f7f7\"],[0.6,\"#e6f5d0\"],[0.7,\"#b8e186\"],[0.8,\"#7fbc41\"],[0.9,\"#4d9221\"],[1,\"#276419\"]],\"sequential\":[[0.0,\"#0d0887\"],[0.1111111111111111,\"#46039f\"],[0.2222222222222222,\"#7201a8\"],[0.3333333333333333,\"#9c179e\"],[0.4444444444444444,\"#bd3786\"],[0.5555555555555556,\"#d8576b\"],[0.6666666666666666,\"#ed7953\"],[0.7777777777777778,\"#fb9f3a\"],[0.8888888888888888,\"#fdca26\"],[1.0,\"#f0f921\"]],\"sequentialminus\":[[0.0,\"#0d0887\"],[0.1111111111111111,\"#46039f\"],[0.2222222222222222,\"#7201a8\"],[0.3333333333333333,\"#9c179e\"],[0.4444444444444444,\"#bd3786\"],[0.5555555555555556,\"#d8576b\"],[0.6666666666666666,\"#ed7953\"],[0.7777777777777778,\"#fb9f3a\"],[0.8888888888888888,\"#fdca26\"],[1.0,\"#f0f921\"]]},\"colorway\":[\"#636efa\",\"#EF553B\",\"#00cc96\",\"#ab63fa\",\"#FFA15A\",\"#19d3f3\",\"#FF6692\",\"#B6E880\",\"#FF97FF\",\"#FECB52\"],\"font\":{\"color\":\"#2a3f5f\"},\"geo\":{\"bgcolor\":\"white\",\"lakecolor\":\"white\",\"landcolor\":\"#E5ECF6\",\"showlakes\":true,\"showland\":true,\"subunitcolor\":\"white\"},\"hoverlabel\":{\"align\":\"left\"},\"hovermode\":\"closest\",\"mapbox\":{\"style\":\"light\"},\"paper_bgcolor\":\"white\",\"plot_bgcolor\":\"#E5ECF6\",\"polar\":{\"angularaxis\":{\"gridcolor\":\"white\",\"linecolor\":\"white\",\"ticks\":\"\"},\"bgcolor\":\"#E5ECF6\",\"radialaxis\":{\"gridcolor\":\"white\",\"linecolor\":\"white\",\"ticks\":\"\"}},\"scene\":{\"xaxis\":{\"backgroundcolor\":\"#E5ECF6\",\"gridcolor\":\"white\",\"gridwidth\":2,\"linecolor\":\"white\",\"showbackground\":true,\"ticks\":\"\",\"zerolinecolor\":\"white\"},\"yaxis\":{\"backgroundcolor\":\"#E5ECF6\",\"gridcolor\":\"white\",\"gridwidth\":2,\"linecolor\":\"white\",\"showbackground\":true,\"ticks\":\"\",\"zerolinecolor\":\"white\"},\"zaxis\":{\"backgroundcolor\":\"#E5ECF6\",\"gridcolor\":\"white\",\"gridwidth\":2,\"linecolor\":\"white\",\"showbackground\":true,\"ticks\":\"\",\"zerolinecolor\":\"white\"}},\"shapedefaults\":{\"line\":{\"color\":\"#2a3f5f\"}},\"ternary\":{\"aaxis\":{\"gridcolor\":\"white\",\"linecolor\":\"white\",\"ticks\":\"\"},\"baxis\":{\"gridcolor\":\"white\",\"linecolor\":\"white\",\"ticks\":\"\"},\"bgcolor\":\"#E5ECF6\",\"caxis\":{\"gridcolor\":\"white\",\"linecolor\":\"white\",\"ticks\":\"\"}},\"title\":{\"x\":0.05},\"xaxis\":{\"automargin\":true,\"gridcolor\":\"white\",\"linecolor\":\"white\",\"ticks\":\"\",\"title\":{\"standoff\":15},\"zerolinecolor\":\"white\",\"zerolinewidth\":2},\"yaxis\":{\"automargin\":true,\"gridcolor\":\"white\",\"linecolor\":\"white\",\"ticks\":\"\",\"title\":{\"standoff\":15},\"zerolinecolor\":\"white\",\"zerolinewidth\":2}}},\"title\":{\"font\":{\"color\":\"#4D5663\"}},\"xaxis\":{\"gridcolor\":\"#E1E5ED\",\"showgrid\":true,\"tickfont\":{\"color\":\"#4D5663\"},\"title\":{\"font\":{\"color\":\"#4D5663\"},\"text\":\"Growth\"},\"zerolinecolor\":\"#E1E5ED\"},\"yaxis\":{\"gridcolor\":\"#E1E5ED\",\"showgrid\":true,\"tickfont\":{\"color\":\"#4D5663\"},\"title\":{\"font\":{\"color\":\"#4D5663\"},\"text\":\"Market Cap\"},\"zerolinecolor\":\"#E1E5ED\"}},                        {\"showLink\": true, \"linkText\": \"Export to plot.ly\", \"plotlyServerURL\": \"https://plot.ly\", \"responsive\": true}                    ).then(function(){\n",
       "                            \n",
       "var gd = document.getElementById('cf161a5c-994d-400c-b1c5-a1a22aec19cb');\n",
       "var x = new MutationObserver(function (mutations, observer) {{\n",
       "        var display = window.getComputedStyle(gd).display;\n",
       "        if (!display || display === 'none') {{\n",
       "            console.log([gd, 'removed!']);\n",
       "            Plotly.purge(gd);\n",
       "            observer.disconnect();\n",
       "        }}\n",
       "}});\n",
       "\n",
       "// Listen for the removal of the full notebook cells\n",
       "var notebookContainer = gd.closest('#notebook-container');\n",
       "if (notebookContainer) {{\n",
       "    x.observe(notebookContainer, {childList: true});\n",
       "}}\n",
       "\n",
       "// Listen for the clearing of the current output cell\n",
       "var outputEl = gd.closest('.output');\n",
       "if (outputEl) {{\n",
       "    x.observe(outputEl, {childList: true});\n",
       "}}\n",
       "\n",
       "                        })                };                });            </script>        </div>"
      ]
     },
     "metadata": {},
     "output_type": "display_data"
    }
   ],
   "source": [
    "df5.iplot(x='Bad',y='Market Cap',xTitle='Growth',yTitle='Market Cap')"
   ]
  },
  {
   "cell_type": "code",
   "execution_count": 33,
   "id": "c17fafcd",
   "metadata": {},
   "outputs": [
    {
     "data": {
      "application/vnd.plotly.v1+json": {
       "config": {
        "linkText": "Export to plot.ly",
        "plotlyServerURL": "https://plot.ly",
        "showLink": true
       },
       "data": [
        {
         "line": {
          "color": "rgba(255, 153, 51, 1.0)",
          "dash": "solid",
          "shape": "linear",
          "width": 1.3
         },
         "mode": "lines",
         "name": "Market Cap",
         "text": "",
         "type": "scatter",
         "x": [
          2169.4500000000003,
          322.19999999999993,
          475.56,
          907.6499999999999,
          548.5500000000001,
          738.4499999999999,
          2961,
          2248.6499999999996,
          1699.6499999999999,
          990.0000000000001
         ],
         "y": [
          2286.43617401,
          7203.7441,
          3083.616,
          763.791384299997,
          146.4405,
          2106.89489874,
          142.599224,
          5137.0443,
          917.34716395,
          286.5658749
         ]
        }
       ],
       "layout": {
        "legend": {
         "bgcolor": "#F5F6F9",
         "font": {
          "color": "#4D5663"
         }
        },
        "paper_bgcolor": "#F5F6F9",
        "plot_bgcolor": "#F5F6F9",
        "template": {
         "data": {
          "bar": [
           {
            "error_x": {
             "color": "#2a3f5f"
            },
            "error_y": {
             "color": "#2a3f5f"
            },
            "marker": {
             "line": {
              "color": "#E5ECF6",
              "width": 0.5
             },
             "pattern": {
              "fillmode": "overlay",
              "size": 10,
              "solidity": 0.2
             }
            },
            "type": "bar"
           }
          ],
          "barpolar": [
           {
            "marker": {
             "line": {
              "color": "#E5ECF6",
              "width": 0.5
             },
             "pattern": {
              "fillmode": "overlay",
              "size": 10,
              "solidity": 0.2
             }
            },
            "type": "barpolar"
           }
          ],
          "carpet": [
           {
            "aaxis": {
             "endlinecolor": "#2a3f5f",
             "gridcolor": "white",
             "linecolor": "white",
             "minorgridcolor": "white",
             "startlinecolor": "#2a3f5f"
            },
            "baxis": {
             "endlinecolor": "#2a3f5f",
             "gridcolor": "white",
             "linecolor": "white",
             "minorgridcolor": "white",
             "startlinecolor": "#2a3f5f"
            },
            "type": "carpet"
           }
          ],
          "choropleth": [
           {
            "colorbar": {
             "outlinewidth": 0,
             "ticks": ""
            },
            "type": "choropleth"
           }
          ],
          "contour": [
           {
            "colorbar": {
             "outlinewidth": 0,
             "ticks": ""
            },
            "colorscale": [
             [
              0,
              "#0d0887"
             ],
             [
              0.1111111111111111,
              "#46039f"
             ],
             [
              0.2222222222222222,
              "#7201a8"
             ],
             [
              0.3333333333333333,
              "#9c179e"
             ],
             [
              0.4444444444444444,
              "#bd3786"
             ],
             [
              0.5555555555555556,
              "#d8576b"
             ],
             [
              0.6666666666666666,
              "#ed7953"
             ],
             [
              0.7777777777777778,
              "#fb9f3a"
             ],
             [
              0.8888888888888888,
              "#fdca26"
             ],
             [
              1,
              "#f0f921"
             ]
            ],
            "type": "contour"
           }
          ],
          "contourcarpet": [
           {
            "colorbar": {
             "outlinewidth": 0,
             "ticks": ""
            },
            "type": "contourcarpet"
           }
          ],
          "heatmap": [
           {
            "colorbar": {
             "outlinewidth": 0,
             "ticks": ""
            },
            "colorscale": [
             [
              0,
              "#0d0887"
             ],
             [
              0.1111111111111111,
              "#46039f"
             ],
             [
              0.2222222222222222,
              "#7201a8"
             ],
             [
              0.3333333333333333,
              "#9c179e"
             ],
             [
              0.4444444444444444,
              "#bd3786"
             ],
             [
              0.5555555555555556,
              "#d8576b"
             ],
             [
              0.6666666666666666,
              "#ed7953"
             ],
             [
              0.7777777777777778,
              "#fb9f3a"
             ],
             [
              0.8888888888888888,
              "#fdca26"
             ],
             [
              1,
              "#f0f921"
             ]
            ],
            "type": "heatmap"
           }
          ],
          "heatmapgl": [
           {
            "colorbar": {
             "outlinewidth": 0,
             "ticks": ""
            },
            "colorscale": [
             [
              0,
              "#0d0887"
             ],
             [
              0.1111111111111111,
              "#46039f"
             ],
             [
              0.2222222222222222,
              "#7201a8"
             ],
             [
              0.3333333333333333,
              "#9c179e"
             ],
             [
              0.4444444444444444,
              "#bd3786"
             ],
             [
              0.5555555555555556,
              "#d8576b"
             ],
             [
              0.6666666666666666,
              "#ed7953"
             ],
             [
              0.7777777777777778,
              "#fb9f3a"
             ],
             [
              0.8888888888888888,
              "#fdca26"
             ],
             [
              1,
              "#f0f921"
             ]
            ],
            "type": "heatmapgl"
           }
          ],
          "histogram": [
           {
            "marker": {
             "pattern": {
              "fillmode": "overlay",
              "size": 10,
              "solidity": 0.2
             }
            },
            "type": "histogram"
           }
          ],
          "histogram2d": [
           {
            "colorbar": {
             "outlinewidth": 0,
             "ticks": ""
            },
            "colorscale": [
             [
              0,
              "#0d0887"
             ],
             [
              0.1111111111111111,
              "#46039f"
             ],
             [
              0.2222222222222222,
              "#7201a8"
             ],
             [
              0.3333333333333333,
              "#9c179e"
             ],
             [
              0.4444444444444444,
              "#bd3786"
             ],
             [
              0.5555555555555556,
              "#d8576b"
             ],
             [
              0.6666666666666666,
              "#ed7953"
             ],
             [
              0.7777777777777778,
              "#fb9f3a"
             ],
             [
              0.8888888888888888,
              "#fdca26"
             ],
             [
              1,
              "#f0f921"
             ]
            ],
            "type": "histogram2d"
           }
          ],
          "histogram2dcontour": [
           {
            "colorbar": {
             "outlinewidth": 0,
             "ticks": ""
            },
            "colorscale": [
             [
              0,
              "#0d0887"
             ],
             [
              0.1111111111111111,
              "#46039f"
             ],
             [
              0.2222222222222222,
              "#7201a8"
             ],
             [
              0.3333333333333333,
              "#9c179e"
             ],
             [
              0.4444444444444444,
              "#bd3786"
             ],
             [
              0.5555555555555556,
              "#d8576b"
             ],
             [
              0.6666666666666666,
              "#ed7953"
             ],
             [
              0.7777777777777778,
              "#fb9f3a"
             ],
             [
              0.8888888888888888,
              "#fdca26"
             ],
             [
              1,
              "#f0f921"
             ]
            ],
            "type": "histogram2dcontour"
           }
          ],
          "mesh3d": [
           {
            "colorbar": {
             "outlinewidth": 0,
             "ticks": ""
            },
            "type": "mesh3d"
           }
          ],
          "parcoords": [
           {
            "line": {
             "colorbar": {
              "outlinewidth": 0,
              "ticks": ""
             }
            },
            "type": "parcoords"
           }
          ],
          "pie": [
           {
            "automargin": true,
            "type": "pie"
           }
          ],
          "scatter": [
           {
            "marker": {
             "colorbar": {
              "outlinewidth": 0,
              "ticks": ""
             }
            },
            "type": "scatter"
           }
          ],
          "scatter3d": [
           {
            "line": {
             "colorbar": {
              "outlinewidth": 0,
              "ticks": ""
             }
            },
            "marker": {
             "colorbar": {
              "outlinewidth": 0,
              "ticks": ""
             }
            },
            "type": "scatter3d"
           }
          ],
          "scattercarpet": [
           {
            "marker": {
             "colorbar": {
              "outlinewidth": 0,
              "ticks": ""
             }
            },
            "type": "scattercarpet"
           }
          ],
          "scattergeo": [
           {
            "marker": {
             "colorbar": {
              "outlinewidth": 0,
              "ticks": ""
             }
            },
            "type": "scattergeo"
           }
          ],
          "scattergl": [
           {
            "marker": {
             "colorbar": {
              "outlinewidth": 0,
              "ticks": ""
             }
            },
            "type": "scattergl"
           }
          ],
          "scattermapbox": [
           {
            "marker": {
             "colorbar": {
              "outlinewidth": 0,
              "ticks": ""
             }
            },
            "type": "scattermapbox"
           }
          ],
          "scatterpolar": [
           {
            "marker": {
             "colorbar": {
              "outlinewidth": 0,
              "ticks": ""
             }
            },
            "type": "scatterpolar"
           }
          ],
          "scatterpolargl": [
           {
            "marker": {
             "colorbar": {
              "outlinewidth": 0,
              "ticks": ""
             }
            },
            "type": "scatterpolargl"
           }
          ],
          "scatterternary": [
           {
            "marker": {
             "colorbar": {
              "outlinewidth": 0,
              "ticks": ""
             }
            },
            "type": "scatterternary"
           }
          ],
          "surface": [
           {
            "colorbar": {
             "outlinewidth": 0,
             "ticks": ""
            },
            "colorscale": [
             [
              0,
              "#0d0887"
             ],
             [
              0.1111111111111111,
              "#46039f"
             ],
             [
              0.2222222222222222,
              "#7201a8"
             ],
             [
              0.3333333333333333,
              "#9c179e"
             ],
             [
              0.4444444444444444,
              "#bd3786"
             ],
             [
              0.5555555555555556,
              "#d8576b"
             ],
             [
              0.6666666666666666,
              "#ed7953"
             ],
             [
              0.7777777777777778,
              "#fb9f3a"
             ],
             [
              0.8888888888888888,
              "#fdca26"
             ],
             [
              1,
              "#f0f921"
             ]
            ],
            "type": "surface"
           }
          ],
          "table": [
           {
            "cells": {
             "fill": {
              "color": "#EBF0F8"
             },
             "line": {
              "color": "white"
             }
            },
            "header": {
             "fill": {
              "color": "#C8D4E3"
             },
             "line": {
              "color": "white"
             }
            },
            "type": "table"
           }
          ]
         },
         "layout": {
          "annotationdefaults": {
           "arrowcolor": "#2a3f5f",
           "arrowhead": 0,
           "arrowwidth": 1
          },
          "autotypenumbers": "strict",
          "coloraxis": {
           "colorbar": {
            "outlinewidth": 0,
            "ticks": ""
           }
          },
          "colorscale": {
           "diverging": [
            [
             0,
             "#8e0152"
            ],
            [
             0.1,
             "#c51b7d"
            ],
            [
             0.2,
             "#de77ae"
            ],
            [
             0.3,
             "#f1b6da"
            ],
            [
             0.4,
             "#fde0ef"
            ],
            [
             0.5,
             "#f7f7f7"
            ],
            [
             0.6,
             "#e6f5d0"
            ],
            [
             0.7,
             "#b8e186"
            ],
            [
             0.8,
             "#7fbc41"
            ],
            [
             0.9,
             "#4d9221"
            ],
            [
             1,
             "#276419"
            ]
           ],
           "sequential": [
            [
             0,
             "#0d0887"
            ],
            [
             0.1111111111111111,
             "#46039f"
            ],
            [
             0.2222222222222222,
             "#7201a8"
            ],
            [
             0.3333333333333333,
             "#9c179e"
            ],
            [
             0.4444444444444444,
             "#bd3786"
            ],
            [
             0.5555555555555556,
             "#d8576b"
            ],
            [
             0.6666666666666666,
             "#ed7953"
            ],
            [
             0.7777777777777778,
             "#fb9f3a"
            ],
            [
             0.8888888888888888,
             "#fdca26"
            ],
            [
             1,
             "#f0f921"
            ]
           ],
           "sequentialminus": [
            [
             0,
             "#0d0887"
            ],
            [
             0.1111111111111111,
             "#46039f"
            ],
            [
             0.2222222222222222,
             "#7201a8"
            ],
            [
             0.3333333333333333,
             "#9c179e"
            ],
            [
             0.4444444444444444,
             "#bd3786"
            ],
            [
             0.5555555555555556,
             "#d8576b"
            ],
            [
             0.6666666666666666,
             "#ed7953"
            ],
            [
             0.7777777777777778,
             "#fb9f3a"
            ],
            [
             0.8888888888888888,
             "#fdca26"
            ],
            [
             1,
             "#f0f921"
            ]
           ]
          },
          "colorway": [
           "#636efa",
           "#EF553B",
           "#00cc96",
           "#ab63fa",
           "#FFA15A",
           "#19d3f3",
           "#FF6692",
           "#B6E880",
           "#FF97FF",
           "#FECB52"
          ],
          "font": {
           "color": "#2a3f5f"
          },
          "geo": {
           "bgcolor": "white",
           "lakecolor": "white",
           "landcolor": "#E5ECF6",
           "showlakes": true,
           "showland": true,
           "subunitcolor": "white"
          },
          "hoverlabel": {
           "align": "left"
          },
          "hovermode": "closest",
          "mapbox": {
           "style": "light"
          },
          "paper_bgcolor": "white",
          "plot_bgcolor": "#E5ECF6",
          "polar": {
           "angularaxis": {
            "gridcolor": "white",
            "linecolor": "white",
            "ticks": ""
           },
           "bgcolor": "#E5ECF6",
           "radialaxis": {
            "gridcolor": "white",
            "linecolor": "white",
            "ticks": ""
           }
          },
          "scene": {
           "xaxis": {
            "backgroundcolor": "#E5ECF6",
            "gridcolor": "white",
            "gridwidth": 2,
            "linecolor": "white",
            "showbackground": true,
            "ticks": "",
            "zerolinecolor": "white"
           },
           "yaxis": {
            "backgroundcolor": "#E5ECF6",
            "gridcolor": "white",
            "gridwidth": 2,
            "linecolor": "white",
            "showbackground": true,
            "ticks": "",
            "zerolinecolor": "white"
           },
           "zaxis": {
            "backgroundcolor": "#E5ECF6",
            "gridcolor": "white",
            "gridwidth": 2,
            "linecolor": "white",
            "showbackground": true,
            "ticks": "",
            "zerolinecolor": "white"
           }
          },
          "shapedefaults": {
           "line": {
            "color": "#2a3f5f"
           }
          },
          "ternary": {
           "aaxis": {
            "gridcolor": "white",
            "linecolor": "white",
            "ticks": ""
           },
           "baxis": {
            "gridcolor": "white",
            "linecolor": "white",
            "ticks": ""
           },
           "bgcolor": "#E5ECF6",
           "caxis": {
            "gridcolor": "white",
            "linecolor": "white",
            "ticks": ""
           }
          },
          "title": {
           "x": 0.05
          },
          "xaxis": {
           "automargin": true,
           "gridcolor": "white",
           "linecolor": "white",
           "ticks": "",
           "title": {
            "standoff": 15
           },
           "zerolinecolor": "white",
           "zerolinewidth": 2
          },
          "yaxis": {
           "automargin": true,
           "gridcolor": "white",
           "linecolor": "white",
           "ticks": "",
           "title": {
            "standoff": 15
           },
           "zerolinecolor": "white",
           "zerolinewidth": 2
          }
         }
        },
        "title": {
         "font": {
          "color": "#4D5663"
         }
        },
        "xaxis": {
         "gridcolor": "#E1E5ED",
         "showgrid": true,
         "tickfont": {
          "color": "#4D5663"
         },
         "title": {
          "font": {
           "color": "#4D5663"
          },
          "text": "Growth"
         },
         "zerolinecolor": "#E1E5ED"
        },
        "yaxis": {
         "gridcolor": "#E1E5ED",
         "showgrid": true,
         "tickfont": {
          "color": "#4D5663"
         },
         "title": {
          "font": {
           "color": "#4D5663"
          },
          "text": "Market Cap"
         },
         "zerolinecolor": "#E1E5ED"
        }
       }
      },
      "text/html": [
       "<div>                            <div id=\"83ef9fcc-58b4-4f2a-9ed0-9d63c2bc5000\" class=\"plotly-graph-div\" style=\"height:525px; width:100%;\"></div>            <script type=\"text/javascript\">                require([\"plotly\"], function(Plotly) {                    window.PLOTLYENV=window.PLOTLYENV || {};\n",
       "                    window.PLOTLYENV.BASE_URL='https://plot.ly';                                    if (document.getElementById(\"83ef9fcc-58b4-4f2a-9ed0-9d63c2bc5000\")) {                    Plotly.newPlot(                        \"83ef9fcc-58b4-4f2a-9ed0-9d63c2bc5000\",                        [{\"line\":{\"color\":\"rgba(255, 153, 51, 1.0)\",\"dash\":\"solid\",\"shape\":\"linear\",\"width\":1.3},\"mode\":\"lines\",\"name\":\"Market Cap\",\"text\":\"\",\"x\":[2169.4500000000003,322.19999999999993,475.56,907.6499999999999,548.5500000000001,738.4499999999999,2961.0,2248.6499999999996,1699.6499999999999,990.0000000000001],\"y\":[2286.43617401,7203.7441,3083.616,763.791384299997,146.4405,2106.89489874,142.599224,5137.0443,917.34716395,286.5658749],\"type\":\"scatter\"}],                        {\"legend\":{\"bgcolor\":\"#F5F6F9\",\"font\":{\"color\":\"#4D5663\"}},\"paper_bgcolor\":\"#F5F6F9\",\"plot_bgcolor\":\"#F5F6F9\",\"template\":{\"data\":{\"barpolar\":[{\"marker\":{\"line\":{\"color\":\"#E5ECF6\",\"width\":0.5},\"pattern\":{\"fillmode\":\"overlay\",\"size\":10,\"solidity\":0.2}},\"type\":\"barpolar\"}],\"bar\":[{\"error_x\":{\"color\":\"#2a3f5f\"},\"error_y\":{\"color\":\"#2a3f5f\"},\"marker\":{\"line\":{\"color\":\"#E5ECF6\",\"width\":0.5},\"pattern\":{\"fillmode\":\"overlay\",\"size\":10,\"solidity\":0.2}},\"type\":\"bar\"}],\"carpet\":[{\"aaxis\":{\"endlinecolor\":\"#2a3f5f\",\"gridcolor\":\"white\",\"linecolor\":\"white\",\"minorgridcolor\":\"white\",\"startlinecolor\":\"#2a3f5f\"},\"baxis\":{\"endlinecolor\":\"#2a3f5f\",\"gridcolor\":\"white\",\"linecolor\":\"white\",\"minorgridcolor\":\"white\",\"startlinecolor\":\"#2a3f5f\"},\"type\":\"carpet\"}],\"choropleth\":[{\"colorbar\":{\"outlinewidth\":0,\"ticks\":\"\"},\"type\":\"choropleth\"}],\"contourcarpet\":[{\"colorbar\":{\"outlinewidth\":0,\"ticks\":\"\"},\"type\":\"contourcarpet\"}],\"contour\":[{\"colorbar\":{\"outlinewidth\":0,\"ticks\":\"\"},\"colorscale\":[[0.0,\"#0d0887\"],[0.1111111111111111,\"#46039f\"],[0.2222222222222222,\"#7201a8\"],[0.3333333333333333,\"#9c179e\"],[0.4444444444444444,\"#bd3786\"],[0.5555555555555556,\"#d8576b\"],[0.6666666666666666,\"#ed7953\"],[0.7777777777777778,\"#fb9f3a\"],[0.8888888888888888,\"#fdca26\"],[1.0,\"#f0f921\"]],\"type\":\"contour\"}],\"heatmapgl\":[{\"colorbar\":{\"outlinewidth\":0,\"ticks\":\"\"},\"colorscale\":[[0.0,\"#0d0887\"],[0.1111111111111111,\"#46039f\"],[0.2222222222222222,\"#7201a8\"],[0.3333333333333333,\"#9c179e\"],[0.4444444444444444,\"#bd3786\"],[0.5555555555555556,\"#d8576b\"],[0.6666666666666666,\"#ed7953\"],[0.7777777777777778,\"#fb9f3a\"],[0.8888888888888888,\"#fdca26\"],[1.0,\"#f0f921\"]],\"type\":\"heatmapgl\"}],\"heatmap\":[{\"colorbar\":{\"outlinewidth\":0,\"ticks\":\"\"},\"colorscale\":[[0.0,\"#0d0887\"],[0.1111111111111111,\"#46039f\"],[0.2222222222222222,\"#7201a8\"],[0.3333333333333333,\"#9c179e\"],[0.4444444444444444,\"#bd3786\"],[0.5555555555555556,\"#d8576b\"],[0.6666666666666666,\"#ed7953\"],[0.7777777777777778,\"#fb9f3a\"],[0.8888888888888888,\"#fdca26\"],[1.0,\"#f0f921\"]],\"type\":\"heatmap\"}],\"histogram2dcontour\":[{\"colorbar\":{\"outlinewidth\":0,\"ticks\":\"\"},\"colorscale\":[[0.0,\"#0d0887\"],[0.1111111111111111,\"#46039f\"],[0.2222222222222222,\"#7201a8\"],[0.3333333333333333,\"#9c179e\"],[0.4444444444444444,\"#bd3786\"],[0.5555555555555556,\"#d8576b\"],[0.6666666666666666,\"#ed7953\"],[0.7777777777777778,\"#fb9f3a\"],[0.8888888888888888,\"#fdca26\"],[1.0,\"#f0f921\"]],\"type\":\"histogram2dcontour\"}],\"histogram2d\":[{\"colorbar\":{\"outlinewidth\":0,\"ticks\":\"\"},\"colorscale\":[[0.0,\"#0d0887\"],[0.1111111111111111,\"#46039f\"],[0.2222222222222222,\"#7201a8\"],[0.3333333333333333,\"#9c179e\"],[0.4444444444444444,\"#bd3786\"],[0.5555555555555556,\"#d8576b\"],[0.6666666666666666,\"#ed7953\"],[0.7777777777777778,\"#fb9f3a\"],[0.8888888888888888,\"#fdca26\"],[1.0,\"#f0f921\"]],\"type\":\"histogram2d\"}],\"histogram\":[{\"marker\":{\"pattern\":{\"fillmode\":\"overlay\",\"size\":10,\"solidity\":0.2}},\"type\":\"histogram\"}],\"mesh3d\":[{\"colorbar\":{\"outlinewidth\":0,\"ticks\":\"\"},\"type\":\"mesh3d\"}],\"parcoords\":[{\"line\":{\"colorbar\":{\"outlinewidth\":0,\"ticks\":\"\"}},\"type\":\"parcoords\"}],\"pie\":[{\"automargin\":true,\"type\":\"pie\"}],\"scatter3d\":[{\"line\":{\"colorbar\":{\"outlinewidth\":0,\"ticks\":\"\"}},\"marker\":{\"colorbar\":{\"outlinewidth\":0,\"ticks\":\"\"}},\"type\":\"scatter3d\"}],\"scattercarpet\":[{\"marker\":{\"colorbar\":{\"outlinewidth\":0,\"ticks\":\"\"}},\"type\":\"scattercarpet\"}],\"scattergeo\":[{\"marker\":{\"colorbar\":{\"outlinewidth\":0,\"ticks\":\"\"}},\"type\":\"scattergeo\"}],\"scattergl\":[{\"marker\":{\"colorbar\":{\"outlinewidth\":0,\"ticks\":\"\"}},\"type\":\"scattergl\"}],\"scattermapbox\":[{\"marker\":{\"colorbar\":{\"outlinewidth\":0,\"ticks\":\"\"}},\"type\":\"scattermapbox\"}],\"scatterpolargl\":[{\"marker\":{\"colorbar\":{\"outlinewidth\":0,\"ticks\":\"\"}},\"type\":\"scatterpolargl\"}],\"scatterpolar\":[{\"marker\":{\"colorbar\":{\"outlinewidth\":0,\"ticks\":\"\"}},\"type\":\"scatterpolar\"}],\"scatter\":[{\"marker\":{\"colorbar\":{\"outlinewidth\":0,\"ticks\":\"\"}},\"type\":\"scatter\"}],\"scatterternary\":[{\"marker\":{\"colorbar\":{\"outlinewidth\":0,\"ticks\":\"\"}},\"type\":\"scatterternary\"}],\"surface\":[{\"colorbar\":{\"outlinewidth\":0,\"ticks\":\"\"},\"colorscale\":[[0.0,\"#0d0887\"],[0.1111111111111111,\"#46039f\"],[0.2222222222222222,\"#7201a8\"],[0.3333333333333333,\"#9c179e\"],[0.4444444444444444,\"#bd3786\"],[0.5555555555555556,\"#d8576b\"],[0.6666666666666666,\"#ed7953\"],[0.7777777777777778,\"#fb9f3a\"],[0.8888888888888888,\"#fdca26\"],[1.0,\"#f0f921\"]],\"type\":\"surface\"}],\"table\":[{\"cells\":{\"fill\":{\"color\":\"#EBF0F8\"},\"line\":{\"color\":\"white\"}},\"header\":{\"fill\":{\"color\":\"#C8D4E3\"},\"line\":{\"color\":\"white\"}},\"type\":\"table\"}]},\"layout\":{\"annotationdefaults\":{\"arrowcolor\":\"#2a3f5f\",\"arrowhead\":0,\"arrowwidth\":1},\"autotypenumbers\":\"strict\",\"coloraxis\":{\"colorbar\":{\"outlinewidth\":0,\"ticks\":\"\"}},\"colorscale\":{\"diverging\":[[0,\"#8e0152\"],[0.1,\"#c51b7d\"],[0.2,\"#de77ae\"],[0.3,\"#f1b6da\"],[0.4,\"#fde0ef\"],[0.5,\"#f7f7f7\"],[0.6,\"#e6f5d0\"],[0.7,\"#b8e186\"],[0.8,\"#7fbc41\"],[0.9,\"#4d9221\"],[1,\"#276419\"]],\"sequential\":[[0.0,\"#0d0887\"],[0.1111111111111111,\"#46039f\"],[0.2222222222222222,\"#7201a8\"],[0.3333333333333333,\"#9c179e\"],[0.4444444444444444,\"#bd3786\"],[0.5555555555555556,\"#d8576b\"],[0.6666666666666666,\"#ed7953\"],[0.7777777777777778,\"#fb9f3a\"],[0.8888888888888888,\"#fdca26\"],[1.0,\"#f0f921\"]],\"sequentialminus\":[[0.0,\"#0d0887\"],[0.1111111111111111,\"#46039f\"],[0.2222222222222222,\"#7201a8\"],[0.3333333333333333,\"#9c179e\"],[0.4444444444444444,\"#bd3786\"],[0.5555555555555556,\"#d8576b\"],[0.6666666666666666,\"#ed7953\"],[0.7777777777777778,\"#fb9f3a\"],[0.8888888888888888,\"#fdca26\"],[1.0,\"#f0f921\"]]},\"colorway\":[\"#636efa\",\"#EF553B\",\"#00cc96\",\"#ab63fa\",\"#FFA15A\",\"#19d3f3\",\"#FF6692\",\"#B6E880\",\"#FF97FF\",\"#FECB52\"],\"font\":{\"color\":\"#2a3f5f\"},\"geo\":{\"bgcolor\":\"white\",\"lakecolor\":\"white\",\"landcolor\":\"#E5ECF6\",\"showlakes\":true,\"showland\":true,\"subunitcolor\":\"white\"},\"hoverlabel\":{\"align\":\"left\"},\"hovermode\":\"closest\",\"mapbox\":{\"style\":\"light\"},\"paper_bgcolor\":\"white\",\"plot_bgcolor\":\"#E5ECF6\",\"polar\":{\"angularaxis\":{\"gridcolor\":\"white\",\"linecolor\":\"white\",\"ticks\":\"\"},\"bgcolor\":\"#E5ECF6\",\"radialaxis\":{\"gridcolor\":\"white\",\"linecolor\":\"white\",\"ticks\":\"\"}},\"scene\":{\"xaxis\":{\"backgroundcolor\":\"#E5ECF6\",\"gridcolor\":\"white\",\"gridwidth\":2,\"linecolor\":\"white\",\"showbackground\":true,\"ticks\":\"\",\"zerolinecolor\":\"white\"},\"yaxis\":{\"backgroundcolor\":\"#E5ECF6\",\"gridcolor\":\"white\",\"gridwidth\":2,\"linecolor\":\"white\",\"showbackground\":true,\"ticks\":\"\",\"zerolinecolor\":\"white\"},\"zaxis\":{\"backgroundcolor\":\"#E5ECF6\",\"gridcolor\":\"white\",\"gridwidth\":2,\"linecolor\":\"white\",\"showbackground\":true,\"ticks\":\"\",\"zerolinecolor\":\"white\"}},\"shapedefaults\":{\"line\":{\"color\":\"#2a3f5f\"}},\"ternary\":{\"aaxis\":{\"gridcolor\":\"white\",\"linecolor\":\"white\",\"ticks\":\"\"},\"baxis\":{\"gridcolor\":\"white\",\"linecolor\":\"white\",\"ticks\":\"\"},\"bgcolor\":\"#E5ECF6\",\"caxis\":{\"gridcolor\":\"white\",\"linecolor\":\"white\",\"ticks\":\"\"}},\"title\":{\"x\":0.05},\"xaxis\":{\"automargin\":true,\"gridcolor\":\"white\",\"linecolor\":\"white\",\"ticks\":\"\",\"title\":{\"standoff\":15},\"zerolinecolor\":\"white\",\"zerolinewidth\":2},\"yaxis\":{\"automargin\":true,\"gridcolor\":\"white\",\"linecolor\":\"white\",\"ticks\":\"\",\"title\":{\"standoff\":15},\"zerolinecolor\":\"white\",\"zerolinewidth\":2}}},\"title\":{\"font\":{\"color\":\"#4D5663\"}},\"xaxis\":{\"gridcolor\":\"#E1E5ED\",\"showgrid\":true,\"tickfont\":{\"color\":\"#4D5663\"},\"title\":{\"font\":{\"color\":\"#4D5663\"},\"text\":\"Growth\"},\"zerolinecolor\":\"#E1E5ED\"},\"yaxis\":{\"gridcolor\":\"#E1E5ED\",\"showgrid\":true,\"tickfont\":{\"color\":\"#4D5663\"},\"title\":{\"font\":{\"color\":\"#4D5663\"},\"text\":\"Market Cap\"},\"zerolinecolor\":\"#E1E5ED\"}},                        {\"showLink\": true, \"linkText\": \"Export to plot.ly\", \"plotlyServerURL\": \"https://plot.ly\", \"responsive\": true}                    ).then(function(){\n",
       "                            \n",
       "var gd = document.getElementById('83ef9fcc-58b4-4f2a-9ed0-9d63c2bc5000');\n",
       "var x = new MutationObserver(function (mutations, observer) {{\n",
       "        var display = window.getComputedStyle(gd).display;\n",
       "        if (!display || display === 'none') {{\n",
       "            console.log([gd, 'removed!']);\n",
       "            Plotly.purge(gd);\n",
       "            observer.disconnect();\n",
       "        }}\n",
       "}});\n",
       "\n",
       "// Listen for the removal of the full notebook cells\n",
       "var notebookContainer = gd.closest('#notebook-container');\n",
       "if (notebookContainer) {{\n",
       "    x.observe(notebookContainer, {childList: true});\n",
       "}}\n",
       "\n",
       "// Listen for the clearing of the current output cell\n",
       "var outputEl = gd.closest('.output');\n",
       "if (outputEl) {{\n",
       "    x.observe(outputEl, {childList: true});\n",
       "}}\n",
       "\n",
       "                        })                };                });            </script>        </div>"
      ]
     },
     "metadata": {},
     "output_type": "display_data"
    }
   ],
   "source": [
    "df5.iplot(x=(['Best']),y='Market Cap',xTitle='Growth',yTitle='Market Cap')"
   ]
  },
  {
   "cell_type": "code",
   "execution_count": null,
   "id": "0790437d",
   "metadata": {},
   "outputs": [],
   "source": []
  }
 ],
 "metadata": {
  "kernelspec": {
   "display_name": "Python 3 (ipykernel)",
   "language": "python",
   "name": "python3"
  },
  "language_info": {
   "codemirror_mode": {
    "name": "ipython",
    "version": 3
   },
   "file_extension": ".py",
   "mimetype": "text/x-python",
   "name": "python",
   "nbconvert_exporter": "python",
   "pygments_lexer": "ipython3",
   "version": "3.9.7"
  }
 },
 "nbformat": 4,
 "nbformat_minor": 5
}
